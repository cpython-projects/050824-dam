{
 "cells": [
  {
   "cell_type": "code",
   "execution_count": 3,
   "id": "114ed53e-65e2-481f-b79f-a8d7a078ddea",
   "metadata": {},
   "outputs": [
    {
     "name": "stdout",
     "output_type": "stream",
     "text": [
      "[('Bob', 23), ('Tom', 25), ('Alice', 34), ('Jack', 54)]\n"
     ]
    }
   ],
   "source": [
    "import operator\n",
    "\n",
    "people = {\n",
    "    'Tom': 25,\n",
    "    'Jack': 54,\n",
    "    'Alice': 34,\n",
    "    'Bob': 23\n",
    "}\n",
    "\n",
    "\n",
    "result = sorted(people.items(), key=operator.itemgetter(1))\n",
    "print(result)"
   ]
  },
  {
   "cell_type": "code",
   "execution_count": 4,
   "id": "e71900c9-f8a4-4a30-9f3b-4ba8dde219de",
   "metadata": {},
   "outputs": [
    {
     "name": "stdout",
     "output_type": "stream",
     "text": [
      "[{'name': 'Bob', 'age': 23}, {'name': 'Tom', 'age': 25}, {'name': 'Alice', 'age': 34}, {'name': 'Jack', 'age': 54}]\n"
     ]
    }
   ],
   "source": [
    "import operator\n",
    "\n",
    "people = [\n",
    "    {'name': 'Tom', 'age': 25},\n",
    "    {'name': 'Jack', 'age': 54},\n",
    "    {'name': 'Alice', 'age': 34},\n",
    "    {'name': 'Bob', 'age': 23}\n",
    "]\n",
    "\n",
    "\n",
    "result = sorted(people, key=operator.itemgetter('age'))\n",
    "print(result)"
   ]
  },
  {
   "cell_type": "code",
   "execution_count": 6,
   "id": "b86e13a4-fcfe-4b16-91b1-2a5259949166",
   "metadata": {},
   "outputs": [
    {
     "name": "stdout",
     "output_type": "stream",
     "text": [
      "Bob 23\n",
      "Alice 34\n",
      "Jack 54\n",
      "Tom 25\n"
     ]
    }
   ],
   "source": [
    "people = {\n",
    "    'Tom': 25,\n",
    "    'Jack': 54,\n",
    "    'Alice': 34,\n",
    "    'Bob': 23\n",
    "}\n",
    "\n",
    "for item in reversed(people):\n",
    "    print(item, people[item])"
   ]
  },
  {
   "cell_type": "code",
   "execution_count": 8,
   "id": "ccd3480d-c36b-4208-9abc-f1e3c1e78131",
   "metadata": {},
   "outputs": [
    {
     "ename": "TypeError",
     "evalue": "'set' object is not reversible",
     "output_type": "error",
     "traceback": [
      "\u001b[1;31m---------------------------------------------------------------------------\u001b[0m",
      "\u001b[1;31mTypeError\u001b[0m                                 Traceback (most recent call last)",
      "Cell \u001b[1;32mIn[8], line 3\u001b[0m\n\u001b[0;32m      1\u001b[0m x \u001b[38;5;241m=\u001b[39m {\u001b[38;5;241m1\u001b[39m, \u001b[38;5;241m2\u001b[39m, \u001b[38;5;241m3\u001b[39m, \u001b[38;5;241m4\u001b[39m, \u001b[38;5;241m5\u001b[39m, \u001b[38;5;241m6\u001b[39m, \u001b[38;5;241m7\u001b[39m}\n\u001b[1;32m----> 3\u001b[0m \u001b[38;5;28;01mfor\u001b[39;00m item \u001b[38;5;129;01min\u001b[39;00m \u001b[38;5;28;43mreversed\u001b[39;49m\u001b[43m(\u001b[49m\u001b[43mx\u001b[49m\u001b[43m)\u001b[49m:\n\u001b[0;32m      4\u001b[0m     \u001b[38;5;28mprint\u001b[39m(item)\n",
      "\u001b[1;31mTypeError\u001b[0m: 'set' object is not reversible"
     ]
    }
   ],
   "source": [
    "x = {1, 2, 3, 4, 5, 6, 7}\n",
    "\n",
    "for item in reversed(x):\n",
    "    print(item)"
   ]
  },
  {
   "cell_type": "code",
   "execution_count": 9,
   "id": "d6be47f0-fad5-4655-bf84-ae6c1095da93",
   "metadata": {},
   "outputs": [
    {
     "name": "stdout",
     "output_type": "stream",
     "text": [
      "(0, 1) (1, 2) (2, 3) (3, 4)\n"
     ]
    }
   ],
   "source": [
    "x = {1, 2, 3, 4}\n",
    "\n",
    "print(*enumerate(x))"
   ]
  },
  {
   "cell_type": "code",
   "execution_count": 10,
   "id": "a708851d-4bcc-452a-9db1-356fa939d096",
   "metadata": {},
   "outputs": [
    {
     "name": "stdout",
     "output_type": "stream",
     "text": [
      "(0, 'Tom') (1, 'Jack') (2, 'Alice') (3, 'Bob')\n"
     ]
    }
   ],
   "source": [
    "people = {\n",
    "    'Tom': 25,\n",
    "    'Jack': 54,\n",
    "    'Alice': 34,\n",
    "    'Bob': 23\n",
    "}\n",
    "\n",
    "print(*enumerate(people))"
   ]
  },
  {
   "cell_type": "code",
   "execution_count": 11,
   "id": "34dcd99e-339d-41c8-afce-1901ea0b1c1a",
   "metadata": {},
   "outputs": [
    {
     "name": "stdout",
     "output_type": "stream",
     "text": [
      "[('P', 1, 1), ('y', 2, 2), ('t', 3, 3)]\n"
     ]
    }
   ],
   "source": [
    "x = 'Python'\n",
    "y = [1, 2, 3, 4, 5, 6]\n",
    "z = {1: 'one', 2: 'two', 3: 'three'}\n",
    "\n",
    "res = list(zip(x, y, z))\n",
    "print(res)\n"
   ]
  },
  {
   "cell_type": "code",
   "execution_count": 13,
   "id": "947e8fca-a941-4c56-991f-215b93a7ae1d",
   "metadata": {},
   "outputs": [
    {
     "name": "stdout",
     "output_type": "stream",
     "text": [
      "20\n"
     ]
    }
   ],
   "source": [
    "from functools import reduce\n",
    "from operator import add\n",
    "\n",
    "def sum_even_numbers(sequence):\n",
    "    even_numbers = filter(lambda item: item % 2 == 0, sequence)\n",
    "    square = map(lambda item: item ** 2, even_numbers)\n",
    "    return reduce(add, square)\n",
    "\n",
    "x = [1, 2, 3, 4, 5]\n",
    "print(sum_even_numbers(x))"
   ]
  },
  {
   "cell_type": "code",
   "execution_count": 15,
   "id": "245c8bd3-6cc4-4dbd-b39e-9eb4ca3fd1ac",
   "metadata": {},
   "outputs": [
    {
     "name": "stdout",
     "output_type": "stream",
     "text": [
      "20\n"
     ]
    }
   ],
   "source": [
    "from functools import reduce\n",
    "from operator import add\n",
    "\n",
    "def sum_even_numbers(sequence):\n",
    "    return sum(map(lambda item: 0 if item % 2 else item ** 2, sequence))\n",
    "\n",
    "x = [1, 2, 3, 4, 5]\n",
    "print(sum_even_numbers(x))"
   ]
  },
  {
   "cell_type": "code",
   "execution_count": 16,
   "id": "d1acd92e-dd1f-4e9f-9f56-269b0f1f25c0",
   "metadata": {},
   "outputs": [
    {
     "name": "stdout",
     "output_type": "stream",
     "text": [
      "9\n"
     ]
    }
   ],
   "source": [
    "from functools import reduce\n",
    "\n",
    "def compose_functions(functions, item):\n",
    "    for func in functions:\n",
    "        item = func(item)\n",
    "\n",
    "    return item\n",
    "\n",
    "add_one = lambda x: x + 1\n",
    "double = lambda x: x * 2\n",
    "subtract_three = lambda x: x - 3\n",
    "\n",
    "functions = [add_one, double, subtract_three]\n",
    "\n",
    "print(compose_functions(functions, 5))"
   ]
  },
  {
   "cell_type": "code",
   "execution_count": 17,
   "id": "d980f906-fb78-4d41-9011-b01c788aacb9",
   "metadata": {},
   "outputs": [
    {
     "name": "stdout",
     "output_type": "stream",
     "text": [
      "25\n"
     ]
    }
   ],
   "source": [
    "from functools import reduce\n",
    "\n",
    "numbers = [1, 2, 3, 4, 5]\n",
    "\n",
    "# Считаем сумму чисел с начальным значением 10\n",
    "result = reduce(lambda acc, x: acc + x, numbers, 10)\n",
    "\n",
    "print(result)  # Вывод: 25"
   ]
  },
  {
   "cell_type": "code",
   "execution_count": 20,
   "id": "6d45e0b8-5157-4123-9323-e50d941b19ca",
   "metadata": {},
   "outputs": [
    {
     "name": "stdout",
     "output_type": "stream",
     "text": [
      "9\n"
     ]
    }
   ],
   "source": [
    "from functools import reduce\n",
    "\n",
    "def compose_functions(functions, item):\n",
    "    return reduce(lambda acc, func: func(acc), functions, item)\n",
    "    \n",
    "\n",
    "add_one = lambda x: x + 1\n",
    "double = lambda x: x * 2\n",
    "subtract_three = lambda x: x - 3\n",
    "\n",
    "functions = [add_one, double, subtract_three]\n",
    "\n",
    "print(compose_functions(functions, 5))"
   ]
  },
  {
   "cell_type": "code",
   "execution_count": 22,
   "id": "8a343e8a-a0c6-4690-bbac-bec989eac56d",
   "metadata": {},
   "outputs": [
    {
     "name": "stdout",
     "output_type": "stream",
     "text": [
      "<itertools.accumulate object at 0x0000026BB2FD7FB0>\n"
     ]
    }
   ],
   "source": [
    "import itertools\n",
    "import operator\n",
    "numbers = [1, 2, 3, 4, 5]\n",
    "result = itertools.accumulate(numbers, operator.mul)\n",
    "print(result)"
   ]
  },
  {
   "cell_type": "code",
   "execution_count": 26,
   "id": "fb5841ea-b140-47c4-a079-fe9c9c9cae72",
   "metadata": {},
   "outputs": [
    {
     "name": "stdout",
     "output_type": "stream",
     "text": [
      "P\n",
      "Py\n",
      "Pyt\n",
      "Pyth\n",
      "Pytho\n",
      "Python\n"
     ]
    }
   ],
   "source": [
    "import itertools\n",
    "import operator\n",
    "numbers = 'Python'\n",
    "result = itertools.accumulate(numbers, lambda x, y: f'{x}{y}')\n",
    "print(*result, sep='\\n')"
   ]
  },
  {
   "cell_type": "code",
   "execution_count": null,
   "id": "d453cf86-552f-4dd7-a0e3-a15c117eddb2",
   "metadata": {},
   "outputs": [],
   "source": []
  }
 ],
 "metadata": {
  "kernelspec": {
   "display_name": "Python 3 (ipykernel)",
   "language": "python",
   "name": "python3"
  },
  "language_info": {
   "codemirror_mode": {
    "name": "ipython",
    "version": 3
   },
   "file_extension": ".py",
   "mimetype": "text/x-python",
   "name": "python",
   "nbconvert_exporter": "python",
   "pygments_lexer": "ipython3",
   "version": "3.12.4"
  }
 },
 "nbformat": 4,
 "nbformat_minor": 5
}
