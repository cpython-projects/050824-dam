{
 "cells": [
  {
   "cell_type": "code",
   "execution_count": 9,
   "id": "99791d9e-943f-46d0-bbca-e99ea8e9ac69",
   "metadata": {},
   "outputs": [
    {
     "name": "stdin",
     "output_type": "stream",
     "text": [
      "text>> uiyuiyui\n"
     ]
    },
    {
     "name": "stdout",
     "output_type": "stream",
     "text": [
      "Error Second arg is not int\n"
     ]
    }
   ],
   "source": [
    "from collections import Counter\n",
    "import string\n",
    "\n",
    "def count_words(text, n=2):\n",
    "    \"\"\"\n",
    "    \n",
    "    \"\"\"\n",
    "    if not isinstance(text, str):\n",
    "        raise TypeError('First arg is not str')\n",
    "    if not isinstance(n, int):\n",
    "        raise TypeError('Second arg is not int')\n",
    "        \n",
    "    text = text.lower()\n",
    "    for item in string.punctuation:\n",
    "        text = text.replace(item, ' ')\n",
    "    words = text.split()\n",
    "\n",
    "    result = Counter(words)\n",
    "    return result.most_common(n)\n",
    "    \n",
    "text = input('text>>')\n",
    "\n",
    "try:\n",
    "    res = count_words(text, '1')\n",
    "    print(res)\n",
    "except TypeError as error:\n",
    "    print('Error', error)\n"
   ]
  },
  {
   "cell_type": "code",
   "execution_count": 17,
   "id": "479bc6fb-9e3c-4187-99df-d85b928b9ef0",
   "metadata": {},
   "outputs": [
    {
     "name": "stdout",
     "output_type": "stream",
     "text": [
      "name=Alice, age=25, person=New York\n",
      "name=Bob, age=30, person=London\n",
      "name=Carol, age=35, person=Paris\n"
     ]
    }
   ],
   "source": [
    "from collections import namedtuple\n",
    "\n",
    "Person = namedtuple('Person', 'name age city')\n",
    "people = [\n",
    "    Person(name=\"Alice\", age=25, city=\"New York\"),\n",
    "    Person(name=\"Bob\", age=30, city=\"London\"),\n",
    "    Person(\"Carol\", 35, \"Paris\")\n",
    "]\n",
    "\n",
    "\n",
    "for person in people:\n",
    "    print(f'name={person.name}, age={person.age}, person={person.city}')"
   ]
  },
  {
   "cell_type": "code",
   "execution_count": 15,
   "id": "527db054-cbdd-4e4c-a824-634aacc05d4e",
   "metadata": {},
   "outputs": [
    {
     "name": "stdout",
     "output_type": "stream",
     "text": [
      "[\n",
      "    [\n",
      "        \"Alice\",\n",
      "        25,\n",
      "        \"New York\"\n",
      "    ],\n",
      "    [\n",
      "        \"Bob\",\n",
      "        30,\n",
      "        \"London\"\n",
      "    ],\n",
      "    [\n",
      "        \"Carol\",\n",
      "        35,\n",
      "        \"Paris\"\n",
      "    ]\n",
      "]\n"
     ]
    }
   ],
   "source": [
    "import json\n",
    "\n",
    "res = json.dumps(people, indent=4)\n",
    "\n",
    "print(res)"
   ]
  },
  {
   "cell_type": "code",
   "execution_count": 16,
   "id": "a312d44f-b6fb-4bf6-a496-f524894bbc4c",
   "metadata": {},
   "outputs": [
    {
     "name": "stdout",
     "output_type": "stream",
     "text": [
      "[['Alice', 25, 'New York'], ['Bob', 30, 'London'], ['Carol', 35, 'Paris']]\n"
     ]
    }
   ],
   "source": [
    "res = json.loads(res)\n",
    "print(res)"
   ]
  },
  {
   "cell_type": "code",
   "execution_count": 21,
   "id": "5ab2c8f0-bb41-406a-a5fa-bd7f895bf473",
   "metadata": {},
   "outputs": [
    {
     "name": "stdin",
     "output_type": "stream",
     "text": [
      "key= apple\n",
      "get (G) / setdefault (S)?  kjhjkhjk\n"
     ]
    },
    {
     "name": "stdout",
     "output_type": "stream",
     "text": [
      "Undefined method\n"
     ]
    }
   ],
   "source": [
    "my_dict = {'apple': 5, 'banana': 6, 'cherry': 7}\n",
    "\n",
    "def get_value_from_dict(my_dict, key, method):\n",
    "    if method.lower() == 'g':\n",
    "        return my_dict.get(key)\n",
    "\n",
    "    if method.lower() == 's':\n",
    "        return my_dict.setdefault(key, None)\n",
    "\n",
    "    raise ValueError('Undefined method')\n",
    "    \n",
    "\n",
    "key = input('key=')\n",
    "method = input('get (G) / setdefault (S)? ')\n",
    "\n",
    "try:\n",
    "    res = get_value_from_dict(my_dict, key, method)\n",
    "    print(res)\n",
    "    print(my_dict)\n",
    "except Exception as error:\n",
    "    print(error)\n",
    "\n"
   ]
  },
  {
   "cell_type": "code",
   "execution_count": 24,
   "id": "38db3171-52c3-4875-b0eb-34384f117abe",
   "metadata": {},
   "outputs": [
    {
     "name": "stdout",
     "output_type": "stream",
     "text": [
      "None\n"
     ]
    }
   ],
   "source": [
    "def read_data(filename):\n",
    "    try:\n",
    "        with open(filename) as file:\n",
    "            number1 = int(file.readline())\n",
    "            number2 = int(file.readline())\n",
    "\n",
    "            if number1 < 0 or number2 < 0:\n",
    "                raise ValueError\n",
    "            \n",
    "            return number1 / number2\n",
    "    except FileNotFoundError:\n",
    "        return None\n",
    "    except ValueError:\n",
    "        print('number1 < 0 or number2 < 0; number1 or number2 not int')\n",
    "        return None\n",
    "    except ZeroDivisionError:\n",
    "        return None\n",
    "    \n",
    "with open('data.txt', 'w') as file:\n",
    "    file.write('10\\n5')\n",
    "\n",
    "\n",
    "res = read_data('data1.txt')\n",
    "print(res)"
   ]
  },
  {
   "cell_type": "code",
   "execution_count": null,
   "id": "43ce0d41-3007-4d88-a7fe-fdf382c86142",
   "metadata": {},
   "outputs": [],
   "source": []
  }
 ],
 "metadata": {
  "kernelspec": {
   "display_name": "Python 3 (ipykernel)",
   "language": "python",
   "name": "python3"
  },
  "language_info": {
   "codemirror_mode": {
    "name": "ipython",
    "version": 3
   },
   "file_extension": ".py",
   "mimetype": "text/x-python",
   "name": "python",
   "nbconvert_exporter": "python",
   "pygments_lexer": "ipython3",
   "version": "3.12.5"
  }
 },
 "nbformat": 4,
 "nbformat_minor": 5
}
