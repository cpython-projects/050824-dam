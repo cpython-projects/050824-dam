{
 "cells": [
  {
   "cell_type": "code",
   "execution_count": 1,
   "id": "1f67adac-f3f5-4406-a64e-5fab9770015d",
   "metadata": {},
   "outputs": [
    {
     "name": "stdout",
     "output_type": "stream",
     "text": [
      "147\n",
      "12***34***45***56\n"
     ]
    }
   ],
   "source": [
    "def func(*args):\n",
    "    if all(isinstance(item, str) for item in args):\n",
    "        return '***'.join(args)\n",
    "    if all(isinstance(item, int | float) for item in args):\n",
    "        return sum(args)\n",
    "    return None\n",
    "\n",
    "\n",
    "print(func(12, 34, 45, 56))\n",
    "print(func('12', '34', '45', '56'))\n",
    "    "
   ]
  },
  {
   "cell_type": "code",
   "execution_count": 2,
   "id": "458ed55d-8a78-4fbc-bdf2-a5dd470cfac1",
   "metadata": {},
   "outputs": [
    {
     "name": "stdout",
     "output_type": "stream",
     "text": [
      "2340931241264\n",
      "2340944250736\n",
      "146308202579\n",
      "146309015671\n"
     ]
    }
   ],
   "source": [
    "class MyClass:\n",
    "    pass\n",
    "\n",
    "\n",
    "x = MyClass()\n",
    "\n",
    "print(id(MyClass))\n",
    "print(id(x))\n",
    "\n",
    "print(hash(MyClass))\n",
    "print(hash(x))\n",
    "\n",
    "x.__hash__()"
   ]
  },
  {
   "cell_type": "code",
   "execution_count": 11,
   "id": "5816515c-6ddd-45aa-b39b-6079e439d7b2",
   "metadata": {},
   "outputs": [
    {
     "name": "stdout",
     "output_type": "stream",
     "text": [
      "{'name': 'Oleh'}\n",
      "Tom\n",
      "20\n",
      "Berlin\n",
      "Bob\n"
     ]
    }
   ],
   "source": [
    "class Student:\n",
    "\n",
    "    def __init__(self, name):\n",
    "        self.name = name\n",
    "\n",
    "\n",
    "    def __str__(self):\n",
    "        return self.name\n",
    "\n",
    "\n",
    "st1 = Student('Oleh')\n",
    "st2 = Student('Bob')\n",
    "print(st1.__dict__)\n",
    "\n",
    "st1.__dict__['age'] = 20\n",
    "st1.__dict__['name'] = 'Tom'\n",
    "st1.city = 'Berlin'\n",
    "\n",
    "print(st1.name)\n",
    "print(st1.age)\n",
    "print(st1.city)\n",
    "\n",
    "print(st2)"
   ]
  },
  {
   "cell_type": "code",
   "execution_count": 25,
   "id": "ecfa1f2f-f4b9-47f7-b3bd-348e6b75dac7",
   "metadata": {},
   "outputs": [
    {
     "name": "stdout",
     "output_type": "stream",
     "text": [
      "Ivanov B.\n",
      "Ivanov B.\n",
      "Student({'first_name': 'Bob', 'last_name': 'Ivanov', 'count': 1})\n",
      "Student({'first_name': 'Bob', 'last_name': 'Ivanov', 'date_of_birth': datetime.datetime(2000, 1, 1, 0, 0), 'count': 2})\n",
      "1\n",
      "2\n",
      "2\n"
     ]
    }
   ],
   "source": [
    "from datetime import datetime\n",
    "\n",
    "class Student:\n",
    "    count = 0\n",
    "\n",
    "    def __init__(self, first_name, last_name, *args, **kwargs):\n",
    "        self.first_name = first_name.strip().title()\n",
    "        self.last_name = last_name.strip().title()\n",
    "        # args, kwargs\n",
    "        if args:\n",
    "            try:\n",
    "                self.date_of_birth = datetime.strptime(args[0], '%d-%m-%Y')\n",
    "            except:\n",
    "                pass\n",
    "        Student.count += 1\n",
    "        self.count = Student.count\n",
    "\n",
    "    def __str__(self):\n",
    "        return f'{self.last_name} {self.first_name[0]}.'\n",
    "\n",
    "    def __repr__(self):\n",
    "        return f'Student({self.__dict__})'\n",
    "\n",
    "\n",
    "x = Student('Bob', 'Ivanov')\n",
    "y = Student('Bob', 'Ivanov', '01-01-2000')\n",
    "\n",
    "print(x)\n",
    "print(y)\n",
    "\n",
    "print(x.__repr__())\n",
    "print(y.__repr__())\n",
    "\n",
    "print(x.count)\n",
    "print(y.count)\n",
    "print(Student.count)"
   ]
  },
  {
   "cell_type": "code",
   "execution_count": 17,
   "id": "f7817391-8d01-4878-9a92-c37a0da25cc5",
   "metadata": {},
   "outputs": [
    {
     "name": "stdout",
     "output_type": "stream",
     "text": [
      "Help on class datetime in module datetime:\n",
      "\n",
      "class datetime(date)\n",
      " |  datetime(year, month, day[, hour[, minute[, second[, microsecond[,tzinfo]]]]])\n",
      " |\n",
      " |  The year, month and day arguments are required. tzinfo may be None, or an\n",
      " |  instance of a tzinfo subclass. The remaining arguments may be ints.\n",
      " |\n",
      " |  Method resolution order:\n",
      " |      datetime\n",
      " |      date\n",
      " |      builtins.object\n",
      " |\n",
      " |  Methods defined here:\n",
      " |\n",
      " |  __add__(self, value, /)\n",
      " |      Return self+value.\n",
      " |\n",
      " |  __eq__(self, value, /)\n",
      " |      Return self==value.\n",
      " |\n",
      " |  __ge__(self, value, /)\n",
      " |      Return self>=value.\n",
      " |\n",
      " |  __getattribute__(self, name, /)\n",
      " |      Return getattr(self, name).\n",
      " |\n",
      " |  __gt__(self, value, /)\n",
      " |      Return self>value.\n",
      " |\n",
      " |  __hash__(self, /)\n",
      " |      Return hash(self).\n",
      " |\n",
      " |  __le__(self, value, /)\n",
      " |      Return self<=value.\n",
      " |\n",
      " |  __lt__(self, value, /)\n",
      " |      Return self<value.\n",
      " |\n",
      " |  __ne__(self, value, /)\n",
      " |      Return self!=value.\n",
      " |\n",
      " |  __radd__(self, value, /)\n",
      " |      Return value+self.\n",
      " |\n",
      " |  __reduce__(...)\n",
      " |      __reduce__() -> (cls, state)\n",
      " |\n",
      " |  __reduce_ex__(...)\n",
      " |      __reduce_ex__(proto) -> (cls, state)\n",
      " |\n",
      " |  __repr__(self, /)\n",
      " |      Return repr(self).\n",
      " |\n",
      " |  __rsub__(self, value, /)\n",
      " |      Return value-self.\n",
      " |\n",
      " |  __str__(self, /)\n",
      " |      Return str(self).\n",
      " |\n",
      " |  __sub__(self, value, /)\n",
      " |      Return self-value.\n",
      " |\n",
      " |  astimezone(...)\n",
      " |      tz -> convert to local time in new timezone tz\n",
      " |\n",
      " |  ctime(...)\n",
      " |      Return ctime() style string.\n",
      " |\n",
      " |  date(...)\n",
      " |      Return date object with same year, month and day.\n",
      " |\n",
      " |  dst(...)\n",
      " |      Return self.tzinfo.dst(self).\n",
      " |\n",
      " |  isoformat(...)\n",
      " |      [sep] -> string in ISO 8601 format, YYYY-MM-DDT[HH[:MM[:SS[.mmm[uuu]]]]][+HH:MM].\n",
      " |      sep is used to separate the year from the time, and defaults to 'T'.\n",
      " |      The optional argument timespec specifies the number of additional terms\n",
      " |      of the time to include. Valid options are 'auto', 'hours', 'minutes',\n",
      " |      'seconds', 'milliseconds' and 'microseconds'.\n",
      " |\n",
      " |  replace(...)\n",
      " |      Return datetime with new specified fields.\n",
      " |\n",
      " |  time(...)\n",
      " |      Return time object with same time but with tzinfo=None.\n",
      " |\n",
      " |  timestamp(...)\n",
      " |      Return POSIX timestamp as float.\n",
      " |\n",
      " |  timetuple(...)\n",
      " |      Return time tuple, compatible with time.localtime().\n",
      " |\n",
      " |  timetz(...)\n",
      " |      Return time object with same time and tzinfo.\n",
      " |\n",
      " |  tzname(...)\n",
      " |      Return self.tzinfo.tzname(self).\n",
      " |\n",
      " |  utcoffset(...)\n",
      " |      Return self.tzinfo.utcoffset(self).\n",
      " |\n",
      " |  utctimetuple(...)\n",
      " |      Return UTC time tuple, compatible with time.localtime().\n",
      " |\n",
      " |  ----------------------------------------------------------------------\n",
      " |  Class methods defined here:\n",
      " |\n",
      " |  combine(...)\n",
      " |      date, time -> datetime with same date and time fields\n",
      " |\n",
      " |  fromisoformat(...)\n",
      " |      string -> datetime from a string in most ISO 8601 formats\n",
      " |\n",
      " |  fromtimestamp(...)\n",
      " |      timestamp[, tz] -> tz's local time from POSIX timestamp.\n",
      " |\n",
      " |  now(tz=None)\n",
      " |      Returns new datetime object representing current time local to tz.\n",
      " |\n",
      " |        tz\n",
      " |          Timezone object.\n",
      " |\n",
      " |      If no tz is specified, uses local timezone.\n",
      " |\n",
      " |  strptime(...)\n",
      " |      string, format -> new datetime parsed from a string (like time.strptime()).\n",
      " |\n",
      " |  utcfromtimestamp(...)\n",
      " |      Construct a naive UTC datetime from a POSIX timestamp.\n",
      " |\n",
      " |  utcnow(...)\n",
      " |      Return a new datetime representing UTC day and time.\n",
      " |\n",
      " |  ----------------------------------------------------------------------\n",
      " |  Static methods defined here:\n",
      " |\n",
      " |  __new__(*args, **kwargs)\n",
      " |      Create and return a new object.  See help(type) for accurate signature.\n",
      " |\n",
      " |  ----------------------------------------------------------------------\n",
      " |  Data descriptors defined here:\n",
      " |\n",
      " |  fold\n",
      " |\n",
      " |  hour\n",
      " |\n",
      " |  microsecond\n",
      " |\n",
      " |  minute\n",
      " |\n",
      " |  second\n",
      " |\n",
      " |  tzinfo\n",
      " |\n",
      " |  ----------------------------------------------------------------------\n",
      " |  Data and other attributes defined here:\n",
      " |\n",
      " |  max = datetime.datetime(9999, 12, 31, 23, 59, 59, 999999)\n",
      " |\n",
      " |  min = datetime.datetime(1, 1, 1, 0, 0)\n",
      " |\n",
      " |  resolution = datetime.timedelta(microseconds=1)\n",
      " |\n",
      " |  ----------------------------------------------------------------------\n",
      " |  Methods inherited from date:\n",
      " |\n",
      " |  __format__(...)\n",
      " |      Formats self with strftime.\n",
      " |\n",
      " |  isocalendar(...)\n",
      " |      Return a named tuple containing ISO year, week number, and weekday.\n",
      " |\n",
      " |  isoweekday(...)\n",
      " |      Return the day of the week represented by the date.\n",
      " |      Monday == 1 ... Sunday == 7\n",
      " |\n",
      " |  strftime(...)\n",
      " |      format -> strftime() style string.\n",
      " |\n",
      " |  toordinal(...)\n",
      " |      Return proleptic Gregorian ordinal.  January 1 of year 1 is day 1.\n",
      " |\n",
      " |  weekday(...)\n",
      " |      Return the day of the week represented by the date.\n",
      " |      Monday == 0 ... Sunday == 6\n",
      " |\n",
      " |  ----------------------------------------------------------------------\n",
      " |  Class methods inherited from date:\n",
      " |\n",
      " |  fromisocalendar(...)\n",
      " |      int, int, int -> Construct a date from the ISO year, week number and weekday.\n",
      " |\n",
      " |      This is the inverse of the date.isocalendar() function\n",
      " |\n",
      " |  fromordinal(...)\n",
      " |      int -> date corresponding to a proleptic Gregorian ordinal.\n",
      " |\n",
      " |  today(...)\n",
      " |      Current date or datetime:  same as self.__class__.fromtimestamp(time.time()).\n",
      " |\n",
      " |  ----------------------------------------------------------------------\n",
      " |  Data descriptors inherited from date:\n",
      " |\n",
      " |  day\n",
      " |\n",
      " |  month\n",
      " |\n",
      " |  year\n",
      "\n",
      "None\n"
     ]
    }
   ],
   "source": [
    "import datetime\n",
    "print(help(datetime.datetime))"
   ]
  },
  {
   "cell_type": "code",
   "execution_count": 26,
   "id": "b77ac149-e3dc-4112-9230-1b57f297f8b1",
   "metadata": {},
   "outputs": [
    {
     "name": "stdout",
     "output_type": "stream",
     "text": [
      "False\n"
     ]
    }
   ],
   "source": [
    "x = True\n",
    "print(type(x).__name__ == 'int')"
   ]
  },
  {
   "cell_type": "code",
   "execution_count": 27,
   "id": "f0f7f53d-4f56-4a3c-b84a-2e3f57d7a806",
   "metadata": {},
   "outputs": [
    {
     "name": "stdout",
     "output_type": "stream",
     "text": [
      "bool\n"
     ]
    }
   ],
   "source": [
    "x = True\n",
    "print(type(x).__name__)"
   ]
  },
  {
   "cell_type": "code",
   "execution_count": 28,
   "id": "e294ffe4-122e-4a31-8936-ac8e20c41395",
   "metadata": {},
   "outputs": [
    {
     "name": "stdout",
     "output_type": "stream",
     "text": [
      "True\n"
     ]
    }
   ],
   "source": [
    "x = True\n",
    "print(isinstance(x, int))"
   ]
  },
  {
   "cell_type": "code",
   "execution_count": 32,
   "id": "3ceec0ac-588f-43ec-890f-27c0006f5db2",
   "metadata": {},
   "outputs": [
    {
     "name": "stdout",
     "output_type": "stream",
     "text": [
      "4 x 5\n",
      "Hello x world\n"
     ]
    },
    {
     "ename": "TypeError",
     "evalue": "can't multiply sequence by non-int of type 'str'",
     "output_type": "error",
     "traceback": [
      "\u001b[1;31m---------------------------------------------------------------------------\u001b[0m",
      "\u001b[1;31mTypeError\u001b[0m                                 Traceback (most recent call last)",
      "Cell \u001b[1;32mIn[32], line 19\u001b[0m\n\u001b[0;32m     16\u001b[0m \u001b[38;5;28mprint\u001b[39m(x)\n\u001b[0;32m     17\u001b[0m \u001b[38;5;28mprint\u001b[39m(y)\n\u001b[1;32m---> 19\u001b[0m \u001b[38;5;28mprint\u001b[39m(\u001b[43my\u001b[49m\u001b[38;5;241;43m.\u001b[39;49m\u001b[43marea\u001b[49m\u001b[43m(\u001b[49m\u001b[43m)\u001b[49m)\n",
      "Cell \u001b[1;32mIn[32], line 8\u001b[0m, in \u001b[0;36mRectangle.area\u001b[1;34m(self)\u001b[0m\n\u001b[0;32m      7\u001b[0m \u001b[38;5;28;01mdef\u001b[39;00m \u001b[38;5;21marea\u001b[39m(\u001b[38;5;28mself\u001b[39m):\n\u001b[1;32m----> 8\u001b[0m     \u001b[38;5;28;01mreturn\u001b[39;00m \u001b[38;5;28;43mself\u001b[39;49m\u001b[38;5;241;43m.\u001b[39;49m\u001b[43mwidth\u001b[49m\u001b[43m \u001b[49m\u001b[38;5;241;43m*\u001b[39;49m\u001b[43m \u001b[49m\u001b[38;5;28;43mself\u001b[39;49m\u001b[38;5;241;43m.\u001b[39;49m\u001b[43mheight\u001b[49m\n",
      "\u001b[1;31mTypeError\u001b[0m: can't multiply sequence by non-int of type 'str'"
     ]
    }
   ],
   "source": [
    "class Rectangle:\n",
    "\n",
    "    def __init__(self, width: int | float = 0, height: int | float = 0):\n",
    "        if isinstance(width, int | float) and isinstance(height, int | float):\n",
    "            self.width = width\n",
    "            self.height = height\n",
    "        else:\n",
    "            raise TypeError()\n",
    "\n",
    "    def area(self):\n",
    "        return self.width * self.height\n",
    "        \n",
    "    def __str__(self):\n",
    "        return f'{self.width} x {self.height}'\n",
    "\n",
    "\n",
    "x = Rectangle(4, 5)\n",
    "y = Rectangle('Hello', 'world')\n",
    "print(x)\n",
    "print(y)\n",
    "\n",
    "print(y.area())"
   ]
  },
  {
   "cell_type": "code",
   "execution_count": null,
   "id": "38edd66c-a671-44a9-8c83-ff5a0b084ed0",
   "metadata": {},
   "outputs": [],
   "source": []
  }
 ],
 "metadata": {
  "kernelspec": {
   "display_name": "Python 3 (ipykernel)",
   "language": "python",
   "name": "python3"
  },
  "language_info": {
   "codemirror_mode": {
    "name": "ipython",
    "version": 3
   },
   "file_extension": ".py",
   "mimetype": "text/x-python",
   "name": "python",
   "nbconvert_exporter": "python",
   "pygments_lexer": "ipython3",
   "version": "3.12.4"
  }
 },
 "nbformat": 4,
 "nbformat_minor": 5
}
