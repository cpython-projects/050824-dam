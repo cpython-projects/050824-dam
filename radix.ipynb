{
  "nbformat": 4,
  "nbformat_minor": 0,
  "metadata": {
    "colab": {
      "provenance": [],
      "authorship_tag": "ABX9TyMxgSgUM37vMyH3tOtYT9JA",
      "include_colab_link": true
    },
    "kernelspec": {
      "name": "python3",
      "display_name": "Python 3"
    },
    "language_info": {
      "name": "python"
    }
  },
  "cells": [
    {
      "cell_type": "markdown",
      "metadata": {
        "id": "view-in-github",
        "colab_type": "text"
      },
      "source": [
        "<a href=\"https://colab.research.google.com/github/cpython-projects/050824-dam/blob/main/radix.ipynb\" target=\"_parent\"><img src=\"https://colab.research.google.com/assets/colab-badge.svg\" alt=\"Open In Colab\"/></a>"
      ]
    },
    {
      "cell_type": "code",
      "execution_count": 1,
      "metadata": {
        "colab": {
          "base_uri": "https://localhost:8080/"
        },
        "id": "oi2YuZeKCPwX",
        "outputId": "8fb9a595-5948-43f0-e5be-e08416f1e7c0"
      },
      "outputs": [
        {
          "output_type": "stream",
          "name": "stdout",
          "text": [
            "[2, 24, 45, 66, 75, 90, 170, 802]\n"
          ]
        }
      ],
      "source": [
        "from collections import deque\n",
        "\n",
        "\n",
        "def radix_sort(nums):\n",
        "    max_num = max(nums)  # Найдем максимальное число для определения числа разрядов\n",
        "    max_digits = len(str(max_num))  # Число разрядов в максимальном числе\n",
        "    bin_list = [deque() for _ in range(10)]  # Создадим список очередей для каждой цифры (0-9)\n",
        "\n",
        "    k = 1  # Множитель для извлечения цифр\n",
        "    for _ in range(max_digits):\n",
        "        # Разместим числа по корзинам в зависимости от текущей значимой цифры\n",
        "        for num in nums:\n",
        "            digit = (num // k) % 10\n",
        "            bin_list[digit].append(num)\n",
        "\n",
        "        nums.clear()  # Очистим список, чтобы заполнить отсортированными значениями\n",
        "\n",
        "        # Соберем числа обратно в исходный список, поочередно извлекая их из корзин\n",
        "        for q in bin_list:\n",
        "            while q:\n",
        "                nums.append(q.popleft())\n",
        "\n",
        "        k *= 10  # Увеличиваем множитель, чтобы перейти к следующей цифре\n",
        "\n",
        "    return nums\n",
        "\n",
        "\n",
        "if __name__ == '__main__':\n",
        "    nums = [170, 45, 75, 90, 802, 24, 2, 66]\n",
        "    print(radix_sort(nums))  # [2, 24, 45, 66, 75, 90, 170, 802]"
      ]
    }
  ]
}