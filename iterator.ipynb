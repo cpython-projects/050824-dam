{
 "cells": [
  {
   "cell_type": "markdown",
   "id": "0263cce5-fc55-4200-b8be-c94fc167ca67",
   "metadata": {},
   "source": [
    "1 Bob Simson 19.58$ decorations\n",
    "2 Mary 66.7$ food\n",
    "3 Mary 98.91$ toys\n",
    "4 Aleksa 72.29$ drinks\n",
    "5 Maria Simson 84.48$ food\n",
    "6 Aleksa 100.41$ accessories\n",
    "7 Mary 19.9$ accessories\n",
    "8 Bob Simson 83.88$ drinks\n",
    "9 Bob Simson 58.21$ instruments\n",
    "10 Maria Simson 20.61$ accessories\n",
    "11 Aleksa 37.74$ drinks\n",
    "12 Mary 12.32$ drinks"
   ]
  },
  {
   "cell_type": "code",
   "execution_count": null,
   "id": "b7e4b310-cd0a-4d3d-8ae2-a28263801cb8",
   "metadata": {},
   "outputs": [],
   "source": [
    "def get_numbers(file_name):\n",
    "    numbers = []\n",
    "    with open(file_name) as file:\n",
    "        for line in file:\n",
    "            words = line.lstrip('0123456789').split()\n",
    "            for word in words:\n",
    "                try:\n",
    "                    numbers.append(float(word.replace('$', '')))\n",
    "                except ValueError:\n",
    "                    pass\n",
    "    return numbers\n",
    "\n",
    "\n",
    "print(get_numbers('data.txt'))"
   ]
  },
  {
   "cell_type": "code",
   "execution_count": null,
   "id": "ffc22f61-4c63-4b40-8f75-e5c1c7f6deb5",
   "metadata": {},
   "outputs": [],
   "source": [
    "def get_numbers(file_name):\n",
    "    numbers = []\n",
    "    file = None\n",
    "    try:\n",
    "        file = open(file_name)\n",
    "    except FileNotFoundError:\n",
    "        print('File not found')\n",
    "    else:\n",
    "        for line in file:\n",
    "            words = line.lstrip('0123456789').split()\n",
    "            for word in words:\n",
    "                try:\n",
    "                    numbers.append(float(word.replace('$', '')))\n",
    "                except ValueError:\n",
    "                    pass\n",
    "    finally:\n",
    "        if file:\n",
    "            file.close()\n",
    "    return numbers\n",
    "\n",
    "\n",
    "print(get_numbers('data.txt'))"
   ]
  },
  {
   "cell_type": "code",
   "execution_count": 6,
   "id": "b3f31619-e780-46db-974f-dce381894cfb",
   "metadata": {},
   "outputs": [
    {
     "name": "stdout",
     "output_type": "stream",
     "text": [
      "<list_iterator object at 0x000002280D2B2740>\n"
     ]
    }
   ],
   "source": [
    "x = [1, 2, 3]\n",
    "\n",
    "it = x.__iter__()\n",
    "print(it)"
   ]
  },
  {
   "cell_type": "code",
   "execution_count": 7,
   "id": "2c300689-63c8-4c53-a15f-19c5f979d57d",
   "metadata": {},
   "outputs": [
    {
     "name": "stdout",
     "output_type": "stream",
     "text": [
      "1\n"
     ]
    }
   ],
   "source": [
    "print(it.__next__())"
   ]
  },
  {
   "cell_type": "code",
   "execution_count": 8,
   "id": "fc59e527-eae3-4b08-9390-5087632ae569",
   "metadata": {},
   "outputs": [
    {
     "name": "stdout",
     "output_type": "stream",
     "text": [
      "2\n"
     ]
    }
   ],
   "source": [
    "print(it.__next__())"
   ]
  },
  {
   "cell_type": "code",
   "execution_count": 9,
   "id": "1d52d52e-62f5-4d3d-a891-4470d73014bf",
   "metadata": {},
   "outputs": [
    {
     "name": "stdout",
     "output_type": "stream",
     "text": [
      "3\n"
     ]
    }
   ],
   "source": [
    "print(it.__next__())"
   ]
  },
  {
   "cell_type": "code",
   "execution_count": 10,
   "id": "7fc241c0-8704-4ac6-877a-61b8d8142d90",
   "metadata": {},
   "outputs": [
    {
     "ename": "StopIteration",
     "evalue": "",
     "output_type": "error",
     "traceback": [
      "\u001b[1;31m---------------------------------------------------------------------------\u001b[0m",
      "\u001b[1;31mStopIteration\u001b[0m                             Traceback (most recent call last)",
      "Cell \u001b[1;32mIn[10], line 1\u001b[0m\n\u001b[1;32m----> 1\u001b[0m \u001b[38;5;28mprint\u001b[39m(\u001b[43mit\u001b[49m\u001b[38;5;241;43m.\u001b[39;49m\u001b[38;5;21;43m__next__\u001b[39;49m\u001b[43m(\u001b[49m\u001b[43m)\u001b[49m)\n",
      "\u001b[1;31mStopIteration\u001b[0m: "
     ]
    }
   ],
   "source": [
    "print(it.__next__())"
   ]
  },
  {
   "cell_type": "code",
   "execution_count": 11,
   "id": "91519a4e-70fd-41ff-a73b-cd66b3b8da94",
   "metadata": {},
   "outputs": [
    {
     "ename": "AttributeError",
     "evalue": "'list' object has no attribute '__next__'",
     "output_type": "error",
     "traceback": [
      "\u001b[1;31m---------------------------------------------------------------------------\u001b[0m",
      "\u001b[1;31mAttributeError\u001b[0m                            Traceback (most recent call last)",
      "Cell \u001b[1;32mIn[11], line 2\u001b[0m\n\u001b[0;32m      1\u001b[0m x \u001b[38;5;241m=\u001b[39m [\u001b[38;5;241m1\u001b[39m, \u001b[38;5;241m2\u001b[39m, \u001b[38;5;241m3\u001b[39m, \u001b[38;5;241m4\u001b[39m]\n\u001b[1;32m----> 2\u001b[0m \u001b[38;5;28mprint\u001b[39m(\u001b[43mx\u001b[49m\u001b[38;5;241;43m.\u001b[39;49m\u001b[38;5;21;43m__next__\u001b[39;49m())\n",
      "\u001b[1;31mAttributeError\u001b[0m: 'list' object has no attribute '__next__'"
     ]
    }
   ],
   "source": [
    "x = [1, 2, 3, 4]\n",
    "print(x.__next__())"
   ]
  },
  {
   "cell_type": "code",
   "execution_count": 12,
   "id": "bac63dd2-5f11-44a8-8ae1-8371dc455022",
   "metadata": {},
   "outputs": [
    {
     "name": "stdout",
     "output_type": "stream",
     "text": [
      "1\n",
      "2\n",
      "1\n",
      "2\n",
      "3\n"
     ]
    }
   ],
   "source": [
    "x = [1, 2, 3, 4]\n",
    "\n",
    "it1 = iter(x) # x.__iter__()\n",
    "\n",
    "print(it1.__next__())\n",
    "print(it1.__next__())\n",
    "\n",
    "it2 = iter(x) # x.__iter__()\n",
    "print(next(it2))\n",
    "print(next(it2))\n",
    "\n",
    "print(it1.__next__())"
   ]
  },
  {
   "cell_type": "code",
   "execution_count": null,
   "id": "b5f6b233-12cf-4bf7-8d70-3db426db62cd",
   "metadata": {},
   "outputs": [],
   "source": [
    "x = range(1, 10)\n",
    "\n",
    "for i in x:\n",
    "    print(i)\n",
    "    if i == 5:\n",
    "        x = range(10, 20)"
   ]
  },
  {
   "cell_type": "code",
   "execution_count": null,
   "id": "809f019b-0990-4cc0-a2f4-1329854e8761",
   "metadata": {},
   "outputs": [],
   "source": [
    "x = [1, 2, 3, 4, 5]\n",
    "\n",
    "for i in range(len(x)):\n",
    "    print(x[i])\n",
    "    if i % 2:\n",
    "        x.append(i * 2)\n",
    "\n"
   ]
  },
  {
   "cell_type": "code",
   "execution_count": null,
   "id": "ecfc678b-2ab7-489b-8d63-fc6a75a5a088",
   "metadata": {},
   "outputs": [],
   "source": [
    "def power_2(start, stop):\n",
    "    index = start\n",
    "    while index < stop:\n",
    "        yield 2 ** index\n",
    "        index += 1\n",
    "\n",
    "\n",
    "for item in power_2(1, 10):\n",
    "    print(item)"
   ]
  },
  {
   "cell_type": "code",
   "execution_count": null,
   "id": "6c774317-9999-4513-ba4a-877275523274",
   "metadata": {},
   "outputs": [],
   "source": [
    "def get_data_from_file(file_name):\n",
    "    with open(file_name) as file:\n",
    "        for line in file:\n",
    "            yield float(line.split()[-2].replace('$', ''))\n",
    "\n",
    "\n",
    "# print(sum(get_data_from_file('data.txt')))\n",
    "\n",
    "\n",
    "# s = 0\n",
    "# for price in get_data_from_file('data.txt'):\n",
    "#     s += price\n",
    "# print(s)"
   ]
  },
  {
   "cell_type": "code",
   "execution_count": null,
   "id": "89c8613f-1bad-4f16-a4db-0e53972ecc27",
   "metadata": {},
   "outputs": [],
   "source": [
    "import random\n",
    "import sys\n",
    "\n",
    "x = [random.randint(1, 1000) for _ in range(10_000)]\n",
    "y = [item ** 2 for item in x]\n",
    "print(sys.getsizeof(y))\n",
    "print(sum(y))\n",
    "\n",
    "\n",
    "def get_items(x):\n",
    "    for item in x:\n",
    "        yield item ** 2\n",
    "\n",
    "\n",
    "y = get_items(x)\n",
    "print(sys.getsizeof(y))\n",
    "print(sum(y))\n",
    "\n",
    "\n",
    "y = (item ** 2 for item in x)\n",
    "print(sys.getsizeof(y))\n",
    "print(y)\n",
    "print(sum(y))\n",
    "print(sum(y))"
   ]
  }
 ],
 "metadata": {
  "kernelspec": {
   "display_name": "Python 3 (ipykernel)",
   "language": "python",
   "name": "python3"
  },
  "language_info": {
   "codemirror_mode": {
    "name": "ipython",
    "version": 3
   },
   "file_extension": ".py",
   "mimetype": "text/x-python",
   "name": "python",
   "nbconvert_exporter": "python",
   "pygments_lexer": "ipython3",
   "version": "3.12.5"
  }
 },
 "nbformat": 4,
 "nbformat_minor": 5
}
