{
 "cells": [
  {
   "cell_type": "markdown",
   "id": "18374261-0bf8-4db6-97f7-b03249050b28",
   "metadata": {},
   "source": [
    "**Task1**"
   ]
  },
  {
   "cell_type": "code",
   "execution_count": 2,
   "id": "fa454fe9-eaca-4145-a63b-79e3c806fa28",
   "metadata": {},
   "outputs": [
    {
     "name": "stdin",
     "output_type": "stream",
     "text": [
      "text>> 123456\n"
     ]
    },
    {
     "name": "stdout",
     "output_type": "stream",
     "text": [
      "No\n"
     ]
    }
   ],
   "source": [
    "alphabet = 'abcdefghijklmnopqrstuvwxyz'\n",
    "text = input('text>>').lower()\n",
    "index = 0\n",
    "while index < len(alphabet):\n",
    "    if alphabet[index] not in text:\n",
    "        print('No')\n",
    "        break\n",
    "    index += 1\n",
    "else:\n",
    "    print('Yes')"
   ]
  },
  {
   "cell_type": "markdown",
   "id": "2e8509d1-1168-43d6-8cdb-9bdb7b3af4a7",
   "metadata": {},
   "source": [
    "**Task2**"
   ]
  },
  {
   "cell_type": "code",
   "execution_count": 3,
   "id": "7cf6d5fa-9966-46af-a646-b5e1f09ce062",
   "metadata": {},
   "outputs": [
    {
     "name": "stdin",
     "output_type": "stream",
     "text": [
      "text>> Hello, world\n"
     ]
    },
    {
     "name": "stdout",
     "output_type": "stream",
     "text": [
      "3 7\n"
     ]
    }
   ],
   "source": [
    "letters_vowels = 'aeiou'\n",
    "letters_cons = 'bcdfghjklmnpqrstvwxyz'\n",
    "\n",
    "count_vowels = 0\n",
    "count_cons = 0\n",
    "i = 0\n",
    "\n",
    "text = input('text>>').lower()\n",
    "while i < len(text):\n",
    "    if text[i] in letters_vowels:\n",
    "        count_vowels += 1\n",
    "    elif text[i] in letters_cons:\n",
    "        count_cons += 1\n",
    "    i += 1\n",
    "\n",
    "print(count_vowels, count_cons)"
   ]
  },
  {
   "cell_type": "markdown",
   "id": "44271fce-2d47-4213-a839-81bee0557334",
   "metadata": {},
   "source": [
    "## Task3 ## "
   ]
  },
  {
   "cell_type": "code",
   "execution_count": 4,
   "id": "3294c286-4680-4961-b3f8-a1445c3f78d0",
   "metadata": {},
   "outputs": [
    {
     "name": "stdin",
     "output_type": "stream",
     "text": [
      "text>> Hello world\n"
     ]
    },
    {
     "name": "stdout",
     "output_type": "stream",
     "text": [
      "Hll wrld\n"
     ]
    }
   ],
   "source": [
    "letters_vowels = 'aeiouAEIOU'\n",
    "\n",
    "text = input('text>>')\n",
    "\n",
    "i = 0\n",
    "while i < len(letters_vowels):\n",
    "    text = text.replace(letters_vowels[i], '')\n",
    "    i += 1\n",
    "print(text)\n",
    "    "
   ]
  },
  {
   "cell_type": "code",
   "execution_count": 6,
   "id": "6e8d8891-6e52-4faa-9471-bef6fbef115f",
   "metadata": {},
   "outputs": [
    {
     "name": "stdin",
     "output_type": "stream",
     "text": [
      "text>> Anastasya\n"
     ]
    },
    {
     "name": "stdout",
     "output_type": "stream",
     "text": [
      "nstsy\n"
     ]
    }
   ],
   "source": [
    "letters_vowels = 'aeiou'\n",
    "\n",
    "text = input('text>>')\n",
    "\n",
    "i = 0\n",
    "while i < len(text):\n",
    "    if text[i].lower() in letters_vowels:\n",
    "        text = text.replace(text[i], '')\n",
    "    i += 1\n",
    "print(text)"
   ]
  },
  {
   "cell_type": "markdown",
   "id": "9740f7be-561e-4a3f-849a-ac48aa4e7c7d",
   "metadata": {},
   "source": [
    "## Task 4 ##"
   ]
  },
  {
   "cell_type": "code",
   "execution_count": 12,
   "id": "53b8cfd3-718f-47de-a27e-554935e8b790",
   "metadata": {},
   "outputs": [
    {
     "name": "stdin",
     "output_type": "stream",
     "text": [
      "text>> Hello world\n"
     ]
    },
    {
     "name": "stdout",
     "output_type": "stream",
     "text": [
      "Не уникальны:l,o\n"
     ]
    }
   ],
   "source": [
    "text = input('text>>')\n",
    "flag = True\n",
    "res = ''\n",
    "i = 0\n",
    "while i < len(text):\n",
    "    if text.count(text[i]) > 1:\n",
    "        res += text[i]\n",
    "        text = text.replace(text[i], '')\n",
    "        flag = False\n",
    "    i += 1\n",
    "\n",
    "if flag:\n",
    "    print('Уникальны')\n",
    "else:\n",
    "    print('Не уникальны:', end='')\n",
    "    print(*res, sep=',')"
   ]
  },
  {
   "cell_type": "code",
   "execution_count": 13,
   "id": "3da27493-7aef-464d-b216-4c337caf986f",
   "metadata": {},
   "outputs": [
    {
     "name": "stdout",
     "output_type": "stream",
     "text": [
      "H,e,l,l,o\n"
     ]
    }
   ],
   "source": [
    "x = 'Hello'\n",
    "y = list(x)\n",
    "res = ','.join(y)\n",
    "print(res)"
   ]
  },
  {
   "cell_type": "code",
   "execution_count": null,
   "id": "94987292-de2c-4bad-8582-27c99a8b859d",
   "metadata": {},
   "outputs": [],
   "source": [
    "text = input('text>>')\n",
    "\n",
    "d = int(input('d>>'))\n",
    "\n",
    "if len(text) % 2 == d % 2"
   ]
  }
 ],
 "metadata": {
  "kernelspec": {
   "display_name": "Python 3 (ipykernel)",
   "language": "python",
   "name": "python3"
  },
  "language_info": {
   "codemirror_mode": {
    "name": "ipython",
    "version": 3
   },
   "file_extension": ".py",
   "mimetype": "text/x-python",
   "name": "python",
   "nbconvert_exporter": "python",
   "pygments_lexer": "ipython3",
   "version": "3.12.5"
  }
 },
 "nbformat": 4,
 "nbformat_minor": 5
}
