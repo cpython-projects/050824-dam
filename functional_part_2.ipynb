{
 "cells": [
  {
   "cell_type": "code",
   "execution_count": 1,
   "id": "ce360455-3d73-4494-b902-2309b871bbbb",
   "metadata": {},
   "outputs": [
    {
     "name": "stdout",
     "output_type": "stream",
     "text": [
      "11\n"
     ]
    }
   ],
   "source": [
    "x = ['1111', 11, '234', 234434]\n",
    "print(min(x, key=lambda item: int(item)))"
   ]
  },
  {
   "cell_type": "code",
   "execution_count": 2,
   "id": "3dc6ded5-48fe-4063-a8b9-3d173ab37b0a",
   "metadata": {},
   "outputs": [
    {
     "name": "stdout",
     "output_type": "stream",
     "text": [
      "11\n"
     ]
    }
   ],
   "source": [
    "x = ['1111', 11, '234', 234434]\n",
    "print(min(map(lambda item: int(item), x)))"
   ]
  },
  {
   "cell_type": "code",
   "execution_count": 3,
   "id": "c80cb1ad-fa7f-4dfd-924c-c775b8871137",
   "metadata": {},
   "outputs": [
    {
     "name": "stdout",
     "output_type": "stream",
     "text": [
      "11 234434\n"
     ]
    }
   ],
   "source": [
    "x = ['1111', 11, '234', 234434]\n",
    "print(*filter(lambda item: isinstance(item, int), x))"
   ]
  },
  {
   "cell_type": "code",
   "execution_count": 8,
   "id": "ddf74608-2fa1-46b7-b26f-4838a61c8d2c",
   "metadata": {},
   "outputs": [
    {
     "name": "stdout",
     "output_type": "stream",
     "text": [
      "{'1111', '234'}\n"
     ]
    }
   ],
   "source": [
    "x = ['1111', 11, '234', 234434]\n",
    "print(set(filter(lambda item: not isinstance(item, int), x)))"
   ]
  },
  {
   "cell_type": "code",
   "execution_count": 9,
   "id": "c2e75597-8901-4c15-8f5c-f09c91ba3e25",
   "metadata": {},
   "outputs": [
    {
     "name": "stdout",
     "output_type": "stream",
     "text": [
      "[(1, 1), (2, 2)]\n"
     ]
    }
   ],
   "source": [
    "x = [1, 2, 3]\n",
    "y = [1, 2]\n",
    "\n",
    "print(list(zip(x, y)))"
   ]
  },
  {
   "cell_type": "code",
   "execution_count": 10,
   "id": "ef921897-6ffd-48c2-ae61-a34adc6500ca",
   "metadata": {},
   "outputs": [],
   "source": [
    "import itertools\n",
    "letters = ['a', 'b', 'c']\n",
    "numbers = [1, 2, 3]"
   ]
  },
  {
   "cell_type": "code",
   "execution_count": 18,
   "id": "9be71daf-31d2-4540-a05c-bf25ba843101",
   "metadata": {},
   "outputs": [
    {
     "name": "stdout",
     "output_type": "stream",
     "text": [
      "[('a', 'b'), ('a', 'c'), ('b', 'c')]\n"
     ]
    }
   ],
   "source": [
    "combinations = list(itertools.combinations(letters, 2))\n",
    "print(combinations)"
   ]
  },
  {
   "cell_type": "code",
   "execution_count": 19,
   "id": "bbce4f89-f7fc-4ad8-9403-c9f51187c9d3",
   "metadata": {},
   "outputs": [
    {
     "name": "stdout",
     "output_type": "stream",
     "text": [
      "[(1, 2, 3), (1, 3, 2), (2, 1, 3), (2, 3, 1), (3, 1, 2), (3, 2, 1)]\n"
     ]
    }
   ],
   "source": [
    "permutations = list(itertools.permutations(numbers))\n",
    "print(permutations)"
   ]
  },
  {
   "cell_type": "code",
   "execution_count": 20,
   "id": "48e09a1b-285e-4977-9bd3-c37e6be1071a",
   "metadata": {},
   "outputs": [
    {
     "name": "stdout",
     "output_type": "stream",
     "text": [
      "[('a', 'b', 'c'), ('a', 'c', 'b'), ('b', 'a', 'c'), ('b', 'c', 'a'), ('c', 'a', 'b'), ('c', 'b', 'a')]\n"
     ]
    }
   ],
   "source": [
    "permutations = list(itertools.permutations(letters))\n",
    "print(permutations)"
   ]
  },
  {
   "cell_type": "code",
   "execution_count": 22,
   "id": "3a1a3693-94e9-44bf-b4a4-daf85b6d0b74",
   "metadata": {},
   "outputs": [
    {
     "name": "stdout",
     "output_type": "stream",
     "text": [
      "[('a', 1), ('a', 2), ('a', 3), ('b', 1), ('b', 2), ('b', 3), ('c', 1), ('c', 2), ('c', 3)]\n"
     ]
    }
   ],
   "source": [
    "product = list(itertools.product(letters, numbers))\n",
    "print(product)"
   ]
  },
  {
   "cell_type": "code",
   "execution_count": 26,
   "id": "4635f622-5dd1-4683-8d12-8951403fdd50",
   "metadata": {},
   "outputs": [
    {
     "name": "stdout",
     "output_type": "stream",
     "text": [
      "[(1, 'a'), (2, 'b'), (0, 'c')]\n"
     ]
    }
   ],
   "source": [
    "import itertools\n",
    "letters = ['a', 'b', 'c']\n",
    "numbers = [1, 2]\n",
    "zipped = list(itertools.zip_longest(numbers, letters, fillvalue=0))\n",
    "print(zipped)"
   ]
  },
  {
   "cell_type": "code",
   "execution_count": 27,
   "id": "479a5170-372b-4981-a16f-2185caebde7c",
   "metadata": {},
   "outputs": [
    {
     "name": "stdout",
     "output_type": "stream",
     "text": [
      "[[1, 2, 3], [1, 2, 3, 4, 5, 6], [1, 2, 3, 4, 5, 6, 7, 8, 9]]\n"
     ]
    }
   ],
   "source": [
    "from operator import add\n",
    "from itertools import accumulate\n",
    "result = list(accumulate([[1, 2, 3], [4, 5, 6], [7, 8, 9]], add))\n",
    "print(result)"
   ]
  },
  {
   "cell_type": "code",
   "execution_count": 30,
   "id": "39ba73e3-cc28-43a4-94f3-e33de008d65c",
   "metadata": {},
   "outputs": [
    {
     "name": "stdout",
     "output_type": "stream",
     "text": [
      "0123456789\n",
      "abcdefghijklmnopqrstuvwxyz\n",
      "ABCDEFGHIJKLMNOPQRSTUVWXYZ\n",
      "abcdefghijklmnopqrstuvwxyzABCDEFGHIJKLMNOPQRSTUVWXYZ0123456789\n",
      "('a', 'b', 'c', 'd')\n",
      "('a', 'b', 'c', 'e')\n",
      "('a', 'b', 'c', 'f')\n",
      "('a', 'b', 'c', 'g')\n",
      "('a', 'b', 'c', 'h')\n",
      "('a', 'b', 'c', 'i')\n",
      "('a', 'b', 'c', 'j')\n",
      "('a', 'b', 'c', 'k')\n",
      "('a', 'b', 'c', 'l')\n",
      "('a', 'b', 'c', 'm')\n",
      "('a', 'b', 'c', 'n')\n",
      "('a', 'b', 'c', 'o')\n",
      "('a', 'b', 'c', 'p')\n",
      "('a', 'b', 'c', 'q')\n",
      "('a', 'b', 'c', 'r')\n",
      "('a', 'b', 'c', 's')\n",
      "('a', 'b', 'c', 't')\n",
      "('a', 'b', 'c', 'u')\n",
      "('a', 'b', 'c', 'v')\n",
      "('a', 'b', 'c', 'w')\n",
      "('a', 'b', 'c', 'x')\n"
     ]
    }
   ],
   "source": [
    "import string\n",
    "import itertools\n",
    "\n",
    "def is_valid(password):\n",
    "    is_upper = any(item.isupper() for item in password)\n",
    "    if not is_upper:\n",
    "        return False\n",
    "    is_lower = any(item.islower() for item in password)\n",
    "    if not is_lower:\n",
    "        return False\n",
    "    is_digit = any(item.isdigit() for item in password)\n",
    "    \n",
    "\n",
    "\n",
    "digits = string.digits\n",
    "ascii_lower = string.ascii_lowercase\n",
    "ascii_upper = string.ascii_uppercase\n",
    "\n",
    "print(digits)\n",
    "print(ascii_lower)\n",
    "print(ascii_upper)\n",
    "\n",
    "alphabet = string.ascii_letters + string.digits\n",
    "\n",
    "print(alphabet)\n",
    "all_variants = itertools.permutations(alphabet, 4)\n",
    "for index, item in enumerate(all_variants):\n",
    "    print(item)\n",
    "    if index == 20:\n",
    "        break"
   ]
  },
  {
   "cell_type": "code",
   "execution_count": null,
   "id": "960b9c1d-9b61-4ae7-88c1-34e6c502b3a4",
   "metadata": {},
   "outputs": [],
   "source": []
  },
  {
   "cell_type": "code",
   "execution_count": null,
   "id": "a7f13db4-0c53-4436-83c7-c6e63ddebdc5",
   "metadata": {},
   "outputs": [],
   "source": []
  }
 ],
 "metadata": {
  "kernelspec": {
   "display_name": "Python 3 (ipykernel)",
   "language": "python",
   "name": "python3"
  },
  "language_info": {
   "codemirror_mode": {
    "name": "ipython",
    "version": 3
   },
   "file_extension": ".py",
   "mimetype": "text/x-python",
   "name": "python",
   "nbconvert_exporter": "python",
   "pygments_lexer": "ipython3",
   "version": "3.12.4"
  }
 },
 "nbformat": 4,
 "nbformat_minor": 5
}
