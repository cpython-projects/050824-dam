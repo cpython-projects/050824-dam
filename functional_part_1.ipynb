{
 "cells": [
  {
   "cell_type": "code",
   "execution_count": 4,
   "id": "254363a8-9783-4d6f-9716-6db792e1656f",
   "metadata": {},
   "outputs": [
    {
     "name": "stdout",
     "output_type": "stream",
     "text": [
      "ALLUSERSPROFILE\n",
      "APPDATA\n",
      "COMMONPROGRAMFILES\n",
      "COMMONPROGRAMFILES(X86)\n",
      "COMMONPROGRAMW6432\n",
      "COMPUTERNAME\n",
      "COMSPEC\n",
      "DRIVERDATA\n",
      "EFC_11112\n",
      "HOMEDRIVE\n",
      "HOMEPATH\n",
      "IPY_INTERRUPT_EVENT\n",
      "JPY_INTERRUPT_EVENT\n",
      "JPY_PARENT_PID\n",
      "JPY_SESSION_NAME\n",
      "LOCALAPPDATA\n",
      "LOGONSERVER\n",
      "NUMBER_OF_PROCESSORS\n",
      "ONEDRIVE\n",
      "ONEDRIVECONSUMER\n",
      "ONLINESERVICES\n",
      "OS\n",
      "PATH\n",
      "PATHEXT\n",
      "PLATFORMCODE\n",
      "PROCESSOR_ARCHITECTURE\n",
      "PROCESSOR_IDENTIFIER\n",
      "PROCESSOR_LEVEL\n",
      "PROCESSOR_REVISION\n",
      "PROGRAMDATA\n",
      "PROGRAMFILES\n",
      "PROGRAMFILES(X86)\n",
      "PROGRAMW6432\n",
      "PROMPT\n",
      "PSMODULEPATH\n",
      "PUBLIC\n",
      "REGIONCODE\n",
      "SESSIONNAME\n",
      "SYSTEMDRIVE\n",
      "SYSTEMROOT\n",
      "TEMP\n",
      "TMP\n",
      "USERDOMAIN\n",
      "USERDOMAIN_ROAMINGPROFILE\n",
      "USERNAME\n",
      "USERPROFILE\n",
      "VIRTUAL_ENV\n",
      "VIRTUAL_ENV_PROMPT\n",
      "WINDIR\n",
      "_OLD_VIRTUAL_PATH\n",
      "_OLD_VIRTUAL_PROMPT\n",
      "PYDEVD_USE_FRAME_EVAL\n",
      "TERM\n",
      "CLICOLOR\n",
      "FORCE_COLOR\n",
      "CLICOLOR_FORCE\n",
      "PAGER\n",
      "GIT_PAGER\n",
      "MPLBACKEND\n"
     ]
    }
   ],
   "source": [
    "import os\n",
    "\n",
    "for item in os.environ:\n",
    "    print(item)"
   ]
  },
  {
   "cell_type": "code",
   "execution_count": 5,
   "id": "340aebdc-0360-4f0b-87f9-21aaddb2f0d2",
   "metadata": {},
   "outputs": [
    {
     "name": "stdout",
     "output_type": "stream",
     "text": [
      "data\\test.txt\n"
     ]
    }
   ],
   "source": [
    "import os\n",
    "\n",
    "\n",
    "# data/test.txt\n",
    "\n",
    "# with open('data/test.txt', 'r') as f:\n",
    "\n",
    "res = os.path.join('data', 'test.txt')\n",
    "print(res)"
   ]
  },
  {
   "cell_type": "markdown",
   "id": "376b9165-171c-4e0e-88dd-bfc6f5e77e12",
   "metadata": {},
   "source": [
    "1. Имя функции присваиваем другой переменной"
   ]
  },
  {
   "cell_type": "code",
   "execution_count": 1,
   "id": "2684012a-38b4-49ef-9728-cac6b8e49f7a",
   "metadata": {},
   "outputs": [
    {
     "name": "stdout",
     "output_type": "stream",
     "text": [
      "10\n",
      "10\n"
     ]
    }
   ],
   "source": [
    "x = [1, 2, 3, 4]\n",
    "print(sum(x))\n",
    "y = sum\n",
    "print(y(x))"
   ]
  },
  {
   "cell_type": "markdown",
   "id": "9c47ef06-065d-46b4-b54b-846500f1f575",
   "metadata": {},
   "source": [
    "2. Передаем функцию в качестве аргумента в другую функцию"
   ]
  },
  {
   "cell_type": "code",
   "execution_count": 2,
   "id": "3893819c-0dcd-4eb7-b21d-51d29e7c667f",
   "metadata": {},
   "outputs": [
    {
     "name": "stdout",
     "output_type": "stream",
     "text": [
      "3\n",
      "-1\n",
      "2\n",
      "0.5\n",
      "*1*2*\n"
     ]
    }
   ],
   "source": [
    "import operator\n",
    "\n",
    "def calc(func, a: int, b: int):\n",
    "    return func(a, b)\n",
    "\n",
    "\n",
    "print(calc(operator.add, 1, 2))\n",
    "print(calc(operator.sub, 1, 2))\n",
    "print(calc(operator.mul, 1, 2))\n",
    "print(calc(operator.truediv, 1, 2))\n",
    "\n",
    "print(calc(lambda x, y: f'*{x}*{y}*', 1, 2))"
   ]
  },
  {
   "cell_type": "markdown",
   "id": "187f03e6-d64a-48b3-895f-49da2a444613",
   "metadata": {},
   "source": [
    "3. Функция возвращает другую функцию"
   ]
  },
  {
   "cell_type": "code",
   "execution_count": 4,
   "id": "1694a3dd-0c34-4ffa-a5a5-ee74371b4e95",
   "metadata": {},
   "outputs": [
    {
     "name": "stdout",
     "output_type": "stream",
     "text": [
      "-1\n",
      "2***3\n"
     ]
    }
   ],
   "source": [
    "import operator \n",
    "\n",
    "def get_operator(op: str):\n",
    "    if '+' == op:\n",
    "        return operator.add\n",
    "    if '-' == op:\n",
    "        return lambda a, b: a - b\n",
    "\n",
    "    return lambda x, y: f'{x}***{y}'\n",
    "\n",
    "\n",
    "print(get_operator('-')(2, 3))\n",
    "print(get_operator('!')(2, 3))\n"
   ]
  },
  {
   "cell_type": "code",
   "execution_count": 11,
   "id": "b7bd0643-b86a-403a-8e03-15a71ed3d8b4",
   "metadata": {},
   "outputs": [
    {
     "name": "stdout",
     "output_type": "stream",
     "text": [
      "(1, 2, 3, 4)\n",
      "(1, 2, 3, 4, 5)\n"
     ]
    }
   ],
   "source": [
    "x = (1, 2, 3, 4)\n",
    "y = x + (5, )\n",
    "print(x)\n",
    "print(y)"
   ]
  },
  {
   "cell_type": "code",
   "execution_count": 16,
   "id": "9e75a89c-65da-4073-8f62-1bbe3183b243",
   "metadata": {},
   "outputs": [
    {
     "ename": "TypeError",
     "evalue": "object of type 'generator' has no len()",
     "output_type": "error",
     "traceback": [
      "\u001b[1;31m---------------------------------------------------------------------------\u001b[0m",
      "\u001b[1;31mTypeError\u001b[0m                                 Traceback (most recent call last)",
      "Cell \u001b[1;32mIn[16], line 5\u001b[0m\n\u001b[0;32m      2\u001b[0m     \u001b[38;5;28;01mfor\u001b[39;00m i \u001b[38;5;129;01min\u001b[39;00m \u001b[38;5;28mrange\u001b[39m(\u001b[38;5;241m10\u001b[39m):\n\u001b[0;32m      3\u001b[0m         \u001b[38;5;28;01myield\u001b[39;00m i \u001b[38;5;241m*\u001b[39m \u001b[38;5;241m2\u001b[39m\n\u001b[1;32m----> 5\u001b[0m \u001b[38;5;28mprint\u001b[39m(\u001b[38;5;28;43mlen\u001b[39;49m\u001b[43m(\u001b[49m\u001b[43mmy_gen\u001b[49m\u001b[43m(\u001b[49m\u001b[43m)\u001b[49m\u001b[43m)\u001b[49m)\n\u001b[0;32m      6\u001b[0m \u001b[38;5;66;03m# for i in my_gen():\u001b[39;00m\n\u001b[0;32m      7\u001b[0m \u001b[38;5;66;03m#     print(i)\u001b[39;00m\n",
      "\u001b[1;31mTypeError\u001b[0m: object of type 'generator' has no len()"
     ]
    }
   ],
   "source": [
    "def my_gen():\n",
    "    for i in range(10):\n",
    "        yield i * 2\n",
    "\n",
    "print(list(my_gen()))\n",
    "# for i in my_gen():\n",
    "#     print(i)"
   ]
  },
  {
   "cell_type": "code",
   "execution_count": 17,
   "id": "f5aa22c5-df77-41bf-896e-ccd81254dcd2",
   "metadata": {},
   "outputs": [
    {
     "ename": "TypeError",
     "evalue": "sum() takes at most 2 arguments (4 given)",
     "output_type": "error",
     "traceback": [
      "\u001b[1;31m---------------------------------------------------------------------------\u001b[0m",
      "\u001b[1;31mTypeError\u001b[0m                                 Traceback (most recent call last)",
      "Cell \u001b[1;32mIn[17], line 1\u001b[0m\n\u001b[1;32m----> 1\u001b[0m \u001b[38;5;28mprint\u001b[39m(\u001b[38;5;28;43msum\u001b[39;49m\u001b[43m(\u001b[49m\u001b[38;5;241;43m1\u001b[39;49m\u001b[43m,\u001b[49m\u001b[38;5;241;43m2\u001b[39;49m\u001b[43m,\u001b[49m\u001b[38;5;241;43m3\u001b[39;49m\u001b[43m,\u001b[49m\u001b[38;5;241;43m4\u001b[39;49m\u001b[43m)\u001b[49m)\n",
      "\u001b[1;31mTypeError\u001b[0m: sum() takes at most 2 arguments (4 given)"
     ]
    }
   ],
   "source": [
    "print(sum(1,2,3,4))"
   ]
  },
  {
   "cell_type": "code",
   "execution_count": 18,
   "id": "a8630680-440c-45b3-9faa-156ea7fe01cc",
   "metadata": {},
   "outputs": [
    {
     "ename": "TypeError",
     "evalue": "unsupported operand type(s) for +: 'int' and 'str'",
     "output_type": "error",
     "traceback": [
      "\u001b[1;31m---------------------------------------------------------------------------\u001b[0m",
      "\u001b[1;31mTypeError\u001b[0m                                 Traceback (most recent call last)",
      "Cell \u001b[1;32mIn[18], line 8\u001b[0m\n\u001b[0;32m      1\u001b[0m x \u001b[38;5;241m=\u001b[39m {\n\u001b[0;32m      2\u001b[0m     \u001b[38;5;124m'\u001b[39m\u001b[38;5;124mone\u001b[39m\u001b[38;5;124m'\u001b[39m: \u001b[38;5;241m1\u001b[39m,\n\u001b[0;32m      3\u001b[0m     \u001b[38;5;124m'\u001b[39m\u001b[38;5;124mtwo\u001b[39m\u001b[38;5;124m'\u001b[39m: \u001b[38;5;241m2\u001b[39m,\n\u001b[0;32m      4\u001b[0m     \u001b[38;5;124m'\u001b[39m\u001b[38;5;124mthree\u001b[39m\u001b[38;5;124m'\u001b[39m: \u001b[38;5;241m3\u001b[39m\n\u001b[0;32m      5\u001b[0m }\n\u001b[1;32m----> 8\u001b[0m \u001b[38;5;28mprint\u001b[39m(\u001b[38;5;28;43msum\u001b[39;49m\u001b[43m(\u001b[49m\u001b[43mx\u001b[49m\u001b[43m)\u001b[49m)\n",
      "\u001b[1;31mTypeError\u001b[0m: unsupported operand type(s) for +: 'int' and 'str'"
     ]
    }
   ],
   "source": [
    "x = {\n",
    "    'one': 1,\n",
    "    'two': 2,\n",
    "    'three': 3\n",
    "}\n",
    "\n",
    "\n",
    "print(sum(x))"
   ]
  },
  {
   "cell_type": "code",
   "execution_count": 22,
   "id": "e041b1ef-6000-44f3-af4e-96b79812b35f",
   "metadata": {},
   "outputs": [
    {
     "name": "stdout",
     "output_type": "stream",
     "text": [
      "Yes\n",
      "Yes\n"
     ]
    }
   ],
   "source": [
    "x = [1, 2, 3, 4,5 ,6, 7, 8, 9, 0]\n",
    "for item in x:\n",
    "    if item == 0:\n",
    "        print('Yes')\n",
    "        break\n",
    "else:\n",
    "    print('No')\n",
    "\n",
    "\n",
    "print('No' if all(x) else 'Yes')"
   ]
  },
  {
   "cell_type": "code",
   "execution_count": 24,
   "id": "92e3288f-6f47-4520-884d-76c595975182",
   "metadata": {},
   "outputs": [
    {
     "name": "stdout",
     "output_type": "stream",
     "text": [
      "No\n"
     ]
    }
   ],
   "source": [
    "x = ['fdgfg', 'fgdfg', 'fdgfg', 'dfgfg']\n",
    "\n",
    "print('No' if all(x) else 'Yes')"
   ]
  },
  {
   "cell_type": "code",
   "execution_count": 26,
   "id": "40060e1e-813c-40c2-83f8-f482acb5e1fe",
   "metadata": {},
   "outputs": [
    {
     "name": "stdout",
     "output_type": "stream",
     "text": [
      "False\n"
     ]
    }
   ],
   "source": [
    "x = [0, 0.0, 0, 0, 0]\n",
    "print(any(x))"
   ]
  },
  {
   "cell_type": "code",
   "execution_count": 28,
   "id": "e6d4510d-1325-443f-a400-4413d61903f7",
   "metadata": {},
   "outputs": [
    {
     "name": "stdout",
     "output_type": "stream",
     "text": [
      "True\n",
      "False\n"
     ]
    }
   ],
   "source": [
    "x = []\n",
    "print(all(x))\n",
    "print(any(x))"
   ]
  },
  {
   "cell_type": "code",
   "execution_count": 30,
   "id": "446d3870-ca9e-4364-8c53-2bfb47500f15",
   "metadata": {},
   "outputs": [
    {
     "name": "stdout",
     "output_type": "stream",
     "text": [
      "['h', 'n', 'o', 'p', 't', 'y']\n",
      "hnopty\n"
     ]
    }
   ],
   "source": [
    "x = 'python'\n",
    "\n",
    "y = sorted(x)\n",
    "print(y)\n",
    "print(''.join(y))"
   ]
  },
  {
   "cell_type": "code",
   "execution_count": 32,
   "id": "43968616-882b-44e5-81a9-a594f00658ab",
   "metadata": {},
   "outputs": [
    {
     "name": "stdout",
     "output_type": "stream",
     "text": [
      "[2, 3, 4, 5, 6]\n",
      "[6, 5, 4, 3, 2]\n"
     ]
    }
   ],
   "source": [
    "x = [2, 3, 4, 5, 6]\n",
    "y = x[::-1]\n",
    "\n",
    "print(x)\n",
    "print(y)"
   ]
  },
  {
   "cell_type": "code",
   "execution_count": 33,
   "id": "7afd24ff-6c7f-4cbe-a336-f9061c626f01",
   "metadata": {},
   "outputs": [
    {
     "name": "stdout",
     "output_type": "stream",
     "text": [
      "[6, 5, 4, 3, 2]\n"
     ]
    }
   ],
   "source": [
    "x = [2, 3, 4, 5, 6]\n",
    "x.reverse()\n",
    "print(x)"
   ]
  },
  {
   "cell_type": "code",
   "execution_count": 34,
   "id": "195c9c27-6701-458f-aca9-0285bfeb964d",
   "metadata": {},
   "outputs": [
    {
     "name": "stdout",
     "output_type": "stream",
     "text": [
      "6\n",
      "5\n",
      "4\n",
      "3\n",
      "2\n",
      "[2, 3, 4, 5, 6]\n"
     ]
    }
   ],
   "source": [
    "x = [2, 3, 4, 5, 6]\n",
    "for i in reversed(x):\n",
    "    print(i)\n",
    "\n",
    "print(x)"
   ]
  },
  {
   "cell_type": "code",
   "execution_count": 37,
   "id": "11c4e181-fbf6-4c42-ad66-fa20df90d036",
   "metadata": {},
   "outputs": [],
   "source": [
    "x = (1, 2, 3, 4)\n",
    "y = list(x[::-1])"
   ]
  },
  {
   "cell_type": "code",
   "execution_count": 38,
   "id": "f56a6b91-ae68-425f-bdd2-aa08c88e4731",
   "metadata": {},
   "outputs": [
    {
     "data": {
      "text/plain": [
       "[4, 3, 2, 1]"
      ]
     },
     "execution_count": 38,
     "metadata": {},
     "output_type": "execute_result"
    }
   ],
   "source": [
    "y"
   ]
  },
  {
   "cell_type": "code",
   "execution_count": 42,
   "id": "79c2ecb2-9b98-481a-a08a-9fd9c98d86b4",
   "metadata": {},
   "outputs": [
    {
     "name": "stdout",
     "output_type": "stream",
     "text": [
      "0 13\n",
      "1 14\n",
      "2 15\n",
      "3 16\n",
      "4 17\n",
      "5 18\n",
      "6 19\n",
      "7 20\n",
      "8 21\n",
      "9 22\n",
      "10 23\n",
      "11 24\n",
      "12 25\n",
      "13 26\n",
      "14 27\n",
      "15 28\n",
      "16 29\n",
      "17 30\n",
      "18 31\n",
      "19 32\n",
      "20 33\n"
     ]
    }
   ],
   "source": [
    "for index, value in enumerate(range(13, 34)):\n",
    "    print(index, value)"
   ]
  },
  {
   "cell_type": "code",
   "execution_count": null,
   "id": "b8ad9417-ac86-409b-a5c9-2983125922af",
   "metadata": {},
   "outputs": [],
   "source": []
  }
 ],
 "metadata": {
  "kernelspec": {
   "display_name": "Python 3 (ipykernel)",
   "language": "python",
   "name": "python3"
  },
  "language_info": {
   "codemirror_mode": {
    "name": "ipython",
    "version": 3
   },
   "file_extension": ".py",
   "mimetype": "text/x-python",
   "name": "python",
   "nbconvert_exporter": "python",
   "pygments_lexer": "ipython3",
   "version": "3.12.4"
  }
 },
 "nbformat": 4,
 "nbformat_minor": 5
}
