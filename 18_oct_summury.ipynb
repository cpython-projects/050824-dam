{
 "cells": [
  {
   "cell_type": "code",
   "execution_count": 1,
   "id": "36da3eb0-6809-4aed-8b20-61193e825230",
   "metadata": {},
   "outputs": [
    {
     "name": "stdout",
     "output_type": "stream",
     "text": [
      "{'Java', 'Python', 'Hello'}\n"
     ]
    }
   ],
   "source": [
    "x = {'Hello', 'Python'}\n",
    "y = {'Java', 'Python'}\n",
    "\n",
    "z = x | y\n",
    "\n",
    "print(z)"
   ]
  },
  {
   "cell_type": "code",
   "execution_count": 2,
   "id": "74777e7f-8443-4805-8666-0dc45a8c9fe7",
   "metadata": {},
   "outputs": [
    {
     "name": "stdout",
     "output_type": "stream",
     "text": [
      "-6446243523657161915\n",
      "-1593815853751397411\n"
     ]
    }
   ],
   "source": [
    "for item in x:\n",
    "    print(hash(item))"
   ]
  },
  {
   "cell_type": "code",
   "execution_count": 3,
   "id": "9022c2e2-400a-4f2e-b27a-1a2b57e3a9ab",
   "metadata": {},
   "outputs": [
    {
     "name": "stdout",
     "output_type": "stream",
     "text": [
      "5969537474777015962\n",
      "-6446243523657161915\n",
      "-1593815853751397411\n"
     ]
    }
   ],
   "source": [
    "for item in z:\n",
    "    print(hash(item))"
   ]
  },
  {
   "cell_type": "code",
   "execution_count": 4,
   "id": "7f0c81fb-8f64-4b1f-b4df-9793000ca5b4",
   "metadata": {},
   "outputs": [
    {
     "name": "stdout",
     "output_type": "stream",
     "text": [
      "140718360367072\n",
      "1694481896128\n"
     ]
    }
   ],
   "source": [
    "for item in x:\n",
    "    print(id(item))"
   ]
  },
  {
   "cell_type": "code",
   "execution_count": 5,
   "id": "47e09b1f-6fe6-4a1b-9fa1-a9e2f2b8ad75",
   "metadata": {},
   "outputs": [
    {
     "name": "stdout",
     "output_type": "stream",
     "text": [
      "1694416070208\n",
      "140718360367072\n",
      "1694481896128\n"
     ]
    }
   ],
   "source": [
    "for item in z:\n",
    "    print(id(item))"
   ]
  },
  {
   "cell_type": "code",
   "execution_count": 6,
   "id": "77f2d734-b0ee-456e-acf6-f66aa1646f4d",
   "metadata": {},
   "outputs": [
    {
     "name": "stdout",
     "output_type": "stream",
     "text": [
      "1694503471584 1694503472480 1694503473600\n"
     ]
    }
   ],
   "source": [
    "print(id(x), id(y), id(z))"
   ]
  },
  {
   "cell_type": "code",
   "execution_count": 7,
   "id": "046708fe-4cf2-4033-ae19-ecf535ef3c3d",
   "metadata": {},
   "outputs": [
    {
     "name": "stdout",
     "output_type": "stream",
     "text": [
      "{1, 4, 6}\n"
     ]
    }
   ],
   "source": [
    "x = [1, 4, 6]\n",
    "y = set(x)\n",
    "print(y)"
   ]
  },
  {
   "cell_type": "code",
   "execution_count": 8,
   "id": "44daf7f4-355b-4e4a-9c55-e152f8ac8bdd",
   "metadata": {},
   "outputs": [
    {
     "ename": "TypeError",
     "evalue": "unhashable type: 'list'",
     "output_type": "error",
     "traceback": [
      "\u001b[1;31m---------------------------------------------------------------------------\u001b[0m",
      "\u001b[1;31mTypeError\u001b[0m                                 Traceback (most recent call last)",
      "Cell \u001b[1;32mIn[8], line 2\u001b[0m\n\u001b[0;32m      1\u001b[0m x \u001b[38;5;241m=\u001b[39m [\u001b[38;5;241m1\u001b[39m, \u001b[38;5;241m4\u001b[39m, [\u001b[38;5;241m6\u001b[39m, \u001b[38;5;241m8\u001b[39m], \u001b[38;5;241m6\u001b[39m]\n\u001b[1;32m----> 2\u001b[0m y \u001b[38;5;241m=\u001b[39m \u001b[38;5;28;43mset\u001b[39;49m\u001b[43m(\u001b[49m\u001b[43mx\u001b[49m\u001b[43m)\u001b[49m\n\u001b[0;32m      3\u001b[0m \u001b[38;5;28mprint\u001b[39m(y)\n",
      "\u001b[1;31mTypeError\u001b[0m: unhashable type: 'list'"
     ]
    }
   ],
   "source": [
    "x = [1, 4, [6, 8], 6]\n",
    "y = set(x)\n",
    "print(y)"
   ]
  },
  {
   "cell_type": "code",
   "execution_count": 9,
   "id": "7d4f5765-823e-497c-9fa6-765cb6cdafeb",
   "metadata": {},
   "outputs": [
    {
     "data": {
      "text/plain": [
       "set()"
      ]
     },
     "execution_count": 9,
     "metadata": {},
     "output_type": "execute_result"
    }
   ],
   "source": [
    "set([])"
   ]
  },
  {
   "cell_type": "code",
   "execution_count": 10,
   "id": "94d4358e-731d-4160-bc9b-31578b01c2ff",
   "metadata": {},
   "outputs": [
    {
     "data": {
      "text/plain": [
       "set()"
      ]
     },
     "execution_count": 10,
     "metadata": {},
     "output_type": "execute_result"
    }
   ],
   "source": [
    "set()"
   ]
  },
  {
   "cell_type": "code",
   "execution_count": 11,
   "id": "173ed296-48ac-4f90-9df0-eea9f475d2d0",
   "metadata": {},
   "outputs": [
    {
     "name": "stdout",
     "output_type": "stream",
     "text": [
      "{1: 'one', 2: 'two'}\n"
     ]
    }
   ],
   "source": [
    "x = [(1, 'one'), (2, 'two')]\n",
    "y = dict(x)\n",
    "print(y)"
   ]
  },
  {
   "cell_type": "code",
   "execution_count": 12,
   "id": "45775b74-efad-45f1-8dc1-e942e02657c3",
   "metadata": {},
   "outputs": [
    {
     "name": "stdout",
     "output_type": "stream",
     "text": [
      "{1: 'one', 2: 'two'}\n"
     ]
    }
   ],
   "source": [
    "x = [[1, 'one'], [2, 'two']]\n",
    "y = dict(x)\n",
    "print(y)"
   ]
  },
  {
   "cell_type": "code",
   "execution_count": 13,
   "id": "31490b92-e8f2-43ea-86fd-ea75449dac3c",
   "metadata": {},
   "outputs": [
    {
     "name": "stdout",
     "output_type": "stream",
     "text": [
      "{1: 'one', 2: 'two'}\n"
     ]
    }
   ],
   "source": [
    "x = [1, 2]\n",
    "y = ['one', 'two']\n",
    "z = dict(zip(x, y))\n",
    "print(z)"
   ]
  },
  {
   "cell_type": "code",
   "execution_count": 16,
   "id": "6a5d0b6f-5d5e-4ae4-8616-0c12e1cdd545",
   "metadata": {},
   "outputs": [
    {
     "name": "stdout",
     "output_type": "stream",
     "text": [
      "{1: 'one', 2: 'two', 2.2: 'two point two'}\n"
     ]
    }
   ],
   "source": [
    "x = {1: 'one', 2: 'two', 2.2: 'two point two'}\n",
    "print(x)"
   ]
  },
  {
   "cell_type": "code",
   "execution_count": 17,
   "id": "7fd2cdc6-f67b-45ab-8b1f-310cfedd00bf",
   "metadata": {},
   "outputs": [
    {
     "data": {
      "text/plain": [
       "True"
      ]
     },
     "execution_count": 17,
     "metadata": {},
     "output_type": "execute_result"
    }
   ],
   "source": [
    "len(set(x.values())) == len(x)"
   ]
  },
  {
   "cell_type": "code",
   "execution_count": 19,
   "id": "0ea099cb-18e6-4d6a-b443-f8b9e327f091",
   "metadata": {},
   "outputs": [
    {
     "name": "stdout",
     "output_type": "stream",
     "text": [
      "{'first': 1, 2: 'second', 'second': 3}\n"
     ]
    }
   ],
   "source": [
    "my_dict = dict([('first', 1), (2, 'second'), ('second', 3)])\n",
    "print(my_dict)"
   ]
  },
  {
   "cell_type": "code",
   "execution_count": 21,
   "id": "25ed9b59-855d-4262-9fa8-20eadaf427f0",
   "metadata": {},
   "outputs": [
    {
     "name": "stdout",
     "output_type": "stream",
     "text": [
      "{'a': -1, 'b': -1, 'c': -1}\n"
     ]
    }
   ],
   "source": [
    "my_dict = dict.fromkeys(['a', 'b', 'c'], -1)\n",
    "print(my_dict)"
   ]
  },
  {
   "cell_type": "code",
   "execution_count": 22,
   "id": "7c83a400-1abb-4033-b11c-7e5a9f468daa",
   "metadata": {},
   "outputs": [
    {
     "name": "stdout",
     "output_type": "stream",
     "text": [
      "{1: [0, 1], 2: [2, 3], 3: [4, 5]}\n"
     ]
    }
   ],
   "source": [
    "my_dict = {1: [0, 1], 2: [2, 3], 3: [4, 5]}\n",
    "print(my_dict)"
   ]
  },
  {
   "cell_type": "code",
   "execution_count": 24,
   "id": "1e1a050b-eaad-4d6e-a0d1-b99de28ba5cd",
   "metadata": {},
   "outputs": [
    {
     "data": {
      "text/plain": [
       "3"
      ]
     },
     "execution_count": 24,
     "metadata": {},
     "output_type": "execute_result"
    }
   ],
   "source": [
    "my_dict[2][1]"
   ]
  },
  {
   "cell_type": "code",
   "execution_count": 25,
   "id": "6ba5bde3-28d8-434e-99c2-f8d339661f83",
   "metadata": {},
   "outputs": [
    {
     "data": {
      "text/plain": [
       "3"
      ]
     },
     "execution_count": 25,
     "metadata": {},
     "output_type": "execute_result"
    }
   ],
   "source": [
    "my_dict.get(2)[1]"
   ]
  },
  {
   "cell_type": "code",
   "execution_count": null,
   "id": "400a4e77-3d6b-4299-8856-fc638ef3a51f",
   "metadata": {},
   "outputs": [],
   "source": [
    "def is_anagrama(word1, word2):\n",
    "    return '',join(sorted(word1)) == '',join(sorted(word2))\n",
    "\n",
    "def all_anagrams(words):\n",
    "    for i in range(len(words) - 1):\n",
    "        for j in range(i + 1, len(words)):\n",
    "            print(words[i], words[j])\n",
    "        "
   ]
  },
  {
   "cell_type": "code",
   "execution_count": 26,
   "id": "ad6b734e-3bdd-4f0a-8694-2266e8b3c28b",
   "metadata": {},
   "outputs": [
    {
     "data": {
      "text/plain": [
       "['H', 'e', 'l', 'l', 'o']"
      ]
     },
     "execution_count": 26,
     "metadata": {},
     "output_type": "execute_result"
    }
   ],
   "source": [
    "sorted('Hello')"
   ]
  },
  {
   "cell_type": "code",
   "execution_count": 27,
   "id": "255ffa0c-109d-4b7f-9b1b-3ebdb233d297",
   "metadata": {},
   "outputs": [
    {
     "name": "stdout",
     "output_type": "stream",
     "text": [
      "['act', 'tac', 'cat']\n",
      "['dog', 'god']\n"
     ]
    }
   ],
   "source": [
    "def is_anagram(word1, word2):\n",
    "    return ''.join(sorted(word1)) == ''.join(sorted(word2))\n",
    "\n",
    "def all_anagrams(words):\n",
    "    set_tmp = set(words)  # Создаем множество для уникальных слов\n",
    "    result = []  # Список для хранения групп анаграмм\n",
    "    \n",
    "    # Цикл for не работает для этого случая, почему - разобрали на уроке\n",
    "    while set_tmp:\n",
    "        item = set_tmp.pop()  # Извлекаем элемент из множества\n",
    "        anagrams = [item]  # Начинаем новую группу анаграмм\n",
    "        # Копия множества для безопасной итерации\n",
    "        words_to_remove = set()\n",
    "\n",
    "        for word in set_tmp:\n",
    "            if is_anagram(item, word):\n",
    "                anagrams.append(word)\n",
    "                words_to_remove.add(word)\n",
    "\n",
    "        # Удаляем все найденные анаграммы из множества\n",
    "        set_tmp -= words_to_remove\n",
    "\n",
    "        result.append(anagrams)  # Добавляем группу анаграмм в результат\n",
    "    return result\n",
    "\n",
    "\n",
    "x = ['cat', 'dog', 'tac', 'god', 'act']\n",
    "result = all_anagrams(x)\n",
    "for group in result:\n",
    "    print(group)"
   ]
  },
  {
   "cell_type": "code",
   "execution_count": null,
   "id": "50ebe870-fd8b-4288-adbd-5b7f2701b33a",
   "metadata": {},
   "outputs": [],
   "source": [
    "def is_anagram(word1, word2):\n",
    "    return ''.join(sorted(word1)) == ''.join(sorted(word2))\n",
    "\n",
    "\n",
    "def all_anagrams(words):\n",
    "    result = []  # Список для хранения групп анаграмм\n",
    "    i = 0\n",
    "    while i < len(words):\n",
    "        anagrams = [words[i]]  # Начинаем новую группу анаграмм\n",
    "        word_to_compare = words[i]  # Текущее слово для сравнения\n",
    "        words.pop(i)  # Удаляем текущее слово из списка\n",
    "\n",
    "        j = 0\n",
    "        while j < len(words):\n",
    "            if is_anagram(word_to_compare, words[j]):\n",
    "                anagrams.append(words[j])\n",
    "                words.pop(j)  # Удаляем найденную анаграмму\n",
    "            else:\n",
    "                j += 1  # Переходим к следующему слову\n",
    "\n",
    "        result.append(anagrams)  # Добавляем группу анаграмм в результат\n",
    "    return result\n",
    "\n",
    "\n",
    "x = ['cat', 'dog', 'tac', 'god', 'act']\n",
    "result = all_anagrams(x[:])\n",
    "for group in result:\n",
    "    print(group)"
   ]
  }
 ],
 "metadata": {
  "kernelspec": {
   "display_name": "Python 3 (ipykernel)",
   "language": "python",
   "name": "python3"
  },
  "language_info": {
   "codemirror_mode": {
    "name": "ipython",
    "version": 3
   },
   "file_extension": ".py",
   "mimetype": "text/x-python",
   "name": "python",
   "nbconvert_exporter": "python",
   "pygments_lexer": "ipython3",
   "version": "3.12.5"
  }
 },
 "nbformat": 4,
 "nbformat_minor": 5
}
