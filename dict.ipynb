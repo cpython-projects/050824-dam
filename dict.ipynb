{
 "cells": [
  {
   "cell_type": "markdown",
   "id": "e6a8c87a-235d-42eb-9393-bc46ce09b277",
   "metadata": {},
   "source": [
    "## Frozenset"
   ]
  },
  {
   "cell_type": "code",
   "execution_count": 1,
   "id": "fe3bc47e-0c30-49b6-9b98-f1300f4f5405",
   "metadata": {},
   "outputs": [
    {
     "name": "stdout",
     "output_type": "stream",
     "text": [
      "frozenset({'o', 'e', 'H', 'l'})\n"
     ]
    }
   ],
   "source": [
    "x = 'Hello'\n",
    "y = frozenset(x)\n",
    "\n",
    "print(y)"
   ]
  },
  {
   "cell_type": "code",
   "execution_count": 2,
   "id": "f4a01ccb-8b0e-48fd-8091-13f54240945d",
   "metadata": {},
   "outputs": [
    {
     "ename": "AttributeError",
     "evalue": "'frozenset' object has no attribute 'add'",
     "output_type": "error",
     "traceback": [
      "\u001b[1;31m---------------------------------------------------------------------------\u001b[0m",
      "\u001b[1;31mAttributeError\u001b[0m                            Traceback (most recent call last)",
      "Cell \u001b[1;32mIn[2], line 1\u001b[0m\n\u001b[1;32m----> 1\u001b[0m \u001b[43my\u001b[49m\u001b[38;5;241;43m.\u001b[39;49m\u001b[43madd\u001b[49m(\u001b[38;5;241m4\u001b[39m)\n",
      "\u001b[1;31mAttributeError\u001b[0m: 'frozenset' object has no attribute 'add'"
     ]
    }
   ],
   "source": [
    "y.add(4)"
   ]
  },
  {
   "cell_type": "code",
   "execution_count": 3,
   "id": "0e9ee61f-3f5a-4bff-a556-de4a1f57b1c5",
   "metadata": {},
   "outputs": [
    {
     "name": "stdout",
     "output_type": "stream",
     "text": [
      "o\n",
      "e\n",
      "H\n",
      "l\n"
     ]
    }
   ],
   "source": [
    "for item in y:\n",
    "    print(item)"
   ]
  },
  {
   "cell_type": "code",
   "execution_count": 4,
   "id": "ce8a9875-85b0-424a-967d-581eabc5dee4",
   "metadata": {},
   "outputs": [
    {
     "data": {
      "text/plain": [
       "True"
      ]
     },
     "execution_count": 4,
     "metadata": {},
     "output_type": "execute_result"
    }
   ],
   "source": [
    "'o' in y"
   ]
  },
  {
   "cell_type": "code",
   "execution_count": 5,
   "id": "5647c32f-d4f5-4356-bd2f-7354727569ed",
   "metadata": {},
   "outputs": [
    {
     "data": {
      "text/plain": [
       "4"
      ]
     },
     "execution_count": 5,
     "metadata": {},
     "output_type": "execute_result"
    }
   ],
   "source": [
    "len(y)"
   ]
  },
  {
   "cell_type": "code",
   "execution_count": 6,
   "id": "55210498-f76d-4885-bc51-cd3540c27b5f",
   "metadata": {},
   "outputs": [
    {
     "name": "stdout",
     "output_type": "stream",
     "text": [
      "{0, 1, 2, 3, 4}\n"
     ]
    }
   ],
   "source": [
    "y = set(range(5))\n",
    "print(y)"
   ]
  },
  {
   "cell_type": "code",
   "execution_count": 11,
   "id": "937477f4-d7ca-4b29-a0ea-891f69389108",
   "metadata": {},
   "outputs": [
    {
     "name": "stdout",
     "output_type": "stream",
     "text": [
      "{1, 2, 3, 4, 7}\n"
     ]
    }
   ],
   "source": [
    "x = [7, 1, 2, 3, 4]\n",
    "y = set(x)\n",
    "print(y)"
   ]
  },
  {
   "cell_type": "code",
   "execution_count": 9,
   "id": "dda78538-9cd9-4f41-b1d8-cd5dceba1391",
   "metadata": {},
   "outputs": [
    {
     "name": "stdout",
     "output_type": "stream",
     "text": [
      "{16, 2, 12, 14}\n",
      "frozenset({16, 2, 12, 14})\n"
     ]
    }
   ],
   "source": [
    "x = [1, 6, 7, 8]\n",
    "y = {item * 2 for item in x}\n",
    "print(y)\n",
    "y1 = frozenset(y)\n",
    "print(y1)"
   ]
  },
  {
   "cell_type": "markdown",
   "id": "972f51a8-42be-47b7-aa28-b040285afeaf",
   "metadata": {},
   "source": [
    "## Dict"
   ]
  },
  {
   "cell_type": "code",
   "execution_count": 15,
   "id": "a0976e3c-d36e-4e6f-b9da-c909ec6c981f",
   "metadata": {},
   "outputs": [
    {
     "name": "stdout",
     "output_type": "stream",
     "text": [
      "{1: 'one', 2: 'two', 3: 'three', 4: 'four', 5: 'five'}\n",
      "{'one': 1, 'two': 3, 'three': 3}\n"
     ]
    }
   ],
   "source": [
    "my_dict = {1: 'one', 2: 'two', 3: 'three', 4: 'four', 5: 'five'}\n",
    "print(my_dict)\n",
    "my_dict = {'one': 1, 'two': 3, 'three': 3}\n",
    "print(my_dict)"
   ]
  },
  {
   "cell_type": "code",
   "execution_count": 14,
   "id": "02bd6c1f-45ba-4131-b2cb-dd1c78d149af",
   "metadata": {},
   "outputs": [
    {
     "name": "stdout",
     "output_type": "stream",
     "text": [
      "<class 'dict'>\n"
     ]
    }
   ],
   "source": [
    "x = {}\n",
    "print(type(x))"
   ]
  },
  {
   "cell_type": "code",
   "execution_count": 18,
   "id": "92d3b35d-401f-4f42-80c1-d4d6718a675b",
   "metadata": {},
   "outputs": [
    {
     "name": "stdout",
     "output_type": "stream",
     "text": [
      "{1: 'Jan', 2: 'Feb', 3: 'Mar'}\n",
      "{1: 'Jan', 2: 'Feb', 3: 'Mar'}\n"
     ]
    }
   ],
   "source": [
    "# First\n",
    "x1 = {1: 'Jan', 2: 'Feb', 3: 'Mar'}\n",
    "\n",
    "x = [(1, 'Jan'), (2, 'Feb'), (3, 'Mar')]\n",
    "x2 = dict(x)\n",
    "print(x2)\n",
    "\n",
    "x3 = dict(zip([1, 2, 3], ['Jan', 'Feb', 'Mar']))\n",
    "print(x3)"
   ]
  },
  {
   "cell_type": "code",
   "execution_count": 23,
   "id": "293bd0dd-2ef4-4009-8c6e-d31ebc66e305",
   "metadata": {},
   "outputs": [
    {
     "name": "stdout",
     "output_type": "stream",
     "text": [
      "([1, 2], [3, 4, 7])\n"
     ]
    }
   ],
   "source": [
    "x = ((1, 2), (3, 4))\n",
    "print(x)"
   ]
  },
  {
   "cell_type": "code",
   "execution_count": 24,
   "id": "16e0cd82-eceb-47c0-8a4f-b659c962839d",
   "metadata": {},
   "outputs": [
    {
     "ename": "ValueError",
     "evalue": "dictionary update sequence element #1 has length 3; 2 is required",
     "output_type": "error",
     "traceback": [
      "\u001b[1;31m---------------------------------------------------------------------------\u001b[0m",
      "\u001b[1;31mValueError\u001b[0m                                Traceback (most recent call last)",
      "Cell \u001b[1;32mIn[24], line 1\u001b[0m\n\u001b[1;32m----> 1\u001b[0m y \u001b[38;5;241m=\u001b[39m \u001b[38;5;28;43mdict\u001b[39;49m\u001b[43m(\u001b[49m\u001b[43mx\u001b[49m\u001b[43m)\u001b[49m\n\u001b[0;32m      2\u001b[0m \u001b[38;5;28mprint\u001b[39m(y)\n",
      "\u001b[1;31mValueError\u001b[0m: dictionary update sequence element #1 has length 3; 2 is required"
     ]
    }
   ],
   "source": [
    "y = dict(x)\n",
    "print(y)"
   ]
  },
  {
   "cell_type": "code",
   "execution_count": 25,
   "id": "fe26d610-4099-488a-8d00-64d48527026b",
   "metadata": {},
   "outputs": [
    {
     "name": "stdout",
     "output_type": "stream",
     "text": [
      "one\n"
     ]
    }
   ],
   "source": [
    "x = {1: 'one', 2: 'two'}\n",
    "\n",
    "print(x[1])"
   ]
  },
  {
   "cell_type": "code",
   "execution_count": 26,
   "id": "5db30001-b491-4d08-8d0c-0b0f065b6437",
   "metadata": {},
   "outputs": [
    {
     "name": "stdout",
     "output_type": "stream",
     "text": [
      "{1: 'one', 2: 'two', 3: 'three'}\n"
     ]
    }
   ],
   "source": [
    "x[3] = 'three'\n",
    "print(x)"
   ]
  },
  {
   "cell_type": "code",
   "execution_count": 27,
   "id": "8380b372-e9f9-433f-a600-ff9bdedd1cec",
   "metadata": {},
   "outputs": [
    {
     "name": "stdout",
     "output_type": "stream",
     "text": [
      "{1: 'one', 2: 'два', 3: 'three'}\n"
     ]
    }
   ],
   "source": [
    "x[2] = 'два'\n",
    "print(x)"
   ]
  },
  {
   "cell_type": "code",
   "execution_count": 28,
   "id": "1192540b-adf2-4495-a4b9-8556b227d2c2",
   "metadata": {},
   "outputs": [
    {
     "name": "stdout",
     "output_type": "stream",
     "text": [
      "{1: 'one', 3: 'three'}\n"
     ]
    }
   ],
   "source": [
    "del x[2]\n",
    "print(x)"
   ]
  },
  {
   "cell_type": "code",
   "execution_count": 29,
   "id": "ce6bf2d5-c77b-4721-b315-6d1b4dd3d310",
   "metadata": {},
   "outputs": [],
   "source": [
    "x[10] = 'ten'"
   ]
  },
  {
   "cell_type": "code",
   "execution_count": 30,
   "id": "71200220-0562-4f5b-9797-5b66e6fd52d9",
   "metadata": {},
   "outputs": [
    {
     "name": "stdout",
     "output_type": "stream",
     "text": [
      "{1: 'one', 3: 'three', 10: 'ten'}\n"
     ]
    }
   ],
   "source": [
    "print(x)"
   ]
  },
  {
   "cell_type": "code",
   "execution_count": 32,
   "id": "efd094f2-d8ea-4916-9097-0583651b4675",
   "metadata": {},
   "outputs": [
    {
     "name": "stdout",
     "output_type": "stream",
     "text": [
      "['1', 'Bob', 'Simson']\n",
      "['2', 'Mary']\n",
      "['3', 'Mary']\n",
      "['4', 'Aleksa']\n",
      "['5', 'Maria', 'Simson']\n",
      "['6', 'Aleksa']\n",
      "['7', 'Mary']\n",
      "['8', 'Bob', 'Simson']\n",
      "['9', 'Bob', 'Simson']\n",
      "['10', 'Maria', 'Simson']\n"
     ]
    }
   ],
   "source": [
    "data = [\n",
    "    '1 Bob Simson 19.58$ decorations',\n",
    "    '2 Mary 66.7$ food',\n",
    "    '3 Mary 98.91$ toys',\n",
    "    '4 Aleksa 72.29$ drinks',\n",
    "    '5 Maria Simson 84.48$ food',\n",
    "    '6 Aleksa 100.41$ accessories',\n",
    "    '7 Mary 19.9$ accessories',\n",
    "    '8 Bob Simson 83.88$ drinks',\n",
    "    '9 Bob Simson 58.21$ instruments',\n",
    "    '10 Maria Simson 20.61$ accessories',\n",
    "]\n",
    "\n",
    "'10 Maria Simson 20.61$ accessories'\n",
    "\n",
    "['10', 'Maria', 'Simson', '20.61$', 'accessories']\n",
    "res = {}\n",
    "\n",
    "for line in data:\n",
    "    *_, money, category = line.split()\n",
    "    money = float(money('$', ''))\n",
    "    if category in res:\n",
    "        res[category] += money\n",
    "    else:\n",
    "        res[category] = money\n",
    "\n",
    "print(res)\n",
    "    "
   ]
  },
  {
   "cell_type": "code",
   "execution_count": 33,
   "id": "4c28b022-95a9-430b-9dd2-5f3602dab1de",
   "metadata": {},
   "outputs": [
    {
     "name": "stdout",
     "output_type": "stream",
     "text": [
      "{'decorations': 19.58, 'food': 151.18, 'toys': 98.91, 'drinks': 156.17000000000002, 'accessories': 140.92000000000002, 'instruments': 58.21}\n"
     ]
    }
   ],
   "source": [
    "data = [\n",
    "    '1 Bob Simson 19.58$ decorations',\n",
    "    '2 Mary 66.7$ food',\n",
    "    '3 Mary 98.91$ toys',\n",
    "    '4 Aleksa 72.29$ drinks',\n",
    "    '5 Maria Simson 84.48$ food',\n",
    "    '6 Aleksa 100.41$ accessories',\n",
    "    '7 Mary 19.9$ accessories',\n",
    "    '8 Bob Simson 83.88$ drinks',\n",
    "    '9 Bob Simson 58.21$ instruments',\n",
    "    '10 Maria Simson 20.61$ accessories',\n",
    "]\n",
    "\n",
    "res = {}\n",
    "\n",
    "for line in data:\n",
    "    *_, money, category = line.split()\n",
    "    money = float(money.replace('$', ''))\n",
    "    res[category] = res.get(category, 0) + money\n",
    "\n",
    "    # if category in res:\n",
    "    #     res[category] += money\n",
    "    # else:\n",
    "    #     res[category] = money\n",
    "\n",
    "print(res)\n"
   ]
  },
  {
   "cell_type": "code",
   "execution_count": 35,
   "id": "475ef277-89b0-4783-b673-90b328434e03",
   "metadata": {},
   "outputs": [
    {
     "ename": "KeyError",
     "evalue": "2",
     "output_type": "error",
     "traceback": [
      "\u001b[1;31m---------------------------------------------------------------------------\u001b[0m",
      "\u001b[1;31mKeyError\u001b[0m                                  Traceback (most recent call last)",
      "Cell \u001b[1;32mIn[35], line 2\u001b[0m\n\u001b[0;32m      1\u001b[0m x \u001b[38;5;241m=\u001b[39m {\u001b[38;5;241m1\u001b[39m: \u001b[38;5;124m'\u001b[39m\u001b[38;5;124mone\u001b[39m\u001b[38;5;124m'\u001b[39m}\n\u001b[1;32m----> 2\u001b[0m \u001b[38;5;28mprint\u001b[39m(\u001b[43mx\u001b[49m\u001b[43m[\u001b[49m\u001b[38;5;241;43m2\u001b[39;49m\u001b[43m]\u001b[49m)\n",
      "\u001b[1;31mKeyError\u001b[0m: 2"
     ]
    }
   ],
   "source": [
    "x = {1: 'one'}\n",
    "if 2 in x:\n",
    "    print(x[2])"
   ]
  },
  {
   "cell_type": "code",
   "execution_count": 36,
   "id": "f1e2f559-9f54-4a54-9d52-00320a9ee95b",
   "metadata": {},
   "outputs": [
    {
     "name": "stdout",
     "output_type": "stream",
     "text": [
      "None\n"
     ]
    }
   ],
   "source": [
    "x = {1: 'one'}\n",
    "print(x.get(2))"
   ]
  },
  {
   "cell_type": "code",
   "execution_count": 38,
   "id": "c6a6b3d5-d62e-47f3-ab01-bb102fcccd75",
   "metadata": {},
   "outputs": [
    {
     "name": "stdout",
     "output_type": "stream",
     "text": [
      "one\n"
     ]
    }
   ],
   "source": [
    "x = {1: 'one'}\n",
    "print(x.get(1, 'Error'))"
   ]
  },
  {
   "cell_type": "code",
   "execution_count": 39,
   "id": "5716c9d4-7a5e-4ea7-9352-d1a5a32082db",
   "metadata": {},
   "outputs": [
    {
     "data": {
      "text/plain": [
       "0"
      ]
     },
     "execution_count": 39,
     "metadata": {},
     "output_type": "execute_result"
    }
   ],
   "source": [
    "x.get('drinks', 0) + 120"
   ]
  },
  {
   "cell_type": "code",
   "execution_count": 42,
   "id": "8b21d94b-a112-445b-bf18-304b429fe091",
   "metadata": {},
   "outputs": [
    {
     "name": "stdout",
     "output_type": "stream",
     "text": [
      "{}\n",
      "one\n"
     ]
    }
   ],
   "source": [
    "x = {1: 'one'}\n",
    "y = x.pop(1)\n",
    "\n",
    "print(x)\n",
    "print(y)"
   ]
  },
  {
   "cell_type": "code",
   "execution_count": 46,
   "id": "f00ecca0-089e-487f-a4b2-484d9e1238fa",
   "metadata": {},
   "outputs": [
    {
     "name": "stdout",
     "output_type": "stream",
     "text": [
      "1\n",
      "2\n",
      "3\n",
      "3\n"
     ]
    }
   ],
   "source": [
    "x1 = {1: 'Jan', 2: 'Feb', 3: 'Mar'}\n",
    "keys = x1.keys()\n",
    "\n",
    "for item in keys:\n",
    "    print(item)\n",
    "\n",
    "print(len(keys))"
   ]
  },
  {
   "cell_type": "code",
   "execution_count": 47,
   "id": "1241e28b-2757-47ae-96d0-d7611936e571",
   "metadata": {},
   "outputs": [
    {
     "name": "stdout",
     "output_type": "stream",
     "text": [
      "dict_values(['Jan', 'Feb', 'Mar'])\n"
     ]
    }
   ],
   "source": [
    "values = x1.values()\n",
    "print(values)"
   ]
  },
  {
   "cell_type": "code",
   "execution_count": 48,
   "id": "b57340c3-cdf4-4ec6-bac6-10de4e1be46e",
   "metadata": {},
   "outputs": [
    {
     "name": "stdout",
     "output_type": "stream",
     "text": [
      "dict_items([(1, 'Jan'), (2, 'Feb'), (3, 'Mar')])\n"
     ]
    }
   ],
   "source": [
    "items = x1.items()\n",
    "print(items)"
   ]
  },
  {
   "cell_type": "code",
   "execution_count": 49,
   "id": "ec163aaa-49a6-4d55-b423-b001b27309f4",
   "metadata": {},
   "outputs": [
    {
     "name": "stdout",
     "output_type": "stream",
     "text": [
      "(1, 'Jan')\n",
      "(2, 'Feb')\n",
      "(3, 'Mar')\n"
     ]
    }
   ],
   "source": [
    "for item in items:\n",
    "    print(item)"
   ]
  },
  {
   "cell_type": "code",
   "execution_count": 51,
   "id": "217b3622-8c73-4c95-95d1-cf05dc514906",
   "metadata": {},
   "outputs": [
    {
     "name": "stdout",
     "output_type": "stream",
     "text": [
      "1 one\n",
      "2 two\n"
     ]
    }
   ],
   "source": [
    "x = {1: 'one', 2: 'two'}\n",
    "\n",
    "for item in x:\n",
    "    print(item, x[item])"
   ]
  },
  {
   "cell_type": "code",
   "execution_count": 52,
   "id": "31a826e1-c461-457b-9bab-6d8876c1cb06",
   "metadata": {},
   "outputs": [
    {
     "name": "stdout",
     "output_type": "stream",
     "text": [
      "one\n",
      "two\n"
     ]
    }
   ],
   "source": [
    "for item in x.values():\n",
    "    print(item)"
   ]
  },
  {
   "cell_type": "code",
   "execution_count": 54,
   "id": "c3b20566-12c2-43d2-9e2e-0105f40c9e32",
   "metadata": {},
   "outputs": [
    {
     "name": "stdout",
     "output_type": "stream",
     "text": [
      "1 one\n",
      "2 two\n"
     ]
    }
   ],
   "source": [
    "for key, value in x.items():\n",
    "    print(key, value)"
   ]
  },
  {
   "cell_type": "code",
   "execution_count": 58,
   "id": "fd12e429-c988-4df2-8ac1-d949b60b6ac9",
   "metadata": {},
   "outputs": [
    {
     "name": "stdout",
     "output_type": "stream",
     "text": [
      "{'Jan': 10000, 'Feb': 10300}\n"
     ]
    }
   ],
   "source": [
    "salary = [('Jan', 10000), ('Feb', 10300), ('Mar', 10)]\n",
    "\n",
    "salary_gt_100 = {x: y for x, y in salary if y > 100}\n",
    "\n",
    "print(salary_gt_100)"
   ]
  },
  {
   "cell_type": "code",
   "execution_count": 61,
   "id": "7a76c9d2-e78d-4c01-b6ef-25a31ab694c7",
   "metadata": {},
   "outputs": [
    {
     "name": "stdout",
     "output_type": "stream",
     "text": [
      "Oleh 50 Copen\n",
      "Oleh1 50 Berlin\n"
     ]
    }
   ],
   "source": [
    "students = [\n",
    "    {\n",
    "    'name': 'Oleh',\n",
    "    'course': 'Python',\n",
    "    'AVG': 50,\n",
    "    'address': {\n",
    "        'city': 'Copen',\n",
    "        'country': 'DK'\n",
    "    }\n",
    "    },\n",
    "    {\n",
    "    'name': 'Oleh1',\n",
    "    'course': 'Python',\n",
    "    'AVG': 50,\n",
    "        'address': {\n",
    "        'city': 'Berlin',\n",
    "        'country': 'Germany'\n",
    "    }\n",
    "    },\n",
    "]\n",
    "for student in students:\n",
    "    print(student['name'], student['AVG'], student['address']['city'])\n",
    "\n"
   ]
  },
  {
   "cell_type": "code",
   "execution_count": null,
   "id": "7ce4e14f-1d3d-41c8-b92a-c7344bfe8277",
   "metadata": {},
   "outputs": [],
   "source": [
    "text = input('text>>')\n",
    "\n",
    "res = {}\n",
    "\n",
    "for item in set(text):\n",
    "    res[item] = text.count(item)\n",
    "\n",
    "print(res)\n",
    "\n"
   ]
  },
  {
   "cell_type": "code",
   "execution_count": 63,
   "id": "36ce02d9-69fa-4676-af9a-b31b3a435920",
   "metadata": {},
   "outputs": [
    {
     "name": "stdout",
     "output_type": "stream",
     "text": [
      "{'a': 'Hello', 'b': <built-in function len>, 'c': <built-in function sum>}\n",
      "<class 'dict'>\n"
     ]
    }
   ],
   "source": [
    "def func(**kwargs):\n",
    "    print(kwargs)\n",
    "    print(type(kwargs))\n",
    "\n",
    "func(a='Hello', b=len, c=sum)"
   ]
  },
  {
   "cell_type": "code",
   "execution_count": 65,
   "id": "1d76d197-07c4-45c9-9db9-42a876399247",
   "metadata": {},
   "outputs": [
    {
     "name": "stdout",
     "output_type": "stream",
     "text": [
      "1 2\n",
      "(3, 4, 5, 6)\n",
      "{'c': 4, 'd': 6}\n"
     ]
    }
   ],
   "source": [
    "def func(a, b, *args, **kwargs):\n",
    "    print(a, b)\n",
    "    print(args)\n",
    "    print(kwargs)\n",
    "\n",
    "func(1, 2, 3, 4, 5, 6, c=4, d=6)"
   ]
  },
  {
   "cell_type": "code",
   "execution_count": 72,
   "id": "b4f194d9-0b79-4347-a163-34960fe71028",
   "metadata": {},
   "outputs": [
    {
     "name": "stdout",
     "output_type": "stream",
     "text": [
      "9\n"
     ]
    }
   ],
   "source": [
    "def summa(a, b):\n",
    "    return a + b\n",
    "    \n",
    "calc = {\n",
    "  '+': summa,\n",
    "  '-': lambda a, b: a - b,\n",
    "}\n",
    "\n",
    "a, b = 4, 5\n",
    "print(calc.get('+')(a, b))"
   ]
  },
  {
   "cell_type": "code",
   "execution_count": 74,
   "id": "af8c7e07-49c6-4121-86c7-248be1116337",
   "metadata": {},
   "outputs": [
    {
     "name": "stdin",
     "output_type": "stream",
     "text": [
      "фамилия-имя-год рождения-курс-количество баллов Ivanov1-Ivan1-2000-Python-100\n",
      "фамилия-имя-год рождения-курс-количество баллов Ivanov2-Ivan2-2000-Python-100\n",
      "фамилия-имя-год рождения-курс-количество баллов exit\n"
     ]
    },
    {
     "name": "stdout",
     "output_type": "stream",
     "text": [
      "[{'last_name': 'ivanov1', 'first_name': 'ivan1', 'birth_year': '2000', 'course': 'python', 'points': '100'}, {'last_name': 'ivanov2', 'first_name': 'ivan2', 'birth_year': '2000', 'course': 'python', 'points': '100'}]\n"
     ]
    }
   ],
   "source": [
    "def parse_line(line):\n",
    "    last_name, first_name, birth_year, course, points = line.split('-')\n",
    "    student = {\n",
    "        'last_name': last_name.title(),\n",
    "        'first_name': first_name.title(),\n",
    "        'birth_year': int(birth_year),\n",
    "        'course': course,\n",
    "        'points': int(points)\n",
    "    }\n",
    "    return student\n",
    "\n",
    "\n",
    "def fill_db():\n",
    "    db = []\n",
    "    while (ans := input('фамилия-имя-год рождения-курс-количество баллов').lower()) != 'exit':\n",
    "        student = parse_line(ans)\n",
    "        db.append(student)\n",
    "    return db\n",
    "\n",
    "\n",
    "def search(db, field, value):\n",
    "    res = []\n",
    "    for item in db:\n",
    "        if field in item.keys() and item[field] == value:\n",
    "            res.append(item)\n",
    "    return res\n",
    "\n",
    "\n",
    "res = fill_db()\n",
    "print(*search(res, 'points', 100), sep='\\n')"
   ]
  },
  {
   "cell_type": "code",
   "execution_count": null,
   "id": "c1fc5516-6053-4701-9c06-94e895d23880",
   "metadata": {},
   "outputs": [],
   "source": []
  }
 ],
 "metadata": {
  "kernelspec": {
   "display_name": "Python 3 (ipykernel)",
   "language": "python",
   "name": "python3"
  },
  "language_info": {
   "codemirror_mode": {
    "name": "ipython",
    "version": 3
   },
   "file_extension": ".py",
   "mimetype": "text/x-python",
   "name": "python",
   "nbconvert_exporter": "python",
   "pygments_lexer": "ipython3",
   "version": "3.12.5"
  }
 },
 "nbformat": 4,
 "nbformat_minor": 5
}
