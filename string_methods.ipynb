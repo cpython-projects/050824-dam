{
 "cells": [
  {
   "cell_type": "markdown",
   "id": "7e7df2b1-5b4d-4a0a-b6aa-28e9fdf641fb",
   "metadata": {},
   "source": [
    "## Find & Index"
   ]
  },
  {
   "cell_type": "code",
   "execution_count": 8,
   "id": "5ff0e39b-64f3-4ac9-8575-e17c6915bdac",
   "metadata": {},
   "outputs": [
    {
     "name": "stdout",
     "output_type": "stream",
     "text": [
      "7 9\n"
     ]
    }
   ],
   "source": [
    "x = 'Python is awesome. The sky is blue'\n",
    "start_index = x.find('is')\n",
    "stop_index = x.find('is') + len('is')\n",
    "print(start_index, stop_index)"
   ]
  },
  {
   "cell_type": "code",
   "execution_count": null,
   "id": "00fd2b57-c5b1-46d6-b213-58971a99e335",
   "metadata": {},
   "outputs": [],
   "source": [
    "x = 'isAisAisAis'\n",
    "start_index = 0\n",
    "while True:\n",
    "    start_index = x.find('is', start_index)\n",
    "    if start_index == -1:\n",
    "        break\n",
    "    print(start_index)\n",
    "    start_index += len('is')"
   ]
  },
  {
   "cell_type": "code",
   "execution_count": 6,
   "id": "18bce874-1db1-42bd-a0a6-ff4a1227304b",
   "metadata": {},
   "outputs": [
    {
     "name": "stdout",
     "output_type": "stream",
     "text": [
      "2\n"
     ]
    }
   ],
   "source": [
    "x = 'isAisAisAis'\n",
    "start_index = x.index('A')\n",
    "print(start_index)"
   ]
  },
  {
   "cell_type": "code",
   "execution_count": 4,
   "id": "50c2bebc-7d17-49d3-97a7-2eeba8cb1ae7",
   "metadata": {},
   "outputs": [
    {
     "ename": "ValueError",
     "evalue": "substring not found",
     "output_type": "error",
     "traceback": [
      "\u001b[1;31m---------------------------------------------------------------------------\u001b[0m",
      "\u001b[1;31mValueError\u001b[0m                                Traceback (most recent call last)",
      "Cell \u001b[1;32mIn[4], line 1\u001b[0m\n\u001b[1;32m----> 1\u001b[0m start_index \u001b[38;5;241m=\u001b[39m \u001b[43mx\u001b[49m\u001b[38;5;241;43m.\u001b[39;49m\u001b[43mindex\u001b[49m\u001b[43m(\u001b[49m\u001b[38;5;124;43m'\u001b[39;49m\u001b[38;5;124;43mPy\u001b[39;49m\u001b[38;5;124;43m'\u001b[39;49m\u001b[43m)\u001b[49m\n",
      "\u001b[1;31mValueError\u001b[0m: substring not found"
     ]
    }
   ],
   "source": [
    "start_index = x.index('Py')"
   ]
  },
  {
   "cell_type": "code",
   "execution_count": 11,
   "id": "cd01a23d-24f4-4fd0-9212-ce3348b856b4",
   "metadata": {},
   "outputs": [
    {
     "name": "stdout",
     "output_type": "stream",
     "text": [
      "7\n",
      "7\n"
     ]
    }
   ],
   "source": [
    "x = 'Python Py'\n",
    "print(x.rfind('Py'))\n",
    "print(x.rindex('Py'))"
   ]
  },
  {
   "cell_type": "markdown",
   "id": "93423525-c2d0-4391-b7da-4556740922ec",
   "metadata": {},
   "source": [
    "## isalpha, isupper, islower"
   ]
  },
  {
   "cell_type": "code",
   "execution_count": 15,
   "id": "d9d41a80-ff39-401e-bc1c-99b79bbc5cff",
   "metadata": {},
   "outputs": [
    {
     "name": "stdout",
     "output_type": "stream",
     "text": [
      "True\n"
     ]
    }
   ],
   "source": [
    "x = 'Привет Олег'\n",
    "print(x.isalpha())"
   ]
  },
  {
   "cell_type": "code",
   "execution_count": 22,
   "id": "c7bd97ed-b430-48ba-aafd-52d54a937372",
   "metadata": {},
   "outputs": [
    {
     "name": "stdout",
     "output_type": "stream",
     "text": [
      "False\n",
      "False\n",
      "True\n",
      "True\n",
      "False\n"
     ]
    }
   ],
   "source": [
    "x = 'Привет Олег'\n",
    "print(x.isupper())\n",
    "print(x.islower())\n",
    "x = 'ПРИВЕТ ОЛЕГ'\n",
    "print(x.isupper())\n",
    "x = 'привет олег'\n",
    "print(x.islower())\n",
    "\n",
    "x = 'Олег Тимчук'\n",
    "print(x.istitle())"
   ]
  },
  {
   "cell_type": "markdown",
   "id": "c255492e-d67d-4e46-afe1-b1f265ab16a4",
   "metadata": {},
   "source": [
    "## startswith, endswith"
   ]
  },
  {
   "cell_type": "code",
   "execution_count": 24,
   "id": "50d996a7-2b71-4d1c-8bae-60ee37430fc6",
   "metadata": {},
   "outputs": [
    {
     "name": "stdout",
     "output_type": "stream",
     "text": [
      "True\n",
      "True\n"
     ]
    }
   ],
   "source": [
    "x = 'www.google.com'\n",
    "print(x.startswith('www'))\n",
    "print(x.endswith('com'))"
   ]
  },
  {
   "cell_type": "code",
   "execution_count": 25,
   "id": "a09533dc-c630-49ee-a979-e7521a1819f9",
   "metadata": {},
   "outputs": [
    {
     "name": "stdout",
     "output_type": "stream",
     "text": [
      "['Oleh', 'Mila']\n"
     ]
    }
   ],
   "source": [
    "names = ['Mr. Oleh', 'Miss Mila']\n",
    "res = []\n",
    "for item in names:\n",
    "    if item.startswith('Mr.'):\n",
    "        res.append(item.replace('Mr.', '').strip())\n",
    "    elif item.startswith('Miss'):\n",
    "        res.append(item.replace('Miss', '').strip())\n",
    "print(res)\n"
   ]
  },
  {
   "cell_type": "markdown",
   "id": "dd84dffc-a813-45f5-a7b1-6c631be76c94",
   "metadata": {},
   "source": [
    "## lower, upper, title,  replace"
   ]
  },
  {
   "cell_type": "code",
   "execution_count": 26,
   "id": "d551d402-85a4-47f9-b261-e8de7cc9e289",
   "metadata": {},
   "outputs": [
    {
     "name": "stdout",
     "output_type": "stream",
     "text": [
      "OLEH\n"
     ]
    }
   ],
   "source": [
    "x = 'oleh'\n",
    "y = x.upper()\n",
    "print(y)"
   ]
  },
  {
   "cell_type": "code",
   "execution_count": 27,
   "id": "b2411671-e4d3-4ea3-86ea-c3a4b4fa17f2",
   "metadata": {},
   "outputs": [
    {
     "name": "stdout",
     "output_type": "stream",
     "text": [
      "oleh\n"
     ]
    }
   ],
   "source": [
    "x = 'OLEh'\n",
    "x = x.lower()\n",
    "print(x)"
   ]
  },
  {
   "cell_type": "code",
   "execution_count": 29,
   "id": "95f79aa6-7b5c-46cd-915e-98c14e607654",
   "metadata": {},
   "outputs": [
    {
     "name": "stdout",
     "output_type": "stream",
     "text": [
      "Oleh Tymchuk\n"
     ]
    }
   ],
   "source": [
    "x = 'OLEH tymchuk'\n",
    "x = x.title()\n",
    "print(x)"
   ]
  },
  {
   "cell_type": "code",
   "execution_count": 31,
   "id": "85ac6046-e83e-468b-a7ff-d3c94dd1dc2b",
   "metadata": {},
   "outputs": [
    {
     "name": "stdin",
     "output_type": "stream",
     "text": [
      "Number or Exit ExIt\n"
     ]
    }
   ],
   "source": [
    "s = 0\n",
    "while True:\n",
    "    ans = input('Number or Exit').lower()\n",
    "    if ans == 'exit':\n",
    "        break\n",
    "    s += int(ans)"
   ]
  },
  {
   "cell_type": "code",
   "execution_count": 32,
   "id": "adc83fd5-a3a2-419c-9208-67b43bfa1b43",
   "metadata": {},
   "outputs": [
    {
     "name": "stdout",
     "output_type": "stream",
     "text": [
      "He****o\n"
     ]
    }
   ],
   "source": [
    "x = 'Hello'\n",
    "x = x.replace('l', '**')\n",
    "print(x)"
   ]
  },
  {
   "cell_type": "code",
   "execution_count": 33,
   "id": "78ffea89-34ca-4537-a752-9c4b7f8061d4",
   "metadata": {},
   "outputs": [
    {
     "name": "stdin",
     "output_type": "stream",
     "text": [
      "text>> Hello     world!                   Python\n"
     ]
    },
    {
     "name": "stdout",
     "output_type": "stream",
     "text": [
      "Hello world! Python\n"
     ]
    }
   ],
   "source": [
    "x = input('text>>')\n",
    "while '  ' in x:\n",
    "    x = x.replace('  ', ' ')\n",
    "print(x)"
   ]
  },
  {
   "cell_type": "markdown",
   "id": "ae7eebcd-079f-4b01-8e25-f6f5f51bf9e3",
   "metadata": {},
   "source": [
    "## split & join"
   ]
  },
  {
   "cell_type": "code",
   "execution_count": 36,
   "id": "9439f11e-3b39-47dd-8f47-6942fd2be7e6",
   "metadata": {},
   "outputs": [
    {
     "name": "stdout",
     "output_type": "stream",
     "text": [
      "['aa,', 'bbb', ',', 'ccc', 'ddd.', 'ss']\n"
     ]
    }
   ],
   "source": [
    "x = 'aa, bbb   ,    ccc ddd.              ss'\n",
    "res = x.split()\n",
    "print(res)"
   ]
  },
  {
   "cell_type": "code",
   "execution_count": 41,
   "id": "062d656a-7d46-45c1-8b8e-9497aa723eef",
   "metadata": {},
   "outputs": [
    {
     "name": "stdout",
     "output_type": "stream",
     "text": [
      "['aa', 'bbb', 'ccc', 'ddd', 'ss']\n",
      "aa*bbb*ccc*ddd*ss\n"
     ]
    }
   ],
   "source": [
    "x = 'aa, bbb   ,    ccc ddd.              ss'\n",
    "punctuations = ',.!?:;'\n",
    "index = 0\n",
    "while index < len(punctuations):\n",
    "    x = x.replace(punctuations[index], ' ')\n",
    "    index += 1\n",
    "res = x.split()\n",
    "print(res)\n",
    "res = '*'.join(res)\n",
    "print(res)"
   ]
  },
  {
   "cell_type": "code",
   "execution_count": 39,
   "id": "973e2d55-d9cd-4bc9-ad57-3b0036414e54",
   "metadata": {},
   "outputs": [
    {
     "name": "stdout",
     "output_type": "stream",
     "text": [
      "['banana', '100']\n"
     ]
    }
   ],
   "source": [
    "x = 'banana;100'\n",
    "print(x.split(';'))"
   ]
  },
  {
   "cell_type": "code",
   "execution_count": 4,
   "id": "5cc50c81-20ac-4982-8f03-b1992120e538",
   "metadata": {},
   "outputs": [
    {
     "name": "stdout",
     "output_type": "stream",
     "text": [
      " \n",
      "\t  Oleh    \n",
      "Oleh\n"
     ]
    }
   ],
   "source": [
    "x = ' \\n\\t  Oleh    '\n",
    "print(x)\n",
    "y = x.strip()\n",
    "print(y)"
   ]
  },
  {
   "cell_type": "code",
   "execution_count": 5,
   "id": "1c083cf6-0cf3-485e-b1de-8f389dca413e",
   "metadata": {},
   "outputs": [
    {
     "name": "stdout",
     "output_type": "stream",
     "text": [
      "Oleh****\n"
     ]
    }
   ],
   "source": [
    "x = '****Oleh****'\n",
    "y = x.lstrip('*')\n",
    "print(y)"
   ]
  },
  {
   "cell_type": "code",
   "execution_count": 6,
   "id": "ced80cb1-8c4b-40a7-95ff-fd62b90d8a85",
   "metadata": {},
   "outputs": [
    {
     "name": "stdout",
     "output_type": "stream",
     "text": [
      "****Oleh\n"
     ]
    }
   ],
   "source": [
    "x = '****Oleh****'\n",
    "y = x.rstrip('*')\n",
    "print(y)"
   ]
  },
  {
   "cell_type": "code",
   "execution_count": 7,
   "id": "67f9b5dc-5b81-4d59-93b3-64cb3fcbac84",
   "metadata": {},
   "outputs": [
    {
     "name": "stdout",
     "output_type": "stream",
     "text": [
      "o world\n"
     ]
    }
   ],
   "source": [
    "x = 'Hello world'\n",
    "y = x.lstrip('elH')\n",
    "print(y)"
   ]
  },
  {
   "cell_type": "code",
   "execution_count": 9,
   "id": "7e8a1086-b84c-4191-9b95-fcc5a6e4f9c0",
   "metadata": {},
   "outputs": [
    {
     "name": "stdout",
     "output_type": "stream",
     "text": [
      "o word\n"
     ]
    }
   ],
   "source": [
    "pattern = 'elH'\n",
    "text = 'Hello world'\n",
    "\n",
    "for item in pattern:\n",
    "    text = text.replace(item, '')\n",
    "\n",
    "i = 0\n",
    "while i < len(pattern):\n",
    "    item = pattern[i]\n",
    "    text = text.replace(item, '')\n",
    "    i += 1\n",
    "    \n",
    "print(text)"
   ]
  },
  {
   "cell_type": "markdown",
   "id": "b99558e5-d62f-4abd-8f63-59154dd06771",
   "metadata": {},
   "source": [
    "**ljust(), rjust(), center()**"
   ]
  },
  {
   "cell_type": "code",
   "execution_count": 12,
   "id": "4d6f31db-5bbd-4bdf-8488-44d147736f34",
   "metadata": {},
   "outputs": [
    {
     "name": "stdout",
     "output_type": "stream",
     "text": [
      "Hello          world\n"
     ]
    }
   ],
   "source": [
    "x = 'Hello'\n",
    "y = 'world'\n",
    "\n",
    "res = x.ljust(15) + y\n",
    "print(res)"
   ]
  },
  {
   "cell_type": "code",
   "execution_count": 14,
   "id": "fdefb379-2745-4996-ab16-41fc4cba565f",
   "metadata": {},
   "outputs": [
    {
     "name": "stdout",
     "output_type": "stream",
     "text": [
      "          Hello\n",
      "           Oleh\n",
      "         Python\n"
     ]
    }
   ],
   "source": [
    "x = 'Hello'\n",
    "y = 'Oleh'\n",
    "z = 'Python'\n",
    "\n",
    "print(x.rjust(15))\n",
    "print(y.rjust(15))\n",
    "print(z.rjust(15))"
   ]
  },
  {
   "cell_type": "code",
   "execution_count": 15,
   "id": "44172131-2eb1-4185-ad35-e0cb35a4f659",
   "metadata": {},
   "outputs": [
    {
     "name": "stdout",
     "output_type": "stream",
     "text": [
      "     Hello     \n",
      "      Oleh     \n",
      "     Python    \n"
     ]
    }
   ],
   "source": [
    "x = 'Hello'\n",
    "y = 'Oleh'\n",
    "z = 'Python'\n",
    "\n",
    "print(x.center(15))\n",
    "print(y.center(15))\n",
    "print(z.center(15))"
   ]
  },
  {
   "cell_type": "code",
   "execution_count": null,
   "id": "3ca75ccf-6a8b-46ac-9c2d-9a67f3e506df",
   "metadata": {},
   "outputs": [],
   "source": []
  }
 ],
 "metadata": {
  "kernelspec": {
   "display_name": "Python 3 (ipykernel)",
   "language": "python",
   "name": "python3"
  },
  "language_info": {
   "codemirror_mode": {
    "name": "ipython",
    "version": 3
   },
   "file_extension": ".py",
   "mimetype": "text/x-python",
   "name": "python",
   "nbconvert_exporter": "python",
   "pygments_lexer": "ipython3",
   "version": "3.12.5"
  }
 },
 "nbformat": 4,
 "nbformat_minor": 5
}
