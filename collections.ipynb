{
 "cells": [
  {
   "cell_type": "code",
   "execution_count": 2,
   "id": "e5192211-f624-4bd7-8fac-ce6f34813e6e",
   "metadata": {},
   "outputs": [
    {
     "name": "stdout",
     "output_type": "stream",
     "text": [
      "one\n",
      "one\n"
     ]
    }
   ],
   "source": [
    "x = {1: 'one', 2: 'two'}\n",
    "print(x[1])\n",
    "print(x.get(1))"
   ]
  },
  {
   "cell_type": "code",
   "execution_count": 3,
   "id": "3462754f-c0a1-4355-b234-c25b89ae9ab8",
   "metadata": {},
   "outputs": [
    {
     "ename": "KeyError",
     "evalue": "3",
     "output_type": "error",
     "traceback": [
      "\u001b[1;31m---------------------------------------------------------------------------\u001b[0m",
      "\u001b[1;31mKeyError\u001b[0m                                  Traceback (most recent call last)",
      "Cell \u001b[1;32mIn[3], line 1\u001b[0m\n\u001b[1;32m----> 1\u001b[0m \u001b[43mx\u001b[49m\u001b[43m[\u001b[49m\u001b[38;5;241;43m3\u001b[39;49m\u001b[43m]\u001b[49m\n",
      "\u001b[1;31mKeyError\u001b[0m: 3"
     ]
    }
   ],
   "source": [
    "x[3]"
   ]
  },
  {
   "cell_type": "code",
   "execution_count": 6,
   "id": "748042bc-af29-4619-a0d1-3544d760db12",
   "metadata": {},
   "outputs": [
    {
     "name": "stdout",
     "output_type": "stream",
     "text": [
      "None\n",
      "Error\n"
     ]
    }
   ],
   "source": [
    "print(x.get(3))\n",
    "print(x.get(3, 'Error'))"
   ]
  },
  {
   "cell_type": "code",
   "execution_count": 7,
   "id": "f4adbd52-f69a-4d4d-a3e7-f436e935ec75",
   "metadata": {},
   "outputs": [],
   "source": [
    "x = {'Tom': 0, 'Maria': 0}\n",
    "\n",
    "if 'Jack' in x:\n",
    "    x['Jack'] += 100\n",
    "else:\n",
    "    x['Jack'] = 100\n",
    "\n",
    "\n",
    "x['Jack'] = x.get('Jack', 0) + 100"
   ]
  },
  {
   "cell_type": "code",
   "execution_count": 8,
   "id": "0a550634-1eb2-466c-9d01-f5198fab5937",
   "metadata": {},
   "outputs": [
    {
     "name": "stdout",
     "output_type": "stream",
     "text": [
      "5\n",
      "{'apple': 5, 'banana': 2}\n"
     ]
    }
   ],
   "source": [
    "x = {'apple': 5, 'banana': 2}\n",
    "\n",
    "y = x.setdefault('apple', 10)\n",
    "print(y)\n",
    "print(x)"
   ]
  },
  {
   "cell_type": "code",
   "execution_count": 9,
   "id": "4eb0b8ca-6304-4c10-8656-232131c34887",
   "metadata": {},
   "outputs": [
    {
     "name": "stdout",
     "output_type": "stream",
     "text": [
      "10\n",
      "{'apple': 5, 'banana': 2, 'orange': 10}\n"
     ]
    }
   ],
   "source": [
    "y = x.setdefault('orange', 10)\n",
    "print(y)\n",
    "print(x)"
   ]
  },
  {
   "cell_type": "code",
   "execution_count": 10,
   "id": "c66fe90b-ed13-4ea2-a836-4c03144317b5",
   "metadata": {},
   "outputs": [
    {
     "ename": "KeyboardInterrupt",
     "evalue": "Interrupted by user",
     "output_type": "error",
     "traceback": [
      "\u001b[1;31m---------------------------------------------------------------------------\u001b[0m",
      "\u001b[1;31mKeyboardInterrupt\u001b[0m                         Traceback (most recent call last)",
      "Cell \u001b[1;32mIn[10], line 8\u001b[0m\n\u001b[0;32m      6\u001b[0m studetns \u001b[38;5;241m=\u001b[39m OrderedDict()\n\u001b[0;32m      7\u001b[0m \u001b[38;5;28;01mwhile\u001b[39;00m \u001b[38;5;28;01mTrue\u001b[39;00m:\n\u001b[1;32m----> 8\u001b[0m     name \u001b[38;5;241m=\u001b[39m \u001b[38;5;28;43minput\u001b[39;49m\u001b[43m(\u001b[49m\u001b[38;5;124;43m'\u001b[39;49m\u001b[38;5;124;43mname>>\u001b[39;49m\u001b[38;5;124;43m'\u001b[39;49m\u001b[43m)\u001b[49m\n\u001b[0;32m      9\u001b[0m     avg \u001b[38;5;241m=\u001b[39m \u001b[38;5;28mint\u001b[39m(\u001b[38;5;28minput\u001b[39m(\u001b[38;5;124m'\u001b[39m\u001b[38;5;124mavg>>\u001b[39m\u001b[38;5;124m'\u001b[39m))\n\u001b[0;32m     10\u001b[0m     studetns[name] \u001b[38;5;241m=\u001b[39m avg\n",
      "File \u001b[1;32mD:\\ICH\\class_work\\venv\\Lib\\site-packages\\ipykernel\\kernelbase.py:1282\u001b[0m, in \u001b[0;36mKernel.raw_input\u001b[1;34m(self, prompt)\u001b[0m\n\u001b[0;32m   1280\u001b[0m     msg \u001b[38;5;241m=\u001b[39m \u001b[38;5;124m\"\u001b[39m\u001b[38;5;124mraw_input was called, but this frontend does not support input requests.\u001b[39m\u001b[38;5;124m\"\u001b[39m\n\u001b[0;32m   1281\u001b[0m     \u001b[38;5;28;01mraise\u001b[39;00m StdinNotImplementedError(msg)\n\u001b[1;32m-> 1282\u001b[0m \u001b[38;5;28;01mreturn\u001b[39;00m \u001b[38;5;28;43mself\u001b[39;49m\u001b[38;5;241;43m.\u001b[39;49m\u001b[43m_input_request\u001b[49m\u001b[43m(\u001b[49m\n\u001b[0;32m   1283\u001b[0m \u001b[43m    \u001b[49m\u001b[38;5;28;43mstr\u001b[39;49m\u001b[43m(\u001b[49m\u001b[43mprompt\u001b[49m\u001b[43m)\u001b[49m\u001b[43m,\u001b[49m\n\u001b[0;32m   1284\u001b[0m \u001b[43m    \u001b[49m\u001b[38;5;28;43mself\u001b[39;49m\u001b[38;5;241;43m.\u001b[39;49m\u001b[43m_parent_ident\u001b[49m\u001b[43m[\u001b[49m\u001b[38;5;124;43m\"\u001b[39;49m\u001b[38;5;124;43mshell\u001b[39;49m\u001b[38;5;124;43m\"\u001b[39;49m\u001b[43m]\u001b[49m\u001b[43m,\u001b[49m\n\u001b[0;32m   1285\u001b[0m \u001b[43m    \u001b[49m\u001b[38;5;28;43mself\u001b[39;49m\u001b[38;5;241;43m.\u001b[39;49m\u001b[43mget_parent\u001b[49m\u001b[43m(\u001b[49m\u001b[38;5;124;43m\"\u001b[39;49m\u001b[38;5;124;43mshell\u001b[39;49m\u001b[38;5;124;43m\"\u001b[39;49m\u001b[43m)\u001b[49m\u001b[43m,\u001b[49m\n\u001b[0;32m   1286\u001b[0m \u001b[43m    \u001b[49m\u001b[43mpassword\u001b[49m\u001b[38;5;241;43m=\u001b[39;49m\u001b[38;5;28;43;01mFalse\u001b[39;49;00m\u001b[43m,\u001b[49m\n\u001b[0;32m   1287\u001b[0m \u001b[43m\u001b[49m\u001b[43m)\u001b[49m\n",
      "File \u001b[1;32mD:\\ICH\\class_work\\venv\\Lib\\site-packages\\ipykernel\\kernelbase.py:1325\u001b[0m, in \u001b[0;36mKernel._input_request\u001b[1;34m(self, prompt, ident, parent, password)\u001b[0m\n\u001b[0;32m   1322\u001b[0m \u001b[38;5;28;01mexcept\u001b[39;00m \u001b[38;5;167;01mKeyboardInterrupt\u001b[39;00m:\n\u001b[0;32m   1323\u001b[0m     \u001b[38;5;66;03m# re-raise KeyboardInterrupt, to truncate traceback\u001b[39;00m\n\u001b[0;32m   1324\u001b[0m     msg \u001b[38;5;241m=\u001b[39m \u001b[38;5;124m\"\u001b[39m\u001b[38;5;124mInterrupted by user\u001b[39m\u001b[38;5;124m\"\u001b[39m\n\u001b[1;32m-> 1325\u001b[0m     \u001b[38;5;28;01mraise\u001b[39;00m \u001b[38;5;167;01mKeyboardInterrupt\u001b[39;00m(msg) \u001b[38;5;28;01mfrom\u001b[39;00m \u001b[38;5;28;01mNone\u001b[39;00m\n\u001b[0;32m   1326\u001b[0m \u001b[38;5;28;01mexcept\u001b[39;00m \u001b[38;5;167;01mException\u001b[39;00m:\n\u001b[0;32m   1327\u001b[0m     \u001b[38;5;28mself\u001b[39m\u001b[38;5;241m.\u001b[39mlog\u001b[38;5;241m.\u001b[39mwarning(\u001b[38;5;124m\"\u001b[39m\u001b[38;5;124mInvalid Message:\u001b[39m\u001b[38;5;124m\"\u001b[39m, exc_info\u001b[38;5;241m=\u001b[39m\u001b[38;5;28;01mTrue\u001b[39;00m)\n",
      "\u001b[1;31mKeyboardInterrupt\u001b[0m: Interrupted by user"
     ]
    }
   ],
   "source": [
    "from collections import OrderedDict\n",
    "\n",
    "\n",
    "# Part 1 - Students with AVG >= 80\n",
    "# Part 2 - Students with AVG < 80\n",
    "studetns = OrderedDict()\n",
    "while True:\n",
    "    name = input('name>>')\n",
    "    avg = int(input('avg>>'))\n",
    "    studetns[name] = avg\n",
    "    if avg >= 80:\n",
    "        studetns.move_to_end(name, last=False)\n",
    "\n",
    "    if input('Continue? (y/n)') == 'n':\n",
    "        break"
   ]
  },
  {
   "cell_type": "code",
   "execution_count": null,
   "id": "a0497005-9818-4991-9d71-e623ef42b12d",
   "metadata": {},
   "outputs": [],
   "source": [
    "from collections import OrderedDict\n",
    "\n",
    "\n",
    "def lru_cache(capacity, cache, key, value):\n",
    "    if key in cache:\n",
    "        # Если ключ уже существует, обновляем значение и перемещаем элемент в конец словаря\n",
    "        cache.pop(key)\n",
    "    elif len(cache) >= capacity:\n",
    "        # Если кэш переполнен, удаляем первый элемент (самый старый)\n",
    "        cache.popitem(last=False)\n",
    "    cache[key] = value\n",
    "\n",
    "\n",
    "capacity = 3\n",
    "cache = OrderedDict()\n",
    "lru_cache(capacity, cache, \"key1\", \"value1\")\n",
    "lru_cache(capacity, cache, \"key2\", \"value2\")\n",
    "lru_cache(capacity, cache, \"key3\", \"value3\")\n",
    "\n",
    "print(cache)  \n",
    "lru_cache(capacity, cache, \"key2\", \"new_value2\")  \n",
    "print(cache) \n",
    "\n",
    "lru_cache(capacity, cache, \"key4\", \"value4\")  \n",
    "print(cache)  # Выводит OrderedDict([('key3', 'value3'), ('key2', 'new_value2'), ('key4', 'value4')])"
   ]
  },
  {
   "cell_type": "code",
   "execution_count": 21,
   "id": "bc0109b7-3607-4950-adfb-afe6bbb9b35c",
   "metadata": {},
   "outputs": [
    {
     "name": "stdout",
     "output_type": "stream",
     "text": [
      "defaultdict(<class 'int'>, {})\n",
      "5\n",
      "0\n",
      "0\n"
     ]
    }
   ],
   "source": [
    "from collections import defaultdict\n",
    "\n",
    "x = defaultdict(int)\n",
    "print(x)\n",
    "x['apple'] = 5\n",
    "print(x['apple'])\n",
    "print(x['banana'])\n",
    "print(x['orange'])"
   ]
  },
  {
   "cell_type": "code",
   "execution_count": 20,
   "id": "ad01d1b5-7c6a-46e1-a932-4e52c51b10fc",
   "metadata": {},
   "outputs": [
    {
     "name": "stdout",
     "output_type": "stream",
     "text": [
      "[100, 95, 99]\n",
      "[]\n"
     ]
    }
   ],
   "source": [
    "students = defaultdict(list)\n",
    "\n",
    "students['Tom'].append(100)\n",
    "students['Tom'].append(95)\n",
    "students['Tom'].append(99)\n",
    "\n",
    "print(students['Tom'])\n",
    "print(students['Maria'])"
   ]
  },
  {
   "cell_type": "code",
   "execution_count": null,
   "id": "bf8b868d-848f-4983-b168-97e1b056b46b",
   "metadata": {},
   "outputs": [],
   "source": [
    "from collections import defaultdict\n",
    "\n",
    "\n",
    "fish = defaultdict(list)\n",
    "\n",
    "fish_inventory = [\n",
    "    (\"Sammy\", \"shark\", \"tank-a\"),\n",
    "    (\"Jamie\", \"cuttlefish\", \"tank-b\"),\n",
    "    (\"Mary\", \"squid\", \"tank-a\"),\n",
    "]\n",
    "\n",
    "\n",
    "# x = {}\n",
    "# for item in fish_inventory:\n",
    "#     name, breed, tank = item\n",
    "#     if tank not in x:\n",
    "#         x[tank] = []\n",
    "#     x[tank].append((name, breed))\n",
    "\n",
    "for name, breed, tank in fish_inventory:\n",
    "    fish[tank].append((name, breed))\n",
    "\n",
    "\n",
    "for tank, fish in fish.items():\n",
    "    print(f\"{tank}: {fish}\")\n"
   ]
  },
  {
   "cell_type": "code",
   "execution_count": null,
   "id": "5f71450a-fb36-458a-8314-4ae72184e7fa",
   "metadata": {},
   "outputs": [],
   "source": []
  }
 ],
 "metadata": {
  "kernelspec": {
   "display_name": "Python 3 (ipykernel)",
   "language": "python",
   "name": "python3"
  },
  "language_info": {
   "codemirror_mode": {
    "name": "ipython",
    "version": 3
   },
   "file_extension": ".py",
   "mimetype": "text/x-python",
   "name": "python",
   "nbconvert_exporter": "python",
   "pygments_lexer": "ipython3",
   "version": "3.12.5"
  }
 },
 "nbformat": 4,
 "nbformat_minor": 5
}
