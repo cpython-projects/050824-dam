{
 "cells": [
  {
   "cell_type": "code",
   "execution_count": 1,
   "id": "8a955e21-cca4-4da6-a54f-98973c887597",
   "metadata": {},
   "outputs": [
    {
     "name": "stdout",
     "output_type": "stream",
     "text": [
      "0\n",
      "1\n",
      "4\n",
      "9\n",
      "16\n",
      "25\n",
      "36\n",
      "49\n",
      "64\n",
      "81\n"
     ]
    }
   ],
   "source": [
    "def generate_exp_2(n):\n",
    "    for i in range(n):\n",
    "        yield i ** 2\n",
    "\n",
    "\n",
    "for item in generate_exp_2(10):\n",
    "    print(item)"
   ]
  },
  {
   "cell_type": "code",
   "execution_count": 2,
   "id": "3fb1f0ec-aac9-4056-afd5-c969e8785890",
   "metadata": {},
   "outputs": [
    {
     "name": "stdin",
     "output_type": "stream",
     "text": [
      "n= 10\n"
     ]
    },
    {
     "name": "stdout",
     "output_type": "stream",
     "text": [
      "0\n",
      "1\n",
      "4\n",
      "9\n",
      "16\n",
      "25\n",
      "36\n",
      "49\n",
      "64\n",
      "81\n"
     ]
    }
   ],
   "source": [
    "n = int(input('n='))\n",
    "exp_2 = (i ** 2 for i in range(n))\n",
    "for item in exp_2:\n",
    "    print(item)"
   ]
  },
  {
   "cell_type": "code",
   "execution_count": 9,
   "id": "d101550e-d7cc-451a-871a-33fc448dfd82",
   "metadata": {},
   "outputs": [
    {
     "name": "stdout",
     "output_type": "stream",
     "text": [
      "0\n",
      "1\n",
      "4\n",
      "9\n",
      "16\n",
      "25\n",
      "36\n",
      "49\n",
      "64\n",
      "81\n"
     ]
    }
   ],
   "source": [
    "def generate_exp_2(n):\n",
    "    yield from (i ** 2 for i in range(n))\n",
    "    \n",
    "\n",
    "\n",
    "x = generate_exp_2(10)\n",
    "for item in x:\n",
    "    print(item)"
   ]
  },
  {
   "cell_type": "code",
   "execution_count": 16,
   "id": "fb79377a-5396-4dd2-bc1a-abc1a4c52e79",
   "metadata": {},
   "outputs": [
    {
     "name": "stdout",
     "output_type": "stream",
     "text": [
      "(2, 3, 4, 5)\n",
      "72\n",
      "72\n"
     ]
    }
   ],
   "source": [
    "import sys\n",
    "import itertools\n",
    "\n",
    "x = (1, 2, 3, 4, 5, 6, 7, 8)\n",
    "y = x[1:5]\n",
    "print(y)\n",
    "print(sys.getsizeof(y))\n",
    "\n",
    "y = itertools.islice(x, 1, 5)\n",
    "print(sys.getsizeof(y))"
   ]
  },
  {
   "cell_type": "code",
   "execution_count": 17,
   "id": "8cb9cfd9-3590-40c9-94d7-cbba37f4613b",
   "metadata": {},
   "outputs": [
    {
     "name": "stdout",
     "output_type": "stream",
     "text": [
      "0\n",
      "1\n",
      "4\n"
     ]
    }
   ],
   "source": [
    "def generate_exp_2(n):\n",
    "    for i in range(n):\n",
    "        yield i ** 2\n",
    "\n",
    "\n",
    "for item in generate_exp_2(3):\n",
    "    print(item)"
   ]
  },
  {
   "cell_type": "code",
   "execution_count": 18,
   "id": "57944fd4-c7cb-4e39-a207-03bb2d9707a6",
   "metadata": {},
   "outputs": [
    {
     "name": "stdout",
     "output_type": "stream",
     "text": [
      "0\n",
      "1\n",
      "4\n"
     ]
    }
   ],
   "source": [
    "def generate_exp_2(n):\n",
    "    for i in range(n):\n",
    "        yield i ** 2\n",
    "\n",
    "f = generate_exp_2(3)\n",
    "print(next(f))\n",
    "print(next(f))\n",
    "print(next(f))"
   ]
  },
  {
   "cell_type": "code",
   "execution_count": 19,
   "id": "53712b95-a3c6-4b83-8ac5-0153380b949b",
   "metadata": {},
   "outputs": [
    {
     "name": "stdout",
     "output_type": "stream",
     "text": [
      "{'first_name': 'Mila', 'last_name': 'Sudorov', 'age': 30, 'gender': 'Male'}\n",
      "{'first_name': 'Ivan', 'last_name': 'Juan', 'age': 22, 'gender': 'Female'}\n",
      "{'first_name': 'Mila', 'last_name': 'Sudorov', 'age': 18, 'gender': 'Male'}\n",
      "{'first_name': 'Mila', 'last_name': 'Sudorov', 'age': 27, 'gender': 'Female'}\n",
      "{'first_name': 'Oleh', 'last_name': 'Sudorov', 'age': 19, 'gender': 'Male'}\n"
     ]
    }
   ],
   "source": [
    "import random\n",
    "\n",
    "\n",
    "def gen_data(users):\n",
    "    first_names = ['Ivan', 'Oleh', 'Alena', 'Mila']\n",
    "    last_names = ['Juan', 'Ivanov', 'Petrov', 'Sudorov']\n",
    "\n",
    "    for _ in range(users):\n",
    "        first_name = random.choice(first_names)\n",
    "        last_name = random.choice(last_names)\n",
    "        age = random.randint(18, 50)\n",
    "        gender = random.choice([\"Male\", \"Female\"])\n",
    "\n",
    "        yield {\n",
    "            'first_name': first_name,\n",
    "            'last_name': last_name,\n",
    "            'age': age,\n",
    "            'gender': gender\n",
    "        }\n",
    "\n",
    "\n",
    "for users in gen_data(5):\n",
    "    print(users)"
   ]
  },
  {
   "cell_type": "code",
   "execution_count": 20,
   "id": "fa9a8d09-daa0-40ef-ae10-7f67116a506f",
   "metadata": {},
   "outputs": [
    {
     "name": "stdout",
     "output_type": "stream",
     "text": [
      "0\n",
      "1\n",
      "4\n",
      "9\n",
      "16\n",
      "125\n",
      "216\n",
      "343\n",
      "512\n",
      "729\n",
      "1000\n",
      "1331\n",
      "1728\n",
      "2197\n",
      "2744\n",
      "3375\n",
      "4096\n",
      "4913\n",
      "5832\n",
      "6859\n"
     ]
    }
   ],
   "source": [
    "def gen_exp(n, exp=2):\n",
    "    for i in range(n):\n",
    "        data_to_program = i ** exp\n",
    "        data_from_program = yield data_to_program\n",
    "        if data_from_program:\n",
    "            exp = data_from_program\n",
    "\n",
    "\n",
    "f = gen_exp(20)\n",
    "for i in f:\n",
    "    if i > 10:\n",
    "        print(i)\n",
    "        i = f.send(3)\n",
    "    print(i)"
   ]
  },
  {
   "cell_type": "code",
   "execution_count": null,
   "id": "ef08af8d-7c94-4a7b-b599-49f943f76028",
   "metadata": {},
   "outputs": [],
   "source": []
  }
 ],
 "metadata": {
  "kernelspec": {
   "display_name": "Python 3 (ipykernel)",
   "language": "python",
   "name": "python3"
  },
  "language_info": {
   "codemirror_mode": {
    "name": "ipython",
    "version": 3
   },
   "file_extension": ".py",
   "mimetype": "text/x-python",
   "name": "python",
   "nbconvert_exporter": "python",
   "pygments_lexer": "ipython3",
   "version": "3.12.4"
  }
 },
 "nbformat": 4,
 "nbformat_minor": 5
}
