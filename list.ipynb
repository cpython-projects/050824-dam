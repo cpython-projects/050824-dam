{
 "cells": [
  {
   "cell_type": "code",
   "execution_count": 2,
   "id": "0df8a029-22fe-4dea-bd8c-0ba241764b92",
   "metadata": {},
   "outputs": [
    {
     "name": "stdout",
     "output_type": "stream",
     "text": [
      "2695124772672\n",
      "2695124772672\n"
     ]
    }
   ],
   "source": [
    "x = [1, 2, 3, 4]\n",
    "print(id(x))\n",
    "\n",
    "x[0] = 100\n",
    "print(id(x))"
   ]
  },
  {
   "cell_type": "code",
   "execution_count": 4,
   "id": "6ff7bb03-95f6-43cc-93fe-fdf986425cbb",
   "metadata": {},
   "outputs": [
    {
     "name": "stdout",
     "output_type": "stream",
     "text": [
      "4\n",
      "[1, 1.0, 'Hello', [1, 2, 3, 4, 5]]\n"
     ]
    }
   ],
   "source": [
    "x = [1, 1.0, 'Hello', [1, 2, 3, 4, 5]]\n",
    "\n",
    "print(len(x))\n",
    "print(x)"
   ]
  },
  {
   "cell_type": "code",
   "execution_count": 5,
   "id": "eb942ae3-c9e8-42fe-a1d9-68d82fd8e3d2",
   "metadata": {},
   "outputs": [
    {
     "name": "stdout",
     "output_type": "stream",
     "text": [
      "Hello\n",
      "None\n"
     ]
    }
   ],
   "source": [
    "x = print('Hello')\n",
    "print(x)"
   ]
  },
  {
   "cell_type": "code",
   "execution_count": 8,
   "id": "27adc161-3ae8-4d8e-8a2a-795cd7b6a71e",
   "metadata": {},
   "outputs": [
    {
     "name": "stdout",
     "output_type": "stream",
     "text": [
      "[1, 2, 3, 4, 5]\n"
     ]
    }
   ],
   "source": [
    "x = [1, 1.0, 'Hello', [1, 2, 3, 4, 5]]\n",
    "print(x[3])"
   ]
  },
  {
   "cell_type": "code",
   "execution_count": 11,
   "id": "a8e75036-6838-48a8-b24a-4f20cbcfee3e",
   "metadata": {},
   "outputs": [
    {
     "name": "stdout",
     "output_type": "stream",
     "text": [
      "[4, 3, 2, 1]\n",
      "2695130809024\n",
      "2695130812160\n"
     ]
    }
   ],
   "source": [
    "x = [1, 2, 3, 4]\n",
    "\n",
    "y = x[::-1]\n",
    "print(y)\n",
    "print(id(x))\n",
    "print(id(y))"
   ]
  },
  {
   "cell_type": "code",
   "execution_count": 13,
   "id": "86774c20-ce4e-4ff9-85e4-975ead47d166",
   "metadata": {},
   "outputs": [
    {
     "name": "stdout",
     "output_type": "stream",
     "text": [
      "2695130731136\n",
      "[4, 3, 2, 1]\n",
      "2695130731136\n"
     ]
    }
   ],
   "source": [
    "x = [1, 2, 3, 4]\n",
    "print(id(x))\n",
    "x.reverse()\n",
    "print(x)\n",
    "print(id(x))"
   ]
  },
  {
   "cell_type": "code",
   "execution_count": 14,
   "id": "82fa624d-80ca-4b99-a551-46e4f8018946",
   "metadata": {},
   "outputs": [
    {
     "name": "stdout",
     "output_type": "stream",
     "text": [
      "5\n",
      "4\n",
      "3\n",
      "2\n",
      "1\n"
     ]
    }
   ],
   "source": [
    "x = [1, 2, 3, 4, 5]\n",
    "\n",
    "for item in reversed(x):\n",
    "    print(item)"
   ]
  },
  {
   "cell_type": "code",
   "execution_count": 15,
   "id": "836a29dd-0b07-44f2-97fe-341cbba3eea1",
   "metadata": {},
   "outputs": [
    {
     "name": "stdout",
     "output_type": "stream",
     "text": [
      "['Hello', 'world', 'Python', 'awesome']\n"
     ]
    }
   ],
   "source": [
    "x = 'Hello world Python awesome'\n",
    "\n",
    "y = x.split()\n",
    "\n",
    "print(y)"
   ]
  },
  {
   "cell_type": "code",
   "execution_count": 17,
   "id": "1c2aaf12-4a9f-47a9-956a-007b739ca94c",
   "metadata": {},
   "outputs": [
    {
     "name": "stdout",
     "output_type": "stream",
     "text": [
      "Hello\n",
      "world\n",
      "Python\n",
      "awesome\n"
     ]
    }
   ],
   "source": [
    "x = '\\n'.join(y)\n",
    "\n",
    "print(x)"
   ]
  },
  {
   "cell_type": "code",
   "execution_count": 21,
   "id": "32f36612-f236-4296-a0ac-b0b09abd79e0",
   "metadata": {},
   "outputs": [
    {
     "name": "stdin",
     "output_type": "stream",
     "text": [
      "n= 23456789\n"
     ]
    },
    {
     "name": "stdout",
     "output_type": "stream",
     "text": [
      "['2', '3', '4', '5', '6', '7', '8', '9']\n",
      "[2, 3, 4, 5, 6, 7, 8, 9]\n",
      "[2, 3, 4, 5, 6, 7, 8, 9]\n",
      "(2, '2') (3, '3') (4, '4') (5, '5') (6, '6') (7, '7') (8, '8') (9, '9')\n"
     ]
    }
   ],
   "source": [
    "x = input('n=')\n",
    "\n",
    "y = list(x)\n",
    "print(y)\n",
    "\n",
    "y = []\n",
    "for item in x:\n",
    "    y.append(int(item))\n",
    "print(y)\n",
    "\n",
    "\n",
    "y = list(map(int, x))\n",
    "print(y)\n",
    "\n",
    "print(*zip(y, x))\n"
   ]
  },
  {
   "cell_type": "code",
   "execution_count": 23,
   "id": "1f6dbd1c-2d77-4fd5-9677-2bce632c9837",
   "metadata": {},
   "outputs": [
    {
     "name": "stdout",
     "output_type": "stream",
     "text": [
      "2695130915968\n",
      "2695130915968\n",
      "[1, 2, 3, 4, 2, 3, 4]\n"
     ]
    }
   ],
   "source": [
    "x = [1, 2, 3, 4]\n",
    "y = [2, 3, 4]\n",
    "print(id(x))\n",
    "x.extend(y)\n",
    "print(id(x))\n",
    "print(x)"
   ]
  },
  {
   "cell_type": "code",
   "execution_count": 25,
   "id": "c1c20d03-9b55-47ef-a98b-0b5c4d9ab3e6",
   "metadata": {},
   "outputs": [
    {
     "name": "stdout",
     "output_type": "stream",
     "text": [
      "[1, 2, 3, 4]\n",
      "[1, 2, 3]\n",
      "[1, 2, 3, 4, 1, 2, 3]\n"
     ]
    }
   ],
   "source": [
    "x = [1, 2, 3, 4]\n",
    "y = [1, 2, 3]\n",
    "\n",
    "z = x + y\n",
    "print(x)\n",
    "print(y)\n",
    "print(z)"
   ]
  },
  {
   "cell_type": "code",
   "execution_count": 26,
   "id": "d2674654-e0c0-4b18-be34-6180959578e1",
   "metadata": {},
   "outputs": [
    {
     "name": "stdin",
     "output_type": "stream",
     "text": [
      "Input numbers: 123\n"
     ]
    },
    {
     "name": "stdout",
     "output_type": "stream",
     "text": [
      "['123']\n",
      "[123]\n",
      "[123]\n"
     ]
    }
   ],
   "source": [
    "import string\n",
    "\n",
    "numbers = input('Input numbers:')\n",
    "\n",
    "for item in string.punctuation:\n",
    "    numbers = numbers.replace(item, ' ')\n",
    "\n",
    "numbers = numbers.split()\n",
    "\n",
    "print(numbers)\n",
    "\n",
    "for i, item in enumerate(numbers):\n",
    "    numbers[i] = int(item)\n",
    "\n",
    "print(numbers)\n",
    "\n",
    "# numbers = list(map(int, numbers))\n",
    "\n",
    "res = []\n",
    "for item in numbers:\n",
    "    if numbers.count(item) == 1:\n",
    "        res.append(item)\n",
    "\n",
    "print(res)"
   ]
  },
  {
   "cell_type": "code",
   "execution_count": 27,
   "id": "a659b7e6-cc80-46ea-b240-0d5698f898b7",
   "metadata": {},
   "outputs": [
    {
     "name": "stdout",
     "output_type": "stream",
     "text": [
      "[0, 0, 0, 0, 0, 0, 0, 0, 0, 0]\n"
     ]
    }
   ],
   "source": [
    "x = [0] * 10\n",
    "print(x)"
   ]
  },
  {
   "cell_type": "code",
   "execution_count": 29,
   "id": "39465d6c-90f4-408e-8690-cc382d118ca4",
   "metadata": {},
   "outputs": [
    {
     "name": "stdout",
     "output_type": "stream",
     "text": [
      "[[1, 2, 3], [1, 2, 3], [1, 2, 3], [1, 2, 3], [1, 2, 3], [1, 2, 3], [1, 2, 3], [1, 2, 3], [1, 2, 3], [1, 2, 3]]\n",
      "[[100, 2, 3], [100, 2, 3], [100, 2, 3], [100, 2, 3], [100, 2, 3], [100, 2, 3], [100, 2, 3], [100, 2, 3], [100, 2, 3], [100, 2, 3]]\n"
     ]
    }
   ],
   "source": [
    "x = [[1, 2, 3]] * 10\n",
    "print(x)\n",
    "x[0][0] = 100\n",
    "print(x)"
   ]
  },
  {
   "cell_type": "code",
   "execution_count": null,
   "id": "39c0d753-cc65-4fe8-84e2-35febb71353c",
   "metadata": {},
   "outputs": [],
   "source": []
  }
 ],
 "metadata": {
  "kernelspec": {
   "display_name": "Python 3 (ipykernel)",
   "language": "python",
   "name": "python3"
  },
  "language_info": {
   "codemirror_mode": {
    "name": "ipython",
    "version": 3
   },
   "file_extension": ".py",
   "mimetype": "text/x-python",
   "name": "python",
   "nbconvert_exporter": "python",
   "pygments_lexer": "ipython3",
   "version": "3.12.5"
  }
 },
 "nbformat": 4,
 "nbformat_minor": 5
}
