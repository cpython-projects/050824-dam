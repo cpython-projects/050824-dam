{
 "cells": [
  {
   "cell_type": "code",
   "execution_count": 4,
   "id": "61924a5b-b5ab-4184-a70d-3ff327960d0a",
   "metadata": {},
   "outputs": [],
   "source": [
    "x = ['1\\n', '2\\n', '4\\n']\n",
    "y = ['1', '2', '3', '4']\n",
    "with open('data.txt', 'w') as file:\n",
    "    file.write('hello\\n')\n",
    "    file.writelines(x)\n",
    "    file.writelines(', '.join(y))    "
   ]
  },
  {
   "cell_type": "code",
   "execution_count": 8,
   "id": "f59f5fe4-fe79-4543-97ab-d5275f107a7c",
   "metadata": {},
   "outputs": [
    {
     "name": "stdout",
     "output_type": "stream",
     "text": [
      "{\n",
      "    \"name\": \"Alice\",\n",
      "    \"age\": 30,\n",
      "    \"is_student\": false,\n",
      "    \"courses\": [\n",
      "        \"Math\",\n",
      "        \"Physics\"\n",
      "    ],\n",
      "    \"address\": {\n",
      "        \"city\": \"New York\",\n",
      "        \"zip\": \"10001\"\n",
      "    }\n",
      "}\n"
     ]
    }
   ],
   "source": [
    "import json\n",
    "\n",
    "data = {\n",
    "    \"name\": \"Alice\",\n",
    "    \"age\": 30,\n",
    "    \"is_student\": False,\n",
    "    \"courses\": (\"Math\", \"Physics\"),\n",
    "    \"address\": {\"city\": \"New York\", \"zip\": \"10001\"}\n",
    "}\n",
    "\n",
    "json_string = json.dumps(data, indent=4)\n",
    "print(json_string)\n"
   ]
  },
  {
   "cell_type": "code",
   "execution_count": 9,
   "id": "5083eb33-04ff-4e9f-82a3-6047076c2ddd",
   "metadata": {},
   "outputs": [
    {
     "name": "stdout",
     "output_type": "stream",
     "text": [
      "{'name': 'Alice', 'age': 30, 'is_student': False, 'courses': ['Math', 'Physics'], 'address': {'city': 'New York', 'zip': '10001'}}\n"
     ]
    }
   ],
   "source": [
    "data = \"\"\"\n",
    "{\n",
    "    \"name\": \"Alice\",\n",
    "    \"age\": 30,\n",
    "    \"is_student\": false,\n",
    "    \"courses\": [\n",
    "        \"Math\",\n",
    "        \"Physics\"\n",
    "    ],\n",
    "    \"address\": {\n",
    "        \"city\": \"New York\",\n",
    "        \"zip\": \"10001\"\n",
    "    }\n",
    "}\n",
    "\"\"\"\n",
    "\n",
    "import json\n",
    "result = json.loads(data)\n",
    "print(result)"
   ]
  },
  {
   "cell_type": "code",
   "execution_count": 10,
   "id": "7a66c9f3-e25b-492e-91b3-cf8d4d12be9e",
   "metadata": {},
   "outputs": [],
   "source": [
    "class Address:\n",
    "    def __init__(self, street, city, zip_code):\n",
    "        self.street = street\n",
    "        self.city = city\n",
    "        self.zip_code = zip_code\n",
    "\n",
    "    def __str__(self):\n",
    "        return f'{self.city}, {self.zip_code}, {self.street}'\n",
    "\n",
    "    def __repr__(self):\n",
    "        return f\"Address({self.__dict__})\"\n",
    "\n",
    "class Student:\n",
    "    def __init__(self, name, date_of_birth, address):\n",
    "        self.name = name\n",
    "        self.date_of_birth = date_of_birth\n",
    "        self.address = address\n",
    "\n",
    "    def __repr__(self):\n",
    "        return f\"Student({self.__dict__})\"\n",
    "\n",
    "    def __str__(self):\n",
    "        return f'{self.name}'\n"
   ]
  },
  {
   "cell_type": "code",
   "execution_count": 13,
   "id": "55105c18-c087-47fa-98fb-56ec76ef1b82",
   "metadata": {},
   "outputs": [
    {
     "name": "stdout",
     "output_type": "stream",
     "text": [
      "Alice\n",
      "Bob\n",
      "Charlie\n"
     ]
    }
   ],
   "source": [
    "students = [\n",
    "    Student(\"Alice\", '01.01.2000', Address(\"5th Avenue\", \"New York\", \"10001\")),\n",
    "    Student(\"Bob\", '01.01.2000', Address(\"Oak Street\", \"Los Angeles\", \"90001\")),\n",
    "    Student(\"Charlie\", '01.01.2000', Address(\"Maple Street\", \"Chicago\", \"60601\"))\n",
    "]\n",
    "\n",
    "for item in students:\n",
    "    print(item)"
   ]
  },
  {
   "cell_type": "code",
   "execution_count": 23,
   "id": "32542660-9051-4bce-b444-1ec0dd554054",
   "metadata": {},
   "outputs": [
    {
     "name": "stdout",
     "output_type": "stream",
     "text": [
      "Сериализованный JSON:\n",
      " [\n",
      "    {\n",
      "        \"name\": \"Alice\",\n",
      "        \"date_of_birth\": \"01.01.2000\",\n",
      "        \"address\": {\n",
      "            \"street\": \"5th Avenue\",\n",
      "            \"city\": \"New York\",\n",
      "            \"zip_code\": \"10001\"\n",
      "        }\n",
      "    },\n",
      "    {\n",
      "        \"name\": \"Bob\",\n",
      "        \"date_of_birth\": \"01.01.2000\",\n",
      "        \"address\": {\n",
      "            \"street\": \"Oak Street\",\n",
      "            \"city\": \"Los Angeles\",\n",
      "            \"zip_code\": \"90001\"\n",
      "        }\n",
      "    },\n",
      "    {\n",
      "        \"name\": \"Charlie\",\n",
      "        \"date_of_birth\": \"01.01.2000\",\n",
      "        \"address\": {\n",
      "            \"street\": \"Maple Street\",\n",
      "            \"city\": \"Chicago\",\n",
      "            \"zip_code\": \"60601\"\n",
      "        }\n",
      "    }\n",
      "]\n"
     ]
    }
   ],
   "source": [
    "def custom_serializer(obj):\n",
    "    if isinstance(obj, Student | Address):\n",
    "        return obj.__dict__\n",
    "    raise TypeError(f\"Object of type {type(obj)} is not JSON serializable\")\n",
    "\n",
    "# with open('dump.json', 'w') as file:\n",
    "#     json.dump(students, file, default=custom_serializer, indent=4)\n",
    "try:\n",
    "    json_string = json.dumps(students, default=custom_serializer, indent=4)\n",
    "    print(\"Сериализованный JSON:\\n\", json_string)\n",
    "except TypeError as e:\n",
    "    print(f\"Ошибка сериализации: {e}\")"
   ]
  },
  {
   "cell_type": "code",
   "execution_count": 24,
   "id": "c16397f7-d0d9-4643-a7f7-7461374fba1c",
   "metadata": {},
   "outputs": [
    {
     "name": "stdout",
     "output_type": "stream",
     "text": [
      "\n",
      "Десериализованные объекты:\n",
      "Alice\n",
      "Bob\n",
      "Charlie\n"
     ]
    }
   ],
   "source": [
    "data = \"\"\"\n",
    "[\n",
    "    {\n",
    "        \"name\": \"Alice\",\n",
    "        \"date_of_birth\": \"01.01.2000\",\n",
    "        \"address\": {\n",
    "            \"street\": \"5th Avenue\",\n",
    "            \"city\": \"New York\",\n",
    "            \"zip_code\": \"10001\"\n",
    "        }\n",
    "    },\n",
    "    {\n",
    "        \"name\": \"Bob\",\n",
    "        \"date_of_birth\": \"01.01.2000\",\n",
    "        \"address\": {\n",
    "            \"street\": \"Oak Street\",\n",
    "            \"city\": \"Los Angeles\",\n",
    "            \"zip_code\": \"90001\"\n",
    "        }\n",
    "    },\n",
    "    {\n",
    "        \"name\": \"Charlie\",\n",
    "        \"date_of_birth\": \"01.01.2000\",\n",
    "        \"address\": {\n",
    "            \"street\": \"Maple Street\",\n",
    "            \"city\": \"Chicago\",\n",
    "            \"zip_code\": \"60601\"\n",
    "        }\n",
    "    }\n",
    "]\n",
    "\"\"\"\n",
    "def custom_deserializer(dct):\n",
    "    if isinstance(dct, dict):\n",
    "        if \"street\" in dct and \"city\" in dct and \"zip_code\" in dct:\n",
    "            return Address(**dct)\n",
    "        if \"name\" in dct and \"date_of_birth\" in dct and \"address\" in dct:\n",
    "            address = custom_deserializer(dct[\"address\"])\n",
    "            return Student(dct[\"name\"], dct[\"date_of_birth\"], address)\n",
    "    return dct\n",
    "\n",
    "try:\n",
    "    students_data = json.loads(data, object_hook=custom_deserializer)\n",
    "    print(\"\\nДесериализованные объекты:\")\n",
    "    for student in students_data:\n",
    "        print(student)\n",
    "except json.JSONDecodeError as e:\n",
    "    print(f\"Ошибка парсинга JSON: {e}\")\n",
    "except ValueError as e:\n",
    "    print(f\"Ошибка десериализации: {e}\")\n",
    "except Exception as e:\n",
    "    print(e)"
   ]
  },
  {
   "cell_type": "code",
   "execution_count": null,
   "id": "d51948a6-d3c0-4176-8ca7-673497705940",
   "metadata": {},
   "outputs": [],
   "source": []
  }
 ],
 "metadata": {
  "kernelspec": {
   "display_name": "Python 3 (ipykernel)",
   "language": "python",
   "name": "python3"
  },
  "language_info": {
   "codemirror_mode": {
    "name": "ipython",
    "version": 3
   },
   "file_extension": ".py",
   "mimetype": "text/x-python",
   "name": "python",
   "nbconvert_exporter": "python",
   "pygments_lexer": "ipython3",
   "version": "3.12.4"
  }
 },
 "nbformat": 4,
 "nbformat_minor": 5
}
