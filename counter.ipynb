{
  "nbformat": 4,
  "nbformat_minor": 0,
  "metadata": {
    "colab": {
      "provenance": [],
      "authorship_tag": "ABX9TyPrR9P5J/ZNS8/La3gT3zLX",
      "include_colab_link": true
    },
    "kernelspec": {
      "name": "python3",
      "display_name": "Python 3"
    },
    "language_info": {
      "name": "python"
    }
  },
  "cells": [
    {
      "cell_type": "markdown",
      "metadata": {
        "id": "view-in-github",
        "colab_type": "text"
      },
      "source": [
        "<a href=\"https://colab.research.google.com/github/cpython-projects/050824-dam/blob/main/counter.ipynb\" target=\"_parent\"><img src=\"https://colab.research.google.com/assets/colab-badge.svg\" alt=\"Open In Colab\"/></a>"
      ]
    },
    {
      "cell_type": "code",
      "execution_count": null,
      "metadata": {
        "colab": {
          "base_uri": "https://localhost:8080/"
        },
        "id": "oi2YuZeKCPwX",
        "outputId": "7fe96bf4-60e4-41a9-c196-a12acaaaffdb"
      },
      "outputs": [
        {
          "output_type": "stream",
          "name": "stdout",
          "text": [
            "['ivan', 'vani', 'navi']\n",
            "['ivan', 'vani', 'navi']\n",
            "['ivan', 'vani', 'navi']\n"
          ]
        }
      ],
      "source": [
        "# Var 4\n",
        "from collections import Counter\n",
        "import string\n",
        "\n",
        "text = input('text>>')\n",
        "\n",
        "# text = ''.join((item for item in text if item in string.ascii_letters))\n",
        "text = ''.join(filter(lambda x: x in string.ascii_letters, text))\n",
        "\n",
        "res = Counter(text)\n",
        "\n",
        "print(res)\n",
        "\n",
        "\n",
        "# Var 3\n",
        "import string\n",
        "\n",
        "text = input('text>>')\n",
        "tmp = set(text) & set(string.ascii_letters)\n",
        "res = {}\n",
        "\n",
        "for item in tmp:\n",
        "    res[item] = text.count(item)\n",
        "\n",
        "print(res)\n",
        "\n",
        "\n",
        "\n",
        "# Var 2\n",
        "import string\n",
        "\n",
        "text = input('text>>')\n",
        "\n",
        "res = {}\n",
        "\n",
        "for item in text:\n",
        "    if item not in res and item in string.ascii_letters:\n",
        "        res[item] = text.count(item)\n",
        "\n",
        "print(res)\n",
        "\n",
        "\n",
        "\n",
        "# Var 1\n",
        "\n",
        "text = input('text>>')\n",
        "\n",
        "letters = []\n",
        "letters_count = []\n",
        "\n",
        "for item in text:\n",
        "    if item not in letters:\n",
        "        letters.append(item)\n",
        "        letters_count.append(text.count(item))\n",
        "\n",
        "print(letters)\n",
        "print(letters_count)"
      ]
    }
  ]
}