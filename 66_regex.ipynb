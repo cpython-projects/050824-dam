{
 "cells": [
  {
   "cell_type": "code",
   "execution_count": 3,
   "id": "150be93a-c5ce-47fd-b481-faa4530da486",
   "metadata": {},
   "outputs": [
    {
     "name": "stdout",
     "output_type": "stream",
     "text": [
      "Oleh\n"
     ]
    }
   ],
   "source": [
    "class Person:\n",
    "\n",
    "    def __init__(self, first_name, last_name):\n",
    "        self.first_name = first_name\n",
    "        self.last_name = last_name\n",
    "\n",
    "\n",
    "class Student(Person):\n",
    "\n",
    "    def __init__(self, first_name, last_name, gender, date_of_birth):\n",
    "        super().__init__(first_name, last_name)\n",
    "        # Person.__init__(self, first_name, last_name)\n",
    "        self.gender = gender\n",
    "        self.date_of_birth = date_of_birth\n",
    "\n",
    "\n",
    "x = Student('Oleh', 'Tymchuk', 'M', '12.01.2000')\n",
    "\n",
    "print(x.first_name)"
   ]
  },
  {
   "cell_type": "code",
   "execution_count": 6,
   "id": "5c17f6d9-97fb-4566-90fa-de15af45f149",
   "metadata": {},
   "outputs": [],
   "source": [
    "class A:\n",
    "    def __init__(self, a):\n",
    "        self.a = a\n",
    "\n",
    "\n",
    "class B(A):\n",
    "    def __init__(self, a, b):\n",
    "        A.__init__(self, a)\n",
    "        self.b = b\n",
    "\n",
    "\n",
    "class C(A):\n",
    "    def __init__(self, a, c):\n",
    "        A.__init__(self, a)\n",
    "        self.c = c\n",
    "\n",
    "\n",
    "class D(B, C):\n",
    "\n",
    "    def __init__(self, a,  b, c, d):\n",
    "        B.__init__(self, a, b)\n",
    "        C.__init__(self, a, c)\n",
    "        self.d = d\n",
    "\n",
    "\n",
    "x = D(1, 2, 3, 4)\n"
   ]
  },
  {
   "cell_type": "code",
   "execution_count": 7,
   "id": "21726724-6775-42bd-8c83-53d2e69eed12",
   "metadata": {},
   "outputs": [
    {
     "name": "stdout",
     "output_type": "stream",
     "text": [
      "10\n"
     ]
    }
   ],
   "source": [
    "class A:\n",
    "    def __init__(self):\n",
    "        self.a = 10\n",
    "\n",
    "\n",
    "class B(A):\n",
    "\n",
    "    def __init__(self):\n",
    "        super().__init__()\n",
    "        self.b = 20\n",
    "\n",
    "\n",
    "class C(B):\n",
    "    def __init__(self):\n",
    "        super().__init__()\n",
    "        self.c = 30\n",
    "\n",
    "\n",
    "x = C()\n",
    "print(x.a)"
   ]
  },
  {
   "cell_type": "code",
   "execution_count": 15,
   "id": "67192984-b2e6-4b02-8149-b109dd570643",
   "metadata": {},
   "outputs": [
    {
     "name": "stdout",
     "output_type": "stream",
     "text": [
      "['how', 'are', 'you']\n"
     ]
    }
   ],
   "source": [
    "import re\n",
    "pattern = r\"\\b\\w{3}\\b\"\n",
    "text = \"Hello,how:are;you?\"\n",
    "result = re.findall(pattern, text)\n",
    "print(result)"
   ]
  },
  {
   "cell_type": "code",
   "execution_count": 16,
   "id": "c421f7fd-6da4-4b5b-b48a-24c3d5e939d9",
   "metadata": {},
   "outputs": [
    {
     "name": "stdout",
     "output_type": "stream",
     "text": [
      "['apple', 'and', 'apricot', 'are']\n"
     ]
    }
   ],
   "source": [
    "text = \"apple and apricot are fruits.\"\n",
    "\n",
    "pattern = r\"\\ba\\w+\\b\"\n",
    "result = re.findall(pattern, text)\n",
    "print(result)"
   ]
  },
  {
   "cell_type": "code",
   "execution_count": 25,
   "id": "bb132a73-c435-4ad3-acd3-d5c303146d9c",
   "metadata": {},
   "outputs": [
    {
     "name": "stdout",
     "output_type": "stream",
     "text": [
      "['hello', 'hello']\n"
     ]
    }
   ],
   "source": [
    "import re\n",
    "pattern = r\"(\\b\\w+)\\s\\1\"\n",
    "text = \"hello hello hello,world.Hello world hello hello\"\n",
    "result = re.findall(pattern, text, flags=re.IGNORECASE)\n",
    "print(result) # ['hello', 'world']"
   ]
  },
  {
   "cell_type": "code",
   "execution_count": null,
   "id": "310ef293-f200-4e96-b485-5976d496401b",
   "metadata": {},
   "outputs": [],
   "source": []
  }
 ],
 "metadata": {
  "kernelspec": {
   "display_name": "Python 3 (ipykernel)",
   "language": "python",
   "name": "python3"
  },
  "language_info": {
   "codemirror_mode": {
    "name": "ipython",
    "version": 3
   },
   "file_extension": ".py",
   "mimetype": "text/x-python",
   "name": "python",
   "nbconvert_exporter": "python",
   "pygments_lexer": "ipython3",
   "version": "3.12.4"
  }
 },
 "nbformat": 4,
 "nbformat_minor": 5
}
