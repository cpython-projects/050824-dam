{
 "cells": [
  {
   "cell_type": "markdown",
   "id": "ae6753bb-1a43-4619-ac1e-db35623ac633",
   "metadata": {},
   "source": [
    "**Определение двух переменных: x со значением 5, y со значением 10**"
   ]
  },
  {
   "cell_type": "code",
   "execution_count": 1,
   "id": "acf10fd5-2a66-4df2-b1eb-21be279a6ef0",
   "metadata": {},
   "outputs": [],
   "source": [
    "x = 5\n",
    "y = 10"
   ]
  },
  {
   "cell_type": "markdown",
   "id": "38757c6e-fe6d-42f8-a869-7778e85bc46b",
   "metadata": {},
   "source": [
    "**Вывод на \"экран\" значений переменных x, y и их суммы. По умолчанию при выводе разделителем между объектами является пробел**"
   ]
  },
  {
   "cell_type": "code",
   "execution_count": 2,
   "id": "2f0695ec-6975-42e9-b35e-ec9815599b7f",
   "metadata": {},
   "outputs": [
    {
     "name": "stdout",
     "output_type": "stream",
     "text": [
      "5 10 15\n"
     ]
    }
   ],
   "source": [
    "print(x, y, x + y)"
   ]
  },
  {
   "cell_type": "markdown",
   "id": "2a45be60-7982-4f36-96b2-1878b5f0b74d",
   "metadata": {},
   "source": [
    "**Для получения справки по функции используем функцию help**"
   ]
  },
  {
   "cell_type": "code",
   "execution_count": 3,
   "id": "fd6bdd9d-fddf-406f-9566-307e2aeee601",
   "metadata": {},
   "outputs": [
    {
     "name": "stdout",
     "output_type": "stream",
     "text": [
      "Help on built-in function print in module builtins:\n",
      "\n",
      "print(*args, sep=' ', end='\\n', file=None, flush=False)\n",
      "    Prints the values to a stream, or to sys.stdout by default.\n",
      "\n",
      "    sep\n",
      "      string inserted between values, default a space.\n",
      "    end\n",
      "      string appended after the last value, default a newline.\n",
      "    file\n",
      "      a file-like object (stream); defaults to the current sys.stdout.\n",
      "    flush\n",
      "      whether to forcibly flush the stream.\n",
      "\n"
     ]
    }
   ],
   "source": [
    "help(print)"
   ]
  },
  {
   "cell_type": "markdown",
   "id": "f58ecf1f-a699-4b61-86d0-e3951fccbda8",
   "metadata": {},
   "source": [
    "**Параметр sep в функции позволяет установить разделитель между объектами. Разделитель - это строка, поэтому в кавычках**"
   ]
  },
  {
   "cell_type": "code",
   "execution_count": 4,
   "id": "0fa282a8-4492-4767-8ee6-6651820aea4b",
   "metadata": {},
   "outputs": [
    {
     "name": "stdout",
     "output_type": "stream",
     "text": [
      "5,10,15\n"
     ]
    }
   ],
   "source": [
    "print(x, y, x + y, sep=',')"
   ]
  },
  {
   "cell_type": "markdown",
   "id": "d1021fd7-4eea-4607-8915-474cfbeb288d",
   "metadata": {},
   "source": [
    "**\\n - специальный символ, обозначающий \"с новой строки\"**"
   ]
  },
  {
   "cell_type": "code",
   "execution_count": 5,
   "id": "c45c97a5-cd27-421d-975c-5a3d257cc394",
   "metadata": {},
   "outputs": [
    {
     "name": "stdout",
     "output_type": "stream",
     "text": [
      "5\n",
      "10\n",
      "15\n"
     ]
    }
   ],
   "source": [
    "print(x, y, x + y, sep='\\n')"
   ]
  },
  {
   "cell_type": "markdown",
   "id": "a983cbd8-78e2-4a1d-8365-21b567623c28",
   "metadata": {},
   "source": [
    "**Функция input позволяет пользователю ввести данные с клавиатуры. Ввод считается завершенным - если пользователь нажал на Enter. 'x=' будет выводиться на экран, чтобы пользователь понимал, какое действие от него требуется. Результат будет сохранен в переменной x**"
   ]
  },
  {
   "cell_type": "code",
   "execution_count": null,
   "id": "b00e6abf-b64f-4a3c-a12e-4d593f1dc58c",
   "metadata": {},
   "outputs": [],
   "source": [
    "x = input('x=')"
   ]
  },
  {
   "cell_type": "code",
   "execution_count": null,
   "id": "b377b5e6-806d-4840-88d9-16babadd9ec8",
   "metadata": {},
   "outputs": [],
   "source": [
    "print(x)"
   ]
  },
  {
   "cell_type": "markdown",
   "id": "798c3bdd-87aa-4c67-a733-84fdc1c79926",
   "metadata": {},
   "source": [
    "**Ввод двух значений с клавиатуры**"
   ]
  },
  {
   "cell_type": "code",
   "execution_count": null,
   "id": "a77d1411-1474-4d71-a7b4-c90be90c8234",
   "metadata": {},
   "outputs": [],
   "source": [
    "x = input('x=')\n",
    "y = input('y=')"
   ]
  },
  {
   "cell_type": "code",
   "execution_count": null,
   "id": "70a0c0c7-e4e5-4e0c-87f8-306b857fdb10",
   "metadata": {},
   "outputs": [],
   "source": [
    "print(x, y)"
   ]
  },
  {
   "cell_type": "markdown",
   "id": "80dda16e-7d8a-4c43-b1c5-65f6c77b07ec",
   "metadata": {},
   "source": [
    "**Ввод имени и фамалии пользователя. Вывод приветствия**"
   ]
  },
  {
   "cell_type": "code",
   "execution_count": null,
   "id": "20497643-3cc5-4028-bc72-cfc724f23087",
   "metadata": {},
   "outputs": [],
   "source": [
    "# Step 1. Get values\n",
    "name = input('name=')\n",
    "surname = input('surname=')\n",
    "# Step 2. Greetings\n",
    "print('Hello,', name, surname) "
   ]
  }
 ],
 "metadata": {
  "kernelspec": {
   "display_name": "Python 3 (ipykernel)",
   "language": "python",
   "name": "python3"
  },
  "language_info": {
   "codemirror_mode": {
    "name": "ipython",
    "version": 3
   },
   "file_extension": ".py",
   "mimetype": "text/x-python",
   "name": "python",
   "nbconvert_exporter": "python",
   "pygments_lexer": "ipython3",
   "version": "3.12.5"
  }
 },
 "nbformat": 4,
 "nbformat_minor": 5
}
