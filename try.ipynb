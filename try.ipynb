{
 "cells": [
  {
   "cell_type": "code",
   "execution_count": 1,
   "id": "b080d8c0-ac4e-4bb9-93c4-6dae30687a78",
   "metadata": {},
   "outputs": [
    {
     "name": "stdout",
     "output_type": "stream",
     "text": [
      "Counter({3: 5, 1: 3, 2: 3, 4: 1, 5: 1, 6: 1, 7: 1})\n"
     ]
    }
   ],
   "source": [
    "from collections import Counter\n",
    "\n",
    "\n",
    "x = [1, 2, 3, 4, 5, 6, 7, 1, 1, 2, 2, 3, 3, 3, 3]\n",
    "\n",
    "y = Counter(x)\n",
    "\n",
    "print(y)\n"
   ]
  },
  {
   "cell_type": "code",
   "execution_count": 2,
   "id": "44e71f02-9f15-41fd-85f0-f69431eb476c",
   "metadata": {},
   "outputs": [
    {
     "name": "stdout",
     "output_type": "stream",
     "text": [
      "Oleh\n",
      "Tymchuk\n",
      "male\n"
     ]
    }
   ],
   "source": [
    "person = ('Oleh', 'Tymchuk', 'male')\n",
    "\n",
    "print(person[0])\n",
    "print(person[1])\n",
    "print(person[2])"
   ]
  },
  {
   "cell_type": "code",
   "execution_count": 3,
   "id": "0c9712dd-913d-474f-9441-6888c528079e",
   "metadata": {},
   "outputs": [
    {
     "name": "stdout",
     "output_type": "stream",
     "text": [
      "Person(first_name='Oleh', last_name='Tymchuk', sex='male')\n"
     ]
    }
   ],
   "source": [
    "from collections import namedtuple\n",
    "\n",
    "Person = namedtuple('Person', ['first_name', 'last_name', 'sex'])\n",
    "person_1 = Person('Oleh', 'Tymchuk', 'male')\n",
    "print(person_1)"
   ]
  },
  {
   "cell_type": "code",
   "execution_count": 4,
   "id": "da1e7c77-2fc3-4e2a-9875-ffadc60c0fc9",
   "metadata": {},
   "outputs": [
    {
     "data": {
      "text/plain": [
       "'Oleh'"
      ]
     },
     "execution_count": 4,
     "metadata": {},
     "output_type": "execute_result"
    }
   ],
   "source": [
    "person_1[0]"
   ]
  },
  {
   "cell_type": "code",
   "execution_count": 6,
   "id": "01ae4f04-f1ab-40b2-86f5-0d5927d710d4",
   "metadata": {},
   "outputs": [
    {
     "data": {
      "text/plain": [
       "'Oleh'"
      ]
     },
     "execution_count": 6,
     "metadata": {},
     "output_type": "execute_result"
    }
   ],
   "source": [
    "person_1.first_name"
   ]
  },
  {
   "cell_type": "code",
   "execution_count": 9,
   "id": "9046c050-91f3-4233-88ca-1625599dfec6",
   "metadata": {},
   "outputs": [
    {
     "data": {
      "text/plain": [
       "'Tymchuk1'"
      ]
     },
     "execution_count": 9,
     "metadata": {},
     "output_type": "execute_result"
    }
   ],
   "source": [
    "x = [Person('Oleh', 'Tymchuk', 'male'), Person('Oleh1', 'Tymchuk1', 'male')]\n",
    "x[1].last_name"
   ]
  },
  {
   "cell_type": "code",
   "execution_count": 17,
   "id": "b781094b-33bb-4fa8-baf5-4c8c052fd8f7",
   "metadata": {},
   "outputs": [
    {
     "name": "stdout",
     "output_type": "stream",
     "text": [
      "Price or Quantity < 0. It is Error\n"
     ]
    }
   ],
   "source": [
    "def add_product(cart, product, price, quantity):\n",
    "    if price <= 0:\n",
    "        raise ValueError('Price must be > 0')\n",
    "    if quantity <= 0:\n",
    "        raise ValueError('Quantity must be > 0')\n",
    "    cart[product] = cart.get(product, 0) + price * quantity\n",
    "\n",
    "cart = {}\n",
    "try:\n",
    "    add_product(cart, 'banana', 100, 1)\n",
    "    add_product(cart, 'tomates', 101, 2)\n",
    "    add_product(cart, 'orange', 102, 3)\n",
    "    add_product(cart, 'orange', -102, 3)\n",
    "except:\n",
    "    print('Price or Quantity < 0. It is Error')"
   ]
  },
  {
   "cell_type": "code",
   "execution_count": 16,
   "id": "7ff37327-2622-4e16-ab21-2afa75495ced",
   "metadata": {},
   "outputs": [
    {
     "data": {
      "text/plain": [
       "{'banana': 100, 'tomates': 202, 'orange': 306}"
      ]
     },
     "execution_count": 16,
     "metadata": {},
     "output_type": "execute_result"
    }
   ],
   "source": [
    "cart"
   ]
  },
  {
   "cell_type": "code",
   "execution_count": null,
   "id": "aa896c52-8bc3-42f6-9858-8c259aecf03b",
   "metadata": {},
   "outputs": [],
   "source": [
    "try:\n",
    "    a = int(input('a='))\n",
    "    b = int(input('b='))\n",
    "    print(a / b)\n",
    "except ZeroDivisionError:\n",
    "    print('b cannot be zero')\n",
    "except ValueError:\n",
    "    print('a and b must be integers')\n",
    "except Exception as e:\n",
    "    print('unknown error:', e)\n"
   ]
  }
 ],
 "metadata": {
  "kernelspec": {
   "display_name": "Python 3 (ipykernel)",
   "language": "python",
   "name": "python3"
  },
  "language_info": {
   "codemirror_mode": {
    "name": "ipython",
    "version": 3
   },
   "file_extension": ".py",
   "mimetype": "text/x-python",
   "name": "python",
   "nbconvert_exporter": "python",
   "pygments_lexer": "ipython3",
   "version": "3.12.5"
  }
 },
 "nbformat": 4,
 "nbformat_minor": 5
}
