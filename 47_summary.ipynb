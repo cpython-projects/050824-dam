{
 "cells": [
  {
   "cell_type": "markdown",
   "id": "35ba42d6-ef5e-47b0-ac46-086d63571902",
   "metadata": {},
   "source": [
    "**Task 1.** Необходимо написать скрипт, который выполняет мониторинг средних продаж в реальном времени. Каждую минуту вы получаете данные о суммах продаж и должны рассчитать среднее значение продаж нарастающим итогом, чтобы иметь представление о текущих показателях."
   ]
  },
  {
   "cell_type": "code",
   "execution_count": 3,
   "id": "9d6e0e92-6d5d-4e75-993a-4b71b1eb47c9",
   "metadata": {},
   "outputs": [
    {
     "name": "stdin",
     "output_type": "stream",
     "text": [
      "amount>> 1\n"
     ]
    },
    {
     "name": "stdout",
     "output_type": "stream",
     "text": [
      "AVG: 1.0\n"
     ]
    },
    {
     "name": "stdin",
     "output_type": "stream",
     "text": [
      "Continue (Y/N) 2\n",
      "amount>> 2\n"
     ]
    },
    {
     "name": "stdout",
     "output_type": "stream",
     "text": [
      "AVG: 1.5\n"
     ]
    },
    {
     "name": "stdin",
     "output_type": "stream",
     "text": [
      "Continue (Y/N) N\n"
     ]
    }
   ],
   "source": [
    "def calc_avg(numbers):\n",
    "    if not numbers:\n",
    "        return None\n",
    "\n",
    "    return sum(numbers)/len(numbers)\n",
    "\n",
    "sales = []\n",
    "while True:\n",
    "    amount = float(input('amount>>'))\n",
    "    sales.append(amount)\n",
    "    result = calc_avg(sales)\n",
    "    print(f'AVG: {result}')\n",
    "\n",
    "    ans = input('Continue (Y/N)').upper()\n",
    "    if ans == 'N':\n",
    "        break"
   ]
  },
  {
   "cell_type": "code",
   "execution_count": 6,
   "id": "4761305b-67a2-4a1c-82af-c46d6ed31f8a",
   "metadata": {},
   "outputs": [
    {
     "name": "stdin",
     "output_type": "stream",
     "text": [
      "amount>> 1\n"
     ]
    },
    {
     "name": "stdout",
     "output_type": "stream",
     "text": [
      "AVG: 1.0\n"
     ]
    },
    {
     "name": "stdin",
     "output_type": "stream",
     "text": [
      "Continue (Y/N) Y\n",
      "amount>> 2\n"
     ]
    },
    {
     "name": "stdout",
     "output_type": "stream",
     "text": [
      "AVG: 1.5\n"
     ]
    },
    {
     "name": "stdin",
     "output_type": "stream",
     "text": [
      "Continue (Y/N) Y\n",
      "amount>> 3\n"
     ]
    },
    {
     "name": "stdout",
     "output_type": "stream",
     "text": [
      "AVG: 2.0\n"
     ]
    },
    {
     "name": "stdin",
     "output_type": "stream",
     "text": [
      "Continue (Y/N) N\n"
     ]
    }
   ],
   "source": [
    "def calc_avg_gen():\n",
    "    total = 0\n",
    "    count = 0\n",
    "    while True:\n",
    "        number = yield\n",
    "        if number:\n",
    "            total += number\n",
    "            count += 1\n",
    "            yield total / count\n",
    "\n",
    "\n",
    "sales = calc_avg_gen()\n",
    "next(sales)\n",
    "\n",
    "while True:\n",
    "    amount = float(input('amount>>'))\n",
    "    avg = sales.send(amount)\n",
    "    \n",
    "    print(f'AVG: {avg}')\n",
    "\n",
    "    ans = input('Continue (Y/N)').upper()\n",
    "    if ans == 'N':\n",
    "        break\n",
    "    next(sales)"
   ]
  },
  {
   "cell_type": "code",
   "execution_count": null,
   "id": "f99bc84d-6342-40c7-b81a-b2d4705a13c2",
   "metadata": {},
   "outputs": [],
   "source": [
    "def calc_avg_gen():\n",
    "    total = 0\n",
    "    count = 0\n",
    "    while True:\n",
    "        number = yield 0 if count == 0 else total / count\n",
    "        if number:\n",
    "            total += number\n",
    "            count += 1\n",
    "\n",
    "\n",
    "sales = calc_avg_gen()\n",
    "next(sales)\n",
    "\n",
    "while True:\n",
    "    amount = float(input('amount>>'))\n",
    "    avg = sales.send(amount)\n",
    "\n",
    "    print(f'AVG: {avg}')\n",
    "\n",
    "    ans = input('Continue (Y/N)').upper()\n",
    "    if ans == 'N':\n",
    "        break"
   ]
  },
  {
   "cell_type": "markdown",
   "id": "6d20e1a9-ab09-4899-9326-925780c4c8e6",
   "metadata": {},
   "source": [
    "**Task 2.**Создать скрипт, задачей которого является мониторинг транзакций в реальном времени и выявление подозрительных операций. Банк установил порог, превышение которого указывает на потенциально мошеннические транзакции. Этот порог можно динамически менять в зависимости от ситуации.\n"
   ]
  },
  {
   "cell_type": "code",
   "execution_count": 10,
   "id": "f95b2460-1b45-421d-8cfe-972744d4d6ff",
   "metadata": {},
   "outputs": [
    {
     "name": "stdout",
     "output_type": "stream",
     "text": [
      "Transaction 1 is successfull\n",
      "Transaction 3 is successfull\n"
     ]
    }
   ],
   "source": [
    "import json\n",
    "from datetime import date\n",
    "\n",
    "def monitor(default_limit=10_000):\n",
    "    anomalies = []\n",
    "    limit = default_limit\n",
    "\n",
    "    try:\n",
    "        while True:\n",
    "            item = yield\n",
    "    \n",
    "            if isinstance(item, dict) and 'id' in item and 'amount' in item:\n",
    "                if item['amount'] > limit:\n",
    "                    anomalies.append(item)\n",
    "                else:\n",
    "                    print(f'Transaction {item[\"id\"]} is successfull')\n",
    "\n",
    "            elif isinstance(item, int):\n",
    "                limit = item\n",
    "            elif isinstance(item, str) and item.lower() == 'get_anomalies':\n",
    "                yield anomalies\n",
    "            else:\n",
    "                raise ValueError()\n",
    "    finally:\n",
    "        if anomalies:\n",
    "            with open(f'{date.today()}.json', 'w') as f:\n",
    "                json.dump(anomalies, f, indent=4)\n",
    "\n",
    "    \n",
    "\n",
    "\n",
    "monitoring = monitor()\n",
    "next(monitoring)\n",
    "\n",
    "monitoring.send({\"id\": 1, \"amount\": 500})\n",
    "monitoring.send({\"id\": 2, \"amount\": 15000})\n",
    "monitoring.send({\"id\": 3, \"amount\": 5000})\n",
    "monitoring.send({\"id\": 4, \"amount\": 25000})\n",
    "\n",
    "\n",
    "monitoring.close()"
   ]
  },
  {
   "cell_type": "code",
   "execution_count": null,
   "id": "cb3d92c5-e872-4ce7-b8ad-78bad1386c56",
   "metadata": {},
   "outputs": [],
   "source": [
    "def gen_func():\n",
    "    i = 0\n",
    "    while True:\n",
    "        try:\n",
    "\n",
    "            yield i\n",
    "            i += 1\n",
    "        except ValueError:\n",
    "            i = 0\n",
    "\n",
    "\n",
    "gen_obj = gen_func()\n",
    "\n",
    "for item in gen_obj:\n",
    "    print(item)\n",
    "    if item >= 10_000:\n",
    "        gen_obj.throw(ValueError)"
   ]
  },
  {
   "cell_type": "code",
   "execution_count": 18,
   "id": "784ad030-1acc-4da9-b1cc-565ac1e55721",
   "metadata": {},
   "outputs": [
    {
     "name": "stdout",
     "output_type": "stream",
     "text": [
      "[{'firstName': 'Ivan', 'lastName': 'Petrov', 'dateOfBirth': '15-03-2017', 'iban': 'DE1234 0000 0000 01011 333'}, {'firstName': 'Maria', 'lastName': 'Ivanova', 'dateOfBirth': '10-12-1990', 'iban': 'FR7634 1234 5678 9101 2345'}, {'firstName': 'Alex', 'lastName': 'Smith', 'dateOfBirth': '12-06-1985', 'iban': 'INVALID_IBAN'}]\n"
     ]
    }
   ],
   "source": [
    "import json\n",
    "import os\n",
    "from datetime import datetime\n",
    "\n",
    "\n",
    "def parse_date(date_str):\n",
    "    try:\n",
    "        return datetime.strptime(date_str, \"%d-%m-%Y\").date()\n",
    "    except ValueError:\n",
    "        raise ValueError(f\"Некорректный формат даты: {date_str}. Ожидается формат DD-MM-YYYY.\")\n",
    "\n",
    "\n",
    "def validate_iban(iban):\n",
    "    return len(iban) < 15 or not iban[:2].isalpha() or not iban[2:].isdigit()\n",
    "\n",
    "\n",
    "def read_users_from_json(file_name):\n",
    "    if not os.path.exists(file_name):\n",
    "        raise FileNotFoundError(f'{file_name} not found')\n",
    "\n",
    "    with open(file_name) as f:\n",
    "        data = json.load(f)\n",
    "\n",
    "    users = []\n",
    "    for user in data:\n",
    "        try:\n",
    "            first_name = user[\"firstName\"]\n",
    "            last_name = user[\"lastName\"]\n",
    "            date_of_birth = parse_date(user[\"dateOfBirth\"])\n",
    "            iban = user[\"iban\"]\n",
    "\n",
    "            if validate_iban(iban):\n",
    "                raise ValueError(f'Error in IBAN for user {first_name} {last_name}')\n",
    "\n",
    "            users.append(\n",
    "                {\n",
    "                    'user': first_name + last_name,\n",
    "                    'dateOfBirth': date_of_birth,\n",
    "                    'iban': iban,\n",
    "                }\n",
    "            )\n",
    "        except KeyError as e:\n",
    "            print('Error in dict')\n",
    "        except ValueError as e:\n",
    "            print(e)\n",
    "    return users\n",
    "\n",
    "\n",
    "for item in read_users_from_json('data.json'):\n",
    "    print(item)"
   ]
  },
  {
   "cell_type": "code",
   "execution_count": null,
   "id": "75ae7ada-4081-49c7-abca-461a4f061662",
   "metadata": {},
   "outputs": [],
   "source": []
  }
 ],
 "metadata": {
  "kernelspec": {
   "display_name": "Python 3 (ipykernel)",
   "language": "python",
   "name": "python3"
  },
  "language_info": {
   "codemirror_mode": {
    "name": "ipython",
    "version": 3
   },
   "file_extension": ".py",
   "mimetype": "text/x-python",
   "name": "python",
   "nbconvert_exporter": "python",
   "pygments_lexer": "ipython3",
   "version": "3.12.4"
  }
 },
 "nbformat": 4,
 "nbformat_minor": 5
}
