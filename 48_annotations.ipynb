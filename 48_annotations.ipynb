{
 "cells": [
  {
   "cell_type": "code",
   "execution_count": 2,
   "id": "8993a20c-eca4-4759-bd29-941e22ffb873",
   "metadata": {},
   "outputs": [
    {
     "name": "stdout",
     "output_type": "stream",
     "text": [
      "<generator object generator_square at 0x00000201E02488B0>\n"
     ]
    }
   ],
   "source": [
    "def generator_square(start, stop, step):\n",
    "    yield from (i ** 2 for i in range(start, stop, step))\n",
    "\n",
    "\n",
    "y = generator_square(2, 10, 2)\n",
    "print(y)"
   ]
  },
  {
   "cell_type": "code",
   "execution_count": 6,
   "id": "979cf00b-b585-4290-9169-a9a555d65836",
   "metadata": {},
   "outputs": [
    {
     "name": "stdout",
     "output_type": "stream",
     "text": [
      "4\n",
      "16\n",
      "36\n",
      "64\n",
      "8\n",
      "64\n",
      "216\n",
      "512\n",
      "[4, 16, 36, 64, 8, 64, 216, 512]\n"
     ]
    }
   ],
   "source": [
    "def generator_2(start, stop, step):\n",
    "    for i in range(start, stop, step):\n",
    "        yield i ** 2\n",
    "\n",
    "def generator_3(start, stop, step):\n",
    "    for i in range(start, stop, step):\n",
    "        yield i ** 3\n",
    "\n",
    "\n",
    "def generator_final(start, stop, step):\n",
    "    yield from generator_2(start, stop, step)\n",
    "    yield from generator_3(start, stop, step)\n",
    "\n",
    "\n",
    "y = generator_final(2, 10, 2)\n",
    "for i in y:\n",
    "    print(i)\n",
    "\n",
    "\n",
    "lst = list(generator_final(2, 10, 2))\n",
    "print(lst)"
   ]
  },
  {
   "cell_type": "code",
   "execution_count": 7,
   "id": "69a09c0f-6dc6-4aee-ace8-8a074f0ef5ad",
   "metadata": {},
   "outputs": [
    {
     "ename": "TypeError",
     "evalue": "unsupported operand type(s) for +: 'int' and 'str'",
     "output_type": "error",
     "traceback": [
      "\u001b[1;31m---------------------------------------------------------------------------\u001b[0m",
      "\u001b[1;31mTypeError\u001b[0m                                 Traceback (most recent call last)",
      "Cell \u001b[1;32mIn[7], line 5\u001b[0m\n\u001b[0;32m      1\u001b[0m \u001b[38;5;28;01mdef\u001b[39;00m \u001b[38;5;21madd\u001b[39m(a: \u001b[38;5;28mint\u001b[39m, b: \u001b[38;5;28mint\u001b[39m) \u001b[38;5;241m-\u001b[39m\u001b[38;5;241m>\u001b[39m \u001b[38;5;28mint\u001b[39m:\n\u001b[0;32m      2\u001b[0m     \u001b[38;5;28;01mreturn\u001b[39;00m a \u001b[38;5;241m+\u001b[39m b\n\u001b[1;32m----> 5\u001b[0m res1 \u001b[38;5;241m=\u001b[39m \u001b[43madd\u001b[49m\u001b[43m(\u001b[49m\u001b[38;5;241;43m1\u001b[39;49m\u001b[43m,\u001b[49m\u001b[43m \u001b[49m\u001b[38;5;241;43m2\u001b[39;49m\u001b[43m)\u001b[49m\u001b[43m \u001b[49m\u001b[38;5;241;43m+\u001b[39;49m\u001b[43m \u001b[49m\u001b[38;5;124;43m'\u001b[39;49m\u001b[38;5;124;43m123\u001b[39;49m\u001b[38;5;124;43m'\u001b[39;49m\n\u001b[0;32m      6\u001b[0m \u001b[38;5;28mprint\u001b[39m(res1)\n",
      "\u001b[1;31mTypeError\u001b[0m: unsupported operand type(s) for +: 'int' and 'str'"
     ]
    }
   ],
   "source": [
    "def add(a: int, b: int) -> int:\n",
    "    return a + b\n",
    "\n",
    "\n",
    "res1 = add(1, 2) + '123'\n",
    "print(res1)\n"
   ]
  },
  {
   "cell_type": "code",
   "execution_count": 8,
   "id": "fa8ae6ee-d1c4-4099-bfe6-aca3fdb76b25",
   "metadata": {},
   "outputs": [],
   "source": [
    "def word_multiply(text: str, number: int) -> str:\n",
    "    return text * number"
   ]
  },
  {
   "cell_type": "code",
   "execution_count": null,
   "id": "ae8a228d-9836-4874-b579-6ba00f5bf947",
   "metadata": {},
   "outputs": [],
   "source": [
    "from decimal import Decimal \n",
    "\n",
    "\n",
    "def get_netto_salary(salary: int | float | Decimal, tax: int | float) -> float:\n",
    "    return round(salary * tax, 2)\n",
    "    "
   ]
  },
  {
   "cell_type": "code",
   "execution_count": null,
   "id": "575d7477-8250-4cc2-a88f-e5fc10fb21c4",
   "metadata": {},
   "outputs": [],
   "source": [
    "import operator\n",
    "\n",
    "week1 = [1, 2, 3, 4, 5]\n",
    "week2 = [11, 2, 23, 44, 25]\n",
    "\n",
    "\n",
    "# summa = [w1 + w2 for w1, w2 in zip(week1, week2)]\n",
    "#\n",
    "# print(summa)\n",
    "\n",
    "\n",
    "res = list(map(operator.floordiv, week1, week2))\n",
    "print(res)\n",
    "\n",
    "\n"
   ]
  }
 ],
 "metadata": {
  "kernelspec": {
   "display_name": "Python 3 (ipykernel)",
   "language": "python",
   "name": "python3"
  },
  "language_info": {
   "codemirror_mode": {
    "name": "ipython",
    "version": 3
   },
   "file_extension": ".py",
   "mimetype": "text/x-python",
   "name": "python",
   "nbconvert_exporter": "python",
   "pygments_lexer": "ipython3",
   "version": "3.12.4"
  }
 },
 "nbformat": 4,
 "nbformat_minor": 5
}
