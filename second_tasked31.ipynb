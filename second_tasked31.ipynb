{
  "nbformat": 4,
  "nbformat_minor": 0,
  "metadata": {
    "colab": {
      "provenance": [],
      "authorship_tag": "ABX9TyMth7NHM4deSuCnKDlOxlLt",
      "include_colab_link": true
    },
    "kernelspec": {
      "name": "python3",
      "display_name": "Python 3"
    },
    "language_info": {
      "name": "python"
    }
  },
  "cells": [
    {
      "cell_type": "markdown",
      "metadata": {
        "id": "view-in-github",
        "colab_type": "text"
      },
      "source": [
        "<a href=\"https://colab.research.google.com/github/cpython-projects/050824-dam/blob/main/second_tasked31.ipynb\" target=\"_parent\"><img src=\"https://colab.research.google.com/assets/colab-badge.svg\" alt=\"Open In Colab\"/></a>"
      ]
    },
    {
      "cell_type": "code",
      "execution_count": 6,
      "metadata": {
        "colab": {
          "base_uri": "https://localhost:8080/"
        },
        "id": "oi2YuZeKCPwX",
        "outputId": "7fe96bf4-60e4-41a9-c196-a12acaaaffdb"
      },
      "outputs": [
        {
          "output_type": "stream",
          "name": "stdout",
          "text": [
            "['ivan', 'vani', 'navi']\n",
            "['ivan', 'vani', 'navi']\n",
            "['ivan', 'vani', 'navi']\n"
          ]
        }
      ],
      "source": [
        "def getAnagrams_list(word, voc):\n",
        "  res = []\n",
        "  for item in voc:\n",
        "    if len(item) == len(word):\n",
        "      tmp = list(item)\n",
        "      for ch in word:\n",
        "        if ch in tmp:\n",
        "          tmp.remove(ch)\n",
        "      if not tmp:\n",
        "        res.append(item)\n",
        "  return res\n",
        "\n",
        "\n",
        "voc = [\"ivan\", \"vani\", \"navi\", \"mir\", \"rim\", \"car\", \"to\", \"as\", \"sa\", \"war\", \"raw\", \"world\", \"maria\"]\n",
        "print(getAnagrams_list('ivan', voc))\n",
        "\n",
        "\n",
        "def getAnagrams_sorted(word, voc):\n",
        "  res = []\n",
        "  sorted_word = sorted(word)\n",
        "  for item in voc:\n",
        "    if len(item) == len(word) and sorted(item) == sorted_word:\n",
        "      res.append(item)\n",
        "  return res\n",
        "\n",
        "\n",
        "voc = [\"ivan\", \"vani\", \"navi\", \"mir\", \"rim\", \"car\", \"to\", \"as\", \"sa\", \"war\", \"raw\", \"world\", \"maria\"]\n",
        "print(getAnagrams_sorted('ivan', voc))\n",
        "\n",
        "\n",
        "\n",
        "def getAnagramsDict(voc):\n",
        "  res = {}\n",
        "  for word in voc:\n",
        "    sorted_word = ''.join(sorted(word))\n",
        "    if sorted_word in res:\n",
        "      res[sorted_word].append(word)\n",
        "    else:\n",
        "      res[sorted_word] = [word]\n",
        "  return res\n",
        "\n",
        "def getAnagrams_dict(word, dict_voc):\n",
        "  sorted_word = ''.join(sorted(word))\n",
        "  return dict_voc.get(sorted_word, 'No result')\n",
        "\n",
        "\n",
        "voc = [\"ivan\", \"vani\", \"navi\", \"mir\", \"rim\", \"car\", \"to\", \"as\", \"sa\", \"war\", \"raw\", \"world\", \"maria\"]\n",
        "dict_anagms = getAnagramsDict(voc)\n",
        "print(getAnagrams_dict('ivan', dict_anagms))\n",
        "\n",
        "\n",
        "\n",
        "\n",
        "\n"
      ]
    }
  ]
}