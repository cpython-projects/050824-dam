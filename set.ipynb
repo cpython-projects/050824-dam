{
 "cells": [
  {
   "cell_type": "code",
   "execution_count": 1,
   "id": "4d389803-9ba7-4344-b79f-a046a02a4aad",
   "metadata": {},
   "outputs": [
    {
     "name": "stdout",
     "output_type": "stream",
     "text": [
      "{1, 2, 3, 4}\n"
     ]
    }
   ],
   "source": [
    "x = {1, 2, 3, 4, 2, 2, 2, 2}\n",
    "print(x)"
   ]
  },
  {
   "cell_type": "code",
   "execution_count": 3,
   "id": "c8b41b28-53d8-486a-8398-3eed560ffade",
   "metadata": {},
   "outputs": [
    {
     "name": "stdout",
     "output_type": "stream",
     "text": [
      "{'o', 'l', 'H', 'e'}\n"
     ]
    }
   ],
   "source": [
    "x = set('Hello')\n",
    "print(x)"
   ]
  },
  {
   "cell_type": "code",
   "execution_count": 9,
   "id": "4f80363c-88fb-425d-9875-b35f1a2c511c",
   "metadata": {},
   "outputs": [
    {
     "name": "stdout",
     "output_type": "stream",
     "text": [
      "{3}\n",
      "{1, 2, 3, 4, 5}\n",
      "{1, 2}\n",
      "{4, 5}\n",
      "{1, 2, 4, 5}\n"
     ]
    }
   ],
   "source": [
    "a = {1, 2, 3}\n",
    "b = {3, 4, 5}\n",
    "\n",
    "y1 = a & b\n",
    "y2 = a | b\n",
    "y3 = a - b\n",
    "y4 = b - a\n",
    "y5 = a ^ b\n",
    "print(y1)\n",
    "print(y2)\n",
    "print(y3)\n",
    "print(y4)\n",
    "print(y5)"
   ]
  },
  {
   "cell_type": "code",
   "execution_count": 10,
   "id": "35b5c6d7-5461-47d3-99a9-dce3561a3154",
   "metadata": {},
   "outputs": [
    {
     "name": "stdin",
     "output_type": "stream",
     "text": [
      "text>> aaaaabbbbbbbcccccrrrrrrrrrrrrrr\n"
     ]
    },
    {
     "name": "stdout",
     "output_type": "stream",
     "text": [
      "('a', 5) ('b', 7) ('c', 5) ('r', 14)\n"
     ]
    }
   ],
   "source": [
    "text = input('text>>')\n",
    "res_letters = []\n",
    "res_count = []\n",
    "for item in text:\n",
    "    if item not in res_letters:\n",
    "        res_letters.append(item)\n",
    "        res_count.append(text.count(item))\n",
    "\n",
    "print(*zip(res_letters, res_count))"
   ]
  },
  {
   "cell_type": "code",
   "execution_count": 11,
   "id": "c7bec315-5cdb-45be-839e-fba37ffd22d5",
   "metadata": {},
   "outputs": [
    {
     "name": "stdin",
     "output_type": "stream",
     "text": [
      "text>> aaaaabbbbbbcccccdddd\n"
     ]
    },
    {
     "name": "stdout",
     "output_type": "stream",
     "text": [
      "b 6\n",
      "c 5\n",
      "d 4\n",
      "a 5\n"
     ]
    }
   ],
   "source": [
    "text = input('text>>')\n",
    "for item in set(text):\n",
    "    print(item, text.count(item))"
   ]
  },
  {
   "cell_type": "code",
   "execution_count": 17,
   "id": "fd2339d5-5301-410f-ad06-9bcd2541fccb",
   "metadata": {},
   "outputs": [
    {
     "name": "stdout",
     "output_type": "stream",
     "text": [
      "{1, 2, 3, 4, 5, 6}\n",
      "{5, 6}\n",
      "Yes\n"
     ]
    }
   ],
   "source": [
    "x = [1, 2, 3, 4, 5, 6, -5, -6]\n",
    "univ = set(x)\n",
    "a = {item for item in univ if item > 0}\n",
    "b = {abs(item) for item in univ if item < 0}\n",
    "\n",
    "print(a)\n",
    "print(b)\n",
    "\n",
    "print('Yes' if a & b else 'No')"
   ]
  },
  {
   "cell_type": "code",
   "execution_count": null,
   "id": "6bf27102-955c-4c8c-b10f-ffcc08171dd8",
   "metadata": {},
   "outputs": [],
   "source": []
  }
 ],
 "metadata": {
  "kernelspec": {
   "display_name": "Python 3 (ipykernel)",
   "language": "python",
   "name": "python3"
  },
  "language_info": {
   "codemirror_mode": {
    "name": "ipython",
    "version": 3
   },
   "file_extension": ".py",
   "mimetype": "text/x-python",
   "name": "python",
   "nbconvert_exporter": "python",
   "pygments_lexer": "ipython3",
   "version": "3.12.5"
  }
 },
 "nbformat": 4,
 "nbformat_minor": 5
}
