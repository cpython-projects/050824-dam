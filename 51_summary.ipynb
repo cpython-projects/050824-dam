{
 "cells": [
  {
   "cell_type": "code",
   "execution_count": 5,
   "id": "c78bd46b-2e74-4298-a2b7-317d1b43cb03",
   "metadata": {},
   "outputs": [
    {
     "name": "stdout",
     "output_type": "stream",
     "text": [
      "dragonfruit\n",
      "List is empty\n"
     ]
    }
   ],
   "source": [
    "from typing import List, Optional\n",
    "\n",
    "def find_longest_word(words: List[str]) -> Optional[str]:\n",
    "    if not words:\n",
    "        raise ValueError('List is empty')\n",
    "    return max(words, key=len)\n",
    "\n",
    "    # return max(words, key=len) if words else \"\"\n",
    "    \n",
    "\n",
    "words = [\"apple\", \"banana\", \"cherry\", \"dragonfruit\"]\n",
    "try:\n",
    "    print(find_longest_word(words))\n",
    "    print(find_longest_word([]))\n",
    "except Exception as e:\n",
    "    print(e)"
   ]
  },
  {
   "cell_type": "code",
   "execution_count": 17,
   "id": "c929abe9-36f7-4699-839a-c8c55463e31a",
   "metadata": {},
   "outputs": [
    {
     "name": "stdout",
     "output_type": "stream",
     "text": [
      "Orange, 1.25 is not CORRECT\n"
     ]
    }
   ],
   "source": [
    "from typing import Itarator, Tuple\n",
    "\n",
    "def read_products_from_file(file_name: str) -> Iterator[Tuple[float, float]]:\n",
    "    with open(file_name) as file:\n",
    "        for line in file:\n",
    "            try:\n",
    "                product, price, quantity = line.split(',')\n",
    "                price = float(price.strip())\n",
    "                quantity = float(quantity.strip())\n",
    "            except ValueError as e:\n",
    "                raise ValueError(f'{line} is not CORRECT')\n",
    "            yield price, quantity\n",
    "\n",
    "def calculate_total_price(file_name: str) -> float:\n",
    "    return sum(price * quantity for price, quantity in read_products_from_file(file_name))\n",
    "\n",
    "try:\n",
    "    res = calculate_total_price('products.txt')\n",
    "    print(res)\n",
    "except Exception as e:\n",
    "    print(e)"
   ]
  },
  {
   "cell_type": "code",
   "execution_count": null,
   "id": "16277267-a244-4e1e-8602-a2c3558877b8",
   "metadata": {},
   "outputs": [],
   "source": []
  }
 ],
 "metadata": {
  "kernelspec": {
   "display_name": "Python 3 (ipykernel)",
   "language": "python",
   "name": "python3"
  },
  "language_info": {
   "codemirror_mode": {
    "name": "ipython",
    "version": 3
   },
   "file_extension": ".py",
   "mimetype": "text/x-python",
   "name": "python",
   "nbconvert_exporter": "python",
   "pygments_lexer": "ipython3",
   "version": "3.12.4"
  }
 },
 "nbformat": 4,
 "nbformat_minor": 5
}
