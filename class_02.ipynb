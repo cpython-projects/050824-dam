{
 "cells": [
  {
   "cell_type": "markdown",
   "id": "8e60ad94-d8fe-4cb4-b1af-2bb26e9e111f",
   "metadata": {},
   "source": [
    "**Функция type(obj) возвращает тип объекта**\\\n",
    "*x - это переменная*\\\n",
    "*5 - это объект*\\\n",
    "*int - целое число*"
   ]
  },
  {
   "cell_type": "code",
   "execution_count": 1,
   "id": "26a5955d-e62b-4b9f-bb2f-1a7ca094edce",
   "metadata": {},
   "outputs": [
    {
     "name": "stdout",
     "output_type": "stream",
     "text": [
      "<class 'int'>\n"
     ]
    }
   ],
   "source": [
    "x = 5\n",
    "print(type(x))"
   ]
  },
  {
   "cell_type": "markdown",
   "id": "b106ef47-a13c-4a1d-af25-436033d90190",
   "metadata": {},
   "source": [
    "*float - вещественное число (с точкой)*"
   ]
  },
  {
   "cell_type": "code",
   "execution_count": 1,
   "id": "5e2f8ee7-0d93-4939-9b44-6a3110205c7c",
   "metadata": {},
   "outputs": [
    {
     "name": "stdout",
     "output_type": "stream",
     "text": [
      "<class 'float'>\n"
     ]
    }
   ],
   "source": [
    "x = 4.5\n",
    "print(type(x))"
   ]
  },
  {
   "cell_type": "markdown",
   "id": "7a2c3a80-c890-4e28-aeb6-0a1146bccca3",
   "metadata": {},
   "source": [
    "*bool - логический тип данных*\\\n",
    "*всего два значения - True или False*"
   ]
  },
  {
   "cell_type": "code",
   "execution_count": 3,
   "id": "e7ec5a44-4a87-4eba-8af3-ee425fe1c871",
   "metadata": {},
   "outputs": [
    {
     "name": "stdout",
     "output_type": "stream",
     "text": [
      "<class 'bool'>\n"
     ]
    }
   ],
   "source": [
    "x = True\n",
    "print(type(x))"
   ]
  },
  {
   "cell_type": "markdown",
   "id": "b7af72e5-b6a3-4f3f-b9d8-65651a958ee1",
   "metadata": {},
   "source": [
    "*str - строка*"
   ]
  },
  {
   "cell_type": "code",
   "execution_count": 4,
   "id": "9c79c84d-f8f5-49a8-9b4f-a39ca82c34af",
   "metadata": {},
   "outputs": [
    {
     "name": "stdout",
     "output_type": "stream",
     "text": [
      "<class 'str'>\n",
      "<class 'str'>\n"
     ]
    }
   ],
   "source": [
    "x = 'Hello'\n",
    "y = '3'\n",
    "print(type(x))\n",
    "print(type(y))"
   ]
  },
  {
   "cell_type": "markdown",
   "id": "e5e42171-e03e-4073-8e35-10ba40c4875c",
   "metadata": {},
   "source": [
    "**Значение объекта может быть изменяемым (мутируемым) или неизменяемым (немутируемым). Зависит от типа данных**\\\n",
    "*список - изменяемый объект. Поэтому можем изменить нулевой элемент*"
   ]
  },
  {
   "cell_type": "code",
   "execution_count": 5,
   "id": "5c6755e3-d8d2-471e-9a17-466e0ce349e7",
   "metadata": {},
   "outputs": [
    {
     "name": "stdout",
     "output_type": "stream",
     "text": [
      "[1, 2, 3, 4]\n",
      "[100, 2, 3, 4]\n"
     ]
    }
   ],
   "source": [
    "x = [1, 2, 3, 4]\n",
    "print(x)\n",
    "x[0] = 100\n",
    "print(x)"
   ]
  },
  {
   "cell_type": "markdown",
   "id": "b462b5e8-2578-4192-9e5b-d08185b5c47e",
   "metadata": {},
   "source": [
    "*строка - неизменяемый объект. Поэтому прочитать нулевой символ строки можем, а изменить - НЕТ*"
   ]
  },
  {
   "cell_type": "code",
   "execution_count": 6,
   "id": "0562ed46-bc8d-418a-b35a-14bb39876acf",
   "metadata": {},
   "outputs": [
    {
     "name": "stdout",
     "output_type": "stream",
     "text": [
      "Hello\n",
      "H\n"
     ]
    }
   ],
   "source": [
    "x = 'Hello'\n",
    "print(x)\n",
    "print(x[0])\n"
   ]
  },
  {
   "cell_type": "code",
   "execution_count": 7,
   "id": "2719ecd4-7288-42cd-97b7-d5fdabbad783",
   "metadata": {},
   "outputs": [
    {
     "ename": "TypeError",
     "evalue": "'str' object does not support item assignment",
     "output_type": "error",
     "traceback": [
      "\u001b[1;31m---------------------------------------------------------------------------\u001b[0m",
      "\u001b[1;31mTypeError\u001b[0m                                 Traceback (most recent call last)",
      "Cell \u001b[1;32mIn[7], line 1\u001b[0m\n\u001b[1;32m----> 1\u001b[0m \u001b[43mx\u001b[49m\u001b[43m[\u001b[49m\u001b[38;5;241;43m0\u001b[39;49m\u001b[43m]\u001b[49m \u001b[38;5;241m=\u001b[39m \u001b[38;5;124m'\u001b[39m\u001b[38;5;124mh\u001b[39m\u001b[38;5;124m'\u001b[39m\n\u001b[0;32m      2\u001b[0m \u001b[38;5;28mprint\u001b[39m(x)\n",
      "\u001b[1;31mTypeError\u001b[0m: 'str' object does not support item assignment"
     ]
    }
   ],
   "source": [
    "x[0] = 'h'\n",
    "print(x)"
   ]
  },
  {
   "cell_type": "markdown",
   "id": "e40335fe-cd04-471e-8779-f04a8569259f",
   "metadata": {},
   "source": [
    "**Функция id(obj) возвращает ID объекта**"
   ]
  },
  {
   "cell_type": "code",
   "execution_count": 9,
   "id": "0ecfcdad-1517-461b-9af9-3fdd69263176",
   "metadata": {},
   "outputs": [
    {
     "name": "stdout",
     "output_type": "stream",
     "text": [
      "1932635169312\n"
     ]
    }
   ],
   "source": [
    "print(id(x))"
   ]
  },
  {
   "cell_type": "markdown",
   "id": "8497b50b-505f-4ab7-a50a-f0e762ecb9b2",
   "metadata": {},
   "source": [
    "**Объекты 5 и 6 имеют разные объекты, т.е. находятся в разных ячейках оперативной памяти**"
   ]
  },
  {
   "cell_type": "code",
   "execution_count": 10,
   "id": "0f30003a-6a16-48fc-b3a5-5163d3bdb3e0",
   "metadata": {},
   "outputs": [
    {
     "name": "stdout",
     "output_type": "stream",
     "text": [
      "140726891383352\n",
      "140726891383384\n"
     ]
    }
   ],
   "source": [
    "x = 5\n",
    "print(id(x))\n",
    "x = 6\n",
    "print(id(x))"
   ]
  },
  {
   "cell_type": "markdown",
   "id": "1dcf14e0-9a69-496c-88de-21b71709846d",
   "metadata": {},
   "source": [
    "**Целый тип данных поддерживает базовые арифметические операции**\\\n",
    "*/ - вещественное деление*\\\n",
    "*// - целочисленное деление*\\\n",
    "*% - остаток от деления*"
   ]
  },
  {
   "cell_type": "code",
   "execution_count": 11,
   "id": "543e6deb-bdb0-45af-a632-97a95380004b",
   "metadata": {},
   "outputs": [
    {
     "name": "stdout",
     "output_type": "stream",
     "text": [
      "7\n",
      "3\n",
      "10\n",
      "2.5\n",
      "2\n",
      "1\n"
     ]
    }
   ],
   "source": [
    "x = 5\n",
    "y = 2\n",
    "print(x + y)\n",
    "print(x - y)\n",
    "print(x * y)\n",
    "print(x / y)\n",
    "print(x // y)\n",
    "print(x % y)"
   ]
  },
  {
   "cell_type": "markdown",
   "id": "d7c9476a-c2b9-4d91-b8d5-f2bc1e8fa990",
   "metadata": {},
   "source": [
    "*При целочисленном делении округление выполняется в меньшую сторону до целого*"
   ]
  },
  {
   "cell_type": "code",
   "execution_count": 12,
   "id": "e192b755-4144-4bf8-8dab-a8b627d21755",
   "metadata": {},
   "outputs": [
    {
     "name": "stdout",
     "output_type": "stream",
     "text": [
      "-3\n"
     ]
    }
   ],
   "source": [
    "print(-5 // 2)"
   ]
  },
  {
   "cell_type": "markdown",
   "id": "8120c1e7-8c86-441e-9ce8-c2a9ed390cf5",
   "metadata": {},
   "source": [
    "*\\*\\* - возведение в степень*"
   ]
  },
  {
   "cell_type": "code",
   "execution_count": 13,
   "id": "9a7cdc32-b5e9-4805-a1d6-b3c5b6f32b90",
   "metadata": {},
   "outputs": [
    {
     "name": "stdout",
     "output_type": "stream",
     "text": [
      "16\n"
     ]
    }
   ],
   "source": [
    "x = 4\n",
    "print(x ** 2)"
   ]
  },
  {
   "cell_type": "markdown",
   "id": "7a7ed983-55b6-488b-bfcd-9eac2e8ec456",
   "metadata": {},
   "source": [
    "*Получение квадратного корня. Python поддерживает работу с комплексными числами, поэтому получение квадратного корня от отрицательного числа возможно*"
   ]
  },
  {
   "cell_type": "code",
   "execution_count": 14,
   "id": "9d56dcb4-f92f-48d7-94e1-b736cdeb2268",
   "metadata": {},
   "outputs": [
    {
     "name": "stdout",
     "output_type": "stream",
     "text": [
      "2.0\n"
     ]
    }
   ],
   "source": [
    "x = 4\n",
    "print(x ** 0.5)"
   ]
  },
  {
   "cell_type": "code",
   "execution_count": 19,
   "id": "86cace3e-80cf-4a99-b981-1bc3de14506e",
   "metadata": {},
   "outputs": [
    {
     "name": "stdout",
     "output_type": "stream",
     "text": [
      "1.5874010519681994\n"
     ]
    }
   ],
   "source": [
    "x = 4\n",
    "print(x ** (1/3))"
   ]
  },
  {
   "cell_type": "code",
   "execution_count": 18,
   "id": "9ddd7668-29e7-460b-893a-b1676ecfdb41",
   "metadata": {},
   "outputs": [
    {
     "name": "stdout",
     "output_type": "stream",
     "text": [
      "(1.2246467991473532e-16+2j)\n"
     ]
    }
   ],
   "source": [
    "x = -4\n",
    "print(x ** 0.5)"
   ]
  },
  {
   "cell_type": "markdown",
   "id": "dccb6ff4-afac-4d7b-898e-c099734100e4",
   "metadata": {},
   "source": [
    "*min - функция возвращает объект с минимальным значением*\\\n",
    "*max - функция возвращает объект с максимальным значением*"
   ]
  },
  {
   "cell_type": "code",
   "execution_count": 17,
   "id": "a7dd681b-32b8-4f11-beab-798a4a646eae",
   "metadata": {},
   "outputs": [
    {
     "name": "stdout",
     "output_type": "stream",
     "text": [
      "4\n",
      "1\n"
     ]
    }
   ],
   "source": [
    "x = 4\n",
    "y = 3\n",
    "z = 1\n",
    "res = max(x, y, z)\n",
    "print(res)\n",
    "res = min(x, y, z)\n",
    "print(res)"
   ]
  },
  {
   "cell_type": "markdown",
   "id": "4fe3e405-6ac8-4ddc-bda1-b381db7d212e",
   "metadata": {},
   "source": [
    "*При сложении строк выполняется конкатенация строк (склеивание)*"
   ]
  },
  {
   "cell_type": "code",
   "execution_count": 20,
   "id": "a93be440-037e-42d7-8939-66ace0e002fe",
   "metadata": {},
   "outputs": [
    {
     "name": "stdout",
     "output_type": "stream",
     "text": [
      "Hello User\n"
     ]
    }
   ],
   "source": [
    "x = 'Hello'\n",
    "y = 'User'\n",
    "print(x + ' ' + y)"
   ]
  },
  {
   "cell_type": "markdown",
   "id": "0efa6479-fc82-48c6-b3ef-29d6d602f73a",
   "metadata": {},
   "source": [
    "*\\* при умножении строки на число, выполняется дублирование строки*"
   ]
  },
  {
   "cell_type": "code",
   "execution_count": 21,
   "id": "5f642c69-d073-4ed7-a5f9-dcfe3f96ce16",
   "metadata": {},
   "outputs": [
    {
     "name": "stdout",
     "output_type": "stream",
     "text": [
      "HelloHelloHelloHelloHelloHelloHelloHelloHelloHello\n"
     ]
    }
   ],
   "source": [
    "print(x * 10)"
   ]
  }
 ],
 "metadata": {
  "kernelspec": {
   "display_name": "Python 3 (ipykernel)",
   "language": "python",
   "name": "python3"
  },
  "language_info": {
   "codemirror_mode": {
    "name": "ipython",
    "version": 3
   },
   "file_extension": ".py",
   "mimetype": "text/x-python",
   "name": "python",
   "nbconvert_exporter": "python",
   "pygments_lexer": "ipython3",
   "version": "3.12.5"
  }
 },
 "nbformat": 4,
 "nbformat_minor": 5
}
