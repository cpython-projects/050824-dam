{
 "cells": [
  {
   "cell_type": "code",
   "execution_count": 9,
   "id": "07c3ccad-1850-492d-bc3b-fc1e92a13472",
   "metadata": {},
   "outputs": [
    {
     "name": "stdout",
     "output_type": "stream",
     "text": [
      "4.0\n"
     ]
    }
   ],
   "source": [
    "from typing import List\n",
    "\n",
    "\n",
    "def to_file_emp(emp_name: str):\n",
    "    def decorator(func):\n",
    "        def wrapper(*args, **kwargs):\n",
    "            res = func(*args, **kwargs)\n",
    "            with open(f'{emp_name}.txt', 'a') as file:\n",
    "                file.write(f'{res}\\n')\n",
    "            return res\n",
    "        return wrapper\n",
    "    return decorator\n",
    "\n",
    "\n",
    "@to_file_emp('salary')\n",
    "def avg_salary(salary: List[int | float], months=3) -> int | float:\n",
    "    if len(salary) < months:\n",
    "        raise ValueError('Emp. does not have three salariies')\n",
    "    \n",
    "    return sum(salary[-months:]) / months\n",
    "\n",
    "@to_file_emp('salary')\n",
    "def min_salary(salary: List[int | float]) -> int | float:\n",
    "    return min(salary)\n",
    "\n",
    "\n",
    "\n",
    "\n",
    "salaries = [2, 3, 4, 5, 6, 7, 5, 4, 3]\n",
    "print(min_salary(salaries, months=4))\n"
   ]
  },
  {
   "cell_type": "code",
   "execution_count": 14,
   "id": "b9108d66-8c09-4a08-b24e-272d33d08913",
   "metadata": {},
   "outputs": [
    {
     "name": "stdout",
     "output_type": "stream",
     "text": [
      "True\n"
     ]
    }
   ],
   "source": [
    "class Box:\n",
    "\n",
    "    def __init__(self, x: int | float, y: int | float, z: int | float):\n",
    "        self.x = x\n",
    "        self.y = y\n",
    "        self.z = z\n",
    "\n",
    "    def volume(self):\n",
    "        return self.x * self.y * self.z\n",
    "\n",
    "    def __eq__(self, other):\n",
    "        return self.volume() == other.volume()\n",
    "\n",
    "    def __ne__(self, other):\n",
    "        return self.volume() != other.volume()\n",
    "\n",
    "    def __lt__(self, other):\n",
    "        return self.volume() < other.volume()\n",
    "\n",
    "    def __le__(self, other):\n",
    "        return self.volume() <= other.volume()\n",
    "\n",
    "    def __gt__(self, other):\n",
    "        return self.volume() > other.volume()\n",
    "\n",
    "    def __ge__(self, other):\n",
    "        return self.volume() >= other.volume()\n",
    "\n",
    "    def __mul__(self, other: int | float):\n",
    "        return Box(self.x * other, self.y * other, self.z * other)\n",
    "\n",
    "\n",
    "\n",
    "    def __str__(self):\n",
    "        return f'{self.x} x {self.y} x {self.z}'\n",
    "\n",
    "\n",
    "x1 = Box(5, 6, 7)\n",
    "x2 = Box(8, 9, 10)\n",
    "\n",
    "print(x1 < x2)"
   ]
  },
  {
   "cell_type": "code",
   "execution_count": 15,
   "id": "79336587-4d64-4cf9-9475-12050f40b120",
   "metadata": {},
   "outputs": [
    {
     "name": "stdout",
     "output_type": "stream",
     "text": [
      "[<__main__.Box object at 0x0000014C05B81AC0>, <__main__.Box object at 0x0000014C07CBB7D0>, <__main__.Box object at 0x0000014C07E19010>, <__main__.Box object at 0x0000014C07E19430>, <__main__.Box object at 0x0000014C07E3CE00>, <__main__.Box object at 0x0000014C07E3D370>, <__main__.Box object at 0x0000014C07E3D700>, <__main__.Box object at 0x0000014C07E3D2E0>, <__main__.Box object at 0x0000014C07E3DAC0>, <__main__.Box object at 0x0000014C07E3D820>]\n"
     ]
    }
   ],
   "source": [
    "import random\n",
    "\n",
    "boxes = [Box(x=random.randint(1, 10), y=random.randint(1, 10), z=random.randint(1, 10)) for _ in range(10)]\n",
    "\n",
    "print(boxes)"
   ]
  },
  {
   "cell_type": "code",
   "execution_count": 16,
   "id": "f774d233-d75f-4cea-8ff7-3c895746ac87",
   "metadata": {},
   "outputs": [
    {
     "name": "stdout",
     "output_type": "stream",
     "text": [
      "7 x 5 x 3\n",
      "9 x 9 x 7\n",
      "5 x 10 x 1\n",
      "4 x 3 x 5\n",
      "3 x 1 x 7\n",
      "4 x 9 x 2\n",
      "9 x 10 x 10\n",
      "8 x 10 x 4\n",
      "5 x 7 x 5\n",
      "3 x 6 x 5\n"
     ]
    }
   ],
   "source": [
    "for item in map(str, boxes):\n",
    "    print(item)"
   ]
  },
  {
   "cell_type": "code",
   "execution_count": 17,
   "id": "510dee28-48f8-4b37-85fb-75fbad42d41b",
   "metadata": {},
   "outputs": [
    {
     "name": "stdout",
     "output_type": "stream",
     "text": [
      "3 x 1 x 7\n"
     ]
    }
   ],
   "source": [
    "min_box = min(boxes)\n",
    "print(min_box)"
   ]
  },
  {
   "cell_type": "code",
   "execution_count": 18,
   "id": "176cc1a3-fbbc-4448-a2c3-47657f564687",
   "metadata": {},
   "outputs": [
    {
     "name": "stdout",
     "output_type": "stream",
     "text": [
      "9 x 10 x 10\n"
     ]
    }
   ],
   "source": [
    "max_box = max(boxes)\n",
    "print(max_box)"
   ]
  },
  {
   "cell_type": "code",
   "execution_count": 20,
   "id": "e8dd04ae-c1c5-4e85-87a9-57adbe97cc95",
   "metadata": {},
   "outputs": [
    {
     "name": "stdout",
     "output_type": "stream",
     "text": [
      "3 x 1 x 7\n",
      "5 x 10 x 1\n",
      "4 x 3 x 5\n",
      "4 x 9 x 2\n",
      "3 x 6 x 5\n",
      "7 x 5 x 3\n",
      "5 x 7 x 5\n",
      "8 x 10 x 4\n",
      "9 x 9 x 7\n",
      "9 x 10 x 10\n"
     ]
    }
   ],
   "source": [
    "res = sorted(boxes)\n",
    "for item in map(str, res):\n",
    "    print(item)"
   ]
  },
  {
   "cell_type": "code",
   "execution_count": 21,
   "id": "dda2a40d-6a0d-4c05-84a9-40da65f66308",
   "metadata": {},
   "outputs": [
    {
     "name": "stdout",
     "output_type": "stream",
     "text": [
      "9 x 10 x 10\n",
      "9 x 9 x 7\n",
      "8 x 10 x 4\n",
      "5 x 7 x 5\n",
      "7 x 5 x 3\n",
      "3 x 6 x 5\n",
      "4 x 9 x 2\n",
      "4 x 3 x 5\n",
      "5 x 10 x 1\n",
      "3 x 1 x 7\n"
     ]
    }
   ],
   "source": [
    "res = sorted(boxes, reverse=True)\n",
    "for item in map(str, res):\n",
    "    print(item)"
   ]
  },
  {
   "cell_type": "code",
   "execution_count": null,
   "id": "ac2e2c5d-79d7-484a-a152-934c860501d9",
   "metadata": {},
   "outputs": [],
   "source": [
    "class Product:\n",
    "\n",
    "    def __init__(self, name: str, price: float, category: str):\n",
    "        self.name = name\n",
    "        self.price = price\n",
    "        self.category = category\n",
    "\n",
    "    def __str__(self):\n",
    "        return f'{self.name}: {self.price:.2f}'\n",
    "\n",
    "\n",
    "class Cart:\n",
    "    _id_counter = 0  # Counter for auto-assigning cart IDs.\n",
    "\n",
    "    def __init__(self, status: str = 'active'):\n",
    "        self.id = Cart._id_counter\n",
    "        self.items = {}\n",
    "        self.status = status\n",
    "        Cart._id_counter += 1\n",
    "\n",
    "    def add(self, product: Product, quantity: int = 1):\n",
    "        self.items[product] = self.items.get(product, 0) + quantity\n",
    "\n",
    "    def remove(self, product: Product, quantity: int = 1):\n",
    "        if quantity <= 0:\n",
    "            raise ValueError('Quantity must be a positive integer')\n",
    "\n",
    "        if self.items[product] <= quantity:\n",
    "            del self.items[product]\n",
    "        else:\n",
    "            self.items[product] -= quantity\n",
    "\n",
    "    def total_price(self) -> float:\n",
    "        return sum(product.price * quantity for product, quantity in self.items.items())\n",
    "\n",
    "    def __iter__(self):\n",
    "        for product, quantity in self.items.items():\n",
    "            yield product, quantity\n",
    "\n",
    "    def __getitem__(self, item):\n",
    "        return list(self.items.items())[item]\n",
    "\n",
    "    def __str__(self):\n",
    "        line_header = f'Cart ID: {self.id}, Status: {self.status}, Items:\\n'\n",
    "        lines = (f'{product} x {quantity} = {product.price * quantity:.2f}' for product, quantity in self.items.items())\n",
    "        line_footer = f'\\nTotal: {self.total_price():.2f}'\n",
    "        return line_header + '\\n'.join(lines) + line_footer\n",
    "\n",
    "\n",
    "# Создаем список продуктов\n",
    "products = [\n",
    "    Product(name=\"Smartphone\", price=999.99, category=\"Electronics\"),\n",
    "    Product(name=\"Laptop\", price=1499.99, category=\"Electronics\"),\n",
    "    Product(name=\"Table\", price=299.99, category=\"Furniture\"),\n",
    "    Product(name=\"Chair\", price=149.99, category=\"Furniture\"),\n",
    "    Product(name=\"Headphones\", price=199.99, category=\"Electronics\"),\n",
    "    Product(name=\"Coffee Maker\", price=99.99, category=\"Appliances\"),\n",
    "    Product(name=\"Sofa\", price=799.99, category=\"Furniture\"),\n",
    "]\n",
    "\n",
    "import random\n",
    "cart = Cart()\n",
    "cart.add(products[0], quantity=random.randint(1, 3))\n",
    "cart.add(products[1], quantity=random.randint(1, 3))\n",
    "cart.add(products[2], quantity=random.randint(1, 3))\n",
    "cart.add(products[4], quantity=random.randint(1, 3))\n",
    "print(cart)\n",
    "\n",
    "for product, item in cart:\n",
    "    print(product, item)\n",
    "\n",
    "\n",
    "product, quantity = cart[-1]\n",
    "print(product, quantity)"
   ]
  },
  {
   "cell_type": "code",
   "execution_count": 1,
   "id": "36208c55-75d1-409a-815f-d0c8f52c7be9",
   "metadata": {},
   "outputs": [
    {
     "name": "stdout",
     "output_type": "stream",
     "text": [
      "__class__\n",
      "__delattr__\n",
      "__dir__\n",
      "__doc__\n",
      "__eq__\n",
      "__format__\n",
      "__ge__\n",
      "__getattribute__\n",
      "__getstate__\n",
      "__gt__\n",
      "__hash__\n",
      "__init__\n",
      "__init_subclass__\n",
      "__le__\n",
      "__lt__\n",
      "__ne__\n",
      "__new__\n",
      "__reduce__\n",
      "__reduce_ex__\n",
      "__repr__\n",
      "__setattr__\n",
      "__sizeof__\n",
      "__str__\n",
      "__subclasshook__\n"
     ]
    }
   ],
   "source": [
    "for item in dir(object):\n",
    "    print(item)"
   ]
  },
  {
   "cell_type": "code",
   "execution_count": null,
   "id": "ff3a1dd3-d6ac-48f5-af6a-c37a2a73bdad",
   "metadata": {},
   "outputs": [],
   "source": []
  }
 ],
 "metadata": {
  "kernelspec": {
   "display_name": "Python 3 (ipykernel)",
   "language": "python",
   "name": "python3"
  },
  "language_info": {
   "codemirror_mode": {
    "name": "ipython",
    "version": 3
   },
   "file_extension": ".py",
   "mimetype": "text/x-python",
   "name": "python",
   "nbconvert_exporter": "python",
   "pygments_lexer": "ipython3",
   "version": "3.12.4"
  }
 },
 "nbformat": 4,
 "nbformat_minor": 5
}
