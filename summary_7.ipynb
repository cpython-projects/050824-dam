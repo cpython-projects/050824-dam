{
 "cells": [
  {
   "cell_type": "code",
   "execution_count": 2,
   "id": "e21f47e6-1dd7-4047-8970-872034ec8816",
   "metadata": {},
   "outputs": [
    {
     "name": "stdout",
     "output_type": "stream",
     "text": [
      "4\n",
      "7\n"
     ]
    }
   ],
   "source": [
    "def add(a, b, c=1):\n",
    "    return a + b + c\n",
    "\n",
    "\n",
    "print(add(1, 2))\n",
    "print(add(1, 2, 4))"
   ]
  },
  {
   "cell_type": "code",
   "execution_count": 8,
   "id": "9011d1f6-e30e-4002-b12f-cefc17dde12a",
   "metadata": {},
   "outputs": [
    {
     "name": "stdout",
     "output_type": "stream",
     "text": [
      "10\n",
      "3\n",
      "4\n"
     ]
    }
   ],
   "source": [
    "def calc(a, b, c):\n",
    "    return c * (a + b)\n",
    "\n",
    "print(calc(2, 3, 2))\n",
    "print(calc(b=1, c=1, a=2))\n",
    "print(calc(1, 1, c=2))"
   ]
  },
  {
   "cell_type": "code",
   "execution_count": 9,
   "id": "019c8632-d11c-446f-b46c-754c235081b9",
   "metadata": {},
   "outputs": [
    {
     "name": "stdout",
     "output_type": "stream",
     "text": [
      "['P', 'y', 't', 'h', 'o', 'n']\n"
     ]
    }
   ],
   "source": [
    "x = [1, 2, 3]\n",
    "y = list('Python')\n",
    "print(y)"
   ]
  },
  {
   "cell_type": "code",
   "execution_count": 12,
   "id": "bcf2db39-2a2f-4412-9a1b-e96ec1b6db2a",
   "metadata": {},
   "outputs": [
    {
     "name": "stdin",
     "output_type": "stream",
     "text": [
      "number>> 123456\n"
     ]
    },
    {
     "name": "stdout",
     "output_type": "stream",
     "text": [
      "['1', '2', '3', '4', '5', '6']\n",
      "[1, 2, 3, 4, 5, 6]\n"
     ]
    }
   ],
   "source": [
    "digits = list(input('number>>'))\n",
    "\n",
    "print(digits)\n",
    "\n",
    "for index, item in enumerate(digits):\n",
    "    digits[index] = int(item)\n",
    "\n",
    "print(digits)"
   ]
  },
  {
   "cell_type": "code",
   "execution_count": 13,
   "id": "e0fe91e4-4078-414a-89ca-1f750ed601aa",
   "metadata": {},
   "outputs": [
    {
     "name": "stdin",
     "output_type": "stream",
     "text": [
      "number>> 12345678\n"
     ]
    },
    {
     "name": "stdout",
     "output_type": "stream",
     "text": [
      "[1, 2, 3, 4, 5, 6, 7, 8]\n"
     ]
    }
   ],
   "source": [
    "digits = list(map(int, input('number>>')))\n",
    "print(digits)\n"
   ]
  },
  {
   "cell_type": "code",
   "execution_count": 16,
   "id": "4dc68add-358d-4ae8-8850-6962310bb234",
   "metadata": {},
   "outputs": [
    {
     "name": "stdout",
     "output_type": "stream",
     "text": [
      "[1, 2, 3, 4]\n",
      "[1, 2, 3, 4, 'P', 'y', 't', 'h', 'o', 'n']\n",
      "['n', 'o', 'h', 't', 'y', 'P', 4, 3, 2, 1]\n"
     ]
    }
   ],
   "source": [
    "x = [1, 2, 3]\n",
    "x.append(4)\n",
    "\n",
    "print(x)\n",
    "\n",
    "x.extend('Python')\n",
    "print(x)\n",
    "\n",
    "x.reverse()\n",
    "print(x)"
   ]
  },
  {
   "cell_type": "code",
   "execution_count": 17,
   "id": "b8151327-9dac-4d9e-bc1b-f7e892fe7402",
   "metadata": {},
   "outputs": [
    {
     "name": "stdout",
     "output_type": "stream",
     "text": [
      "['Hello', 'Python']\n"
     ]
    }
   ],
   "source": [
    "x = 'Hello Python'.split()\n",
    "print(x)"
   ]
  },
  {
   "cell_type": "code",
   "execution_count": 20,
   "id": "3ffe3b49-fff9-4385-976e-5f94056dbbb8",
   "metadata": {},
   "outputs": [
    {
     "name": "stdout",
     "output_type": "stream",
     "text": [
      "Hello your age is 20\n"
     ]
    }
   ],
   "source": [
    "x = ['Hello', 'your', 'age', 'is', 20]\n",
    "\n",
    "# x = map(str, x)\n",
    "\n",
    "for index, item in enumerate(x):\n",
    "    if not isinstance(item, str):\n",
    "        x[index] = str(item)\n",
    "\n",
    "res = ' '.join(x)\n",
    "print(res)"
   ]
  },
  {
   "cell_type": "code",
   "execution_count": 25,
   "id": "586e7230-2c64-46fb-89c0-02299fe89331",
   "metadata": {},
   "outputs": [
    {
     "name": "stdout",
     "output_type": "stream",
     "text": [
      "a\n",
      "bb\n",
      "ccc\n",
      "dddd\n",
      "eeeee\n",
      "ffffff\n",
      "ggggggg\n",
      "hhhhhhhh\n",
      "iiiiiiiii\n",
      "jjjjjjjjjj\n",
      "kkkkkkkkkkk\n",
      "llllllllllll\n",
      "mmmmmmmmmmmmm\n",
      "nnnnnnnnnnnnnn\n",
      "ooooooooooooooo\n",
      "pppppppppppppppp\n",
      "qqqqqqqqqqqqqqqqq\n",
      "rrrrrrrrrrrrrrrrrr\n",
      "sssssssssssssssssss\n",
      "tttttttttttttttttttt\n",
      "uuuuuuuuuuuuuuuuuuuuu\n",
      "vvvvvvvvvvvvvvvvvvvvvv\n",
      "wwwwwwwwwwwwwwwwwwwwwww\n",
      "xxxxxxxxxxxxxxxxxxxxxxxx\n",
      "yyyyyyyyyyyyyyyyyyyyyyyyy\n",
      "zzzzzzzzzzzzzzzzzzzzzzzzzz\n"
     ]
    }
   ],
   "source": [
    "import string\n",
    "\n",
    "res = []\n",
    "for index, item in enumerate(string.ascii_lowercase):\n",
    "    res.append(item * (index + 1))\n",
    "print(*res, sep='\\n')"
   ]
  },
  {
   "cell_type": "code",
   "execution_count": 27,
   "id": "fd796775-fdef-43db-a300-239e045c8f24",
   "metadata": {},
   "outputs": [
    {
     "name": "stdout",
     "output_type": "stream",
     "text": [
      "['a', 'bb', 'ccc', 'dddd', 'eeeee', 'ffffff', 'ggggggg', 'hhhhhhhh', 'iiiiiiiii', 'jjjjjjjjjj', 'kkkkkkkkkkk', 'llllllllllll', 'mmmmmmmmmmmmm', 'nnnnnnnnnnnnnn', 'ooooooooooooooo', 'pppppppppppppppp', 'qqqqqqqqqqqqqqqqq', 'rrrrrrrrrrrrrrrrrr', 'sssssssssssssssssss', 'tttttttttttttttttttt', 'uuuuuuuuuuuuuuuuuuuuu', 'vvvvvvvvvvvvvvvvvvvvvv', 'wwwwwwwwwwwwwwwwwwwwwww', 'xxxxxxxxxxxxxxxxxxxxxxxx', 'yyyyyyyyyyyyyyyyyyyyyyyyy', 'zzzzzzzzzzzzzzzzzzzzzzzzzz']\n"
     ]
    }
   ],
   "source": [
    "import string\n",
    "\n",
    "res = list(string.ascii_lowercase)\n",
    "for index, item in enumerate(res):\n",
    "    res[index] = item * (index + 1)\n",
    "\n",
    "print(res)"
   ]
  },
  {
   "cell_type": "code",
   "execution_count": 30,
   "id": "cf06494e-7c18-415d-8ed9-42db32035569",
   "metadata": {},
   "outputs": [
    {
     "name": "stdout",
     "output_type": "stream",
     "text": [
      "(3, 2)\n"
     ]
    },
    {
     "name": "stdin",
     "output_type": "stream",
     "text": [
      "a>> 12\n",
      "b>> 34\n"
     ]
    },
    {
     "name": "stdout",
     "output_type": "stream",
     "text": [
      "Summa: 46, Product: 408\n"
     ]
    }
   ],
   "source": [
    "def sum_product(a, b):\n",
    "    return a + b, a * b\n",
    "\n",
    "\n",
    "res = sum_product(1, 2)\n",
    "print(res)\n",
    "a, b = int(input('a>>')), int(input('b>>'))\n",
    "summa, product = sum_product(a, b)\n",
    "print(f'Summa: {summa}, Product: {product}')"
   ]
  },
  {
   "cell_type": "code",
   "execution_count": 29,
   "id": "04f44bd2-3736-4481-bf88-9fa858f6913f",
   "metadata": {},
   "outputs": [
    {
     "name": "stdout",
     "output_type": "stream",
     "text": [
      "1\n",
      "2\n"
     ]
    }
   ],
   "source": [
    "a, b = (1, 2)\n",
    "print(a)\n",
    "print(b)"
   ]
  },
  {
   "cell_type": "code",
   "execution_count": 33,
   "id": "18b1a00c-da4a-42a3-8f1d-99f60d04f24a",
   "metadata": {},
   "outputs": [
    {
     "name": "stdin",
     "output_type": "stream",
     "text": [
      "numbers: 12 23 343\n"
     ]
    },
    {
     "name": "stdout",
     "output_type": "stream",
     "text": [
      "(378, 343, 12)\n"
     ]
    }
   ],
   "source": [
    "def lst_process(a):\n",
    "    return sum(a), max(a), min(a)\n",
    "\n",
    "\n",
    "lst = input('numbers:').split()\n",
    "# lst = list(map(int, lst))\n",
    "\n",
    "for index, item in enumerate(lst):\n",
    "    lst[index] = int(item)\n",
    "\n",
    "res = lst_process(lst)\n",
    "print(res)"
   ]
  },
  {
   "cell_type": "code",
   "execution_count": 36,
   "id": "e2ea083b-ff86-4a41-be9c-723ba11ed5f1",
   "metadata": {},
   "outputs": [
    {
     "name": "stdin",
     "output_type": "stream",
     "text": [
      "text>> 12 67 676\n"
     ]
    },
    {
     "name": "stdout",
     "output_type": "stream",
     "text": [
      "['12', '67', '676']\n",
      "676 67 12\n"
     ]
    }
   ],
   "source": [
    "import string\n",
    "text = input('text>>')\n",
    "\n",
    "for item in string.punctuation:\n",
    "    text = text.replace(item, ' ')\n",
    "\n",
    "words = text.split()\n",
    "print(words)\n",
    "words.reverse()\n",
    "print(*words)"
   ]
  },
  {
   "cell_type": "code",
   "execution_count": 38,
   "id": "ba93ac1d-5c73-4b42-a19d-89d0e1185c3c",
   "metadata": {},
   "outputs": [
    {
     "name": "stdin",
     "output_type": "stream",
     "text": [
      "Number or Exit: 12\n",
      "Number or Exit: 23\n",
      "Number or Exit: 34\n",
      "Number or Exit: 35\n",
      "Number or Exit: exit\n"
     ]
    },
    {
     "name": "stdout",
     "output_type": "stream",
     "text": [
      "[12, 23, 34, 35]\n"
     ]
    }
   ],
   "source": [
    "res = []\n",
    "\n",
    "while (ans := input('Number or Exit:').lower().strip()) != 'exit':\n",
    "    res.append(int(ans))\n",
    "\n",
    "print(res)"
   ]
  },
  {
   "cell_type": "code",
   "execution_count": null,
   "id": "658f7b47-02b9-415c-9db0-60db3ef30d52",
   "metadata": {},
   "outputs": [],
   "source": []
  }
 ],
 "metadata": {
  "kernelspec": {
   "display_name": "Python 3 (ipykernel)",
   "language": "python",
   "name": "python3"
  },
  "language_info": {
   "codemirror_mode": {
    "name": "ipython",
    "version": 3
   },
   "file_extension": ".py",
   "mimetype": "text/x-python",
   "name": "python",
   "nbconvert_exporter": "python",
   "pygments_lexer": "ipython3",
   "version": "3.12.5"
  }
 },
 "nbformat": 4,
 "nbformat_minor": 5
}
