{
 "cells": [
  {
   "cell_type": "code",
   "execution_count": 2,
   "id": "3ff3bfab-cc6a-46b9-b5c6-910f1478c3d0",
   "metadata": {},
   "outputs": [
    {
     "name": "stdout",
     "output_type": "stream",
     "text": [
      "<class '__main__.Student'>\n",
      "<class 'type'>\n"
     ]
    }
   ],
   "source": [
    "class Student:\n",
    "    def __init__(self, name):\n",
    "        self.name = name\n",
    "\n",
    "x = Student('Bob')\n",
    "print(type(x))\n",
    "print(type(Student))"
   ]
  },
  {
   "cell_type": "code",
   "execution_count": 9,
   "id": "b2422d39-ee7a-450a-9a3c-7adaa26c8813",
   "metadata": {},
   "outputs": [
    {
     "name": "stdout",
     "output_type": "stream",
     "text": [
      "('banana', 2, 1.5)\n",
      "('cheese', 1, 15)\n",
      "('orange', 3, 12)\n",
      "54.0\n"
     ]
    }
   ],
   "source": [
    "class Cart:\n",
    "\n",
    "    def __init__(self):\n",
    "        self.products = []\n",
    "        self.prices = []\n",
    "        self.quantities = []\n",
    "\n",
    "    def add_product(self, product_title: str, price: int | float, quantity: int | float = 1):\n",
    "        if not isinstance(price, int | float):\n",
    "            raise TypeError('Price iis not number')\n",
    "        if not isinstance(quantity, int | float):\n",
    "            raise TypeError('Quantity iis not number')    \n",
    "        if price <= 0:\n",
    "            raise ValueError('Price must be gt 0')\n",
    "        if quantity <= 0:\n",
    "            raise ValueError('Quantity must be gt 0')\n",
    "            \n",
    "        self.products.append(product_title)\n",
    "        self.prices.append(price)\n",
    "        self.quantities.append(quantity)\n",
    "\n",
    "    def cart_item(self):\n",
    "        for product, price, quantity in zip(self.products, self.prices, self.quantities):\n",
    "            yield product, price, quantity\n",
    "\n",
    "    def total(self):\n",
    "        return sum(price * quantity for _, price, quantity in self.cart_item())\n",
    "\n",
    "\n",
    "bob_cart = Cart()\n",
    "bob_cart.add_product('banana', 2, 1.5)\n",
    "bob_cart.add_product('cheese', 1, 15)\n",
    "bob_cart.add_product('orange', 3, 12)\n",
    "\n",
    "for item in bob_cart.cart_item():\n",
    "    print(item)\n",
    "\n",
    "print(bob_cart.total())\n",
    "    "
   ]
  },
  {
   "cell_type": "code",
   "execution_count": 12,
   "id": "67bb689c-4269-4384-8fa6-7368393155bd",
   "metadata": {},
   "outputs": [
    {
     "name": "stdout",
     "output_type": "stream",
     "text": [
      "[3]\n",
      "[3]\n",
      "[3]\n"
     ]
    }
   ],
   "source": [
    "def func(a = None):\n",
    "    if not a:\n",
    "        a = []\n",
    "    a.append(3)\n",
    "    return a\n",
    "\n",
    "\n",
    "print(func())\n",
    "print(func())\n",
    "print(func())"
   ]
  },
  {
   "cell_type": "code",
   "execution_count": 14,
   "id": "cc4eb51f-5859-4f73-a376-9a2c80b7ed0b",
   "metadata": {},
   "outputs": [
    {
     "name": "stdout",
     "output_type": "stream",
     "text": [
      "[3]\n",
      "[3, 3]\n",
      "[3, 3, 3]\n"
     ]
    }
   ],
   "source": [
    "def func(a = []):\n",
    "    a.append(3)\n",
    "    return a\n",
    "\n",
    "print(func())\n",
    "print(func())\n",
    "print(func())"
   ]
  },
  {
   "cell_type": "code",
   "execution_count": null,
   "id": "0363b00b-ae76-4004-b4c3-95839b9b0274",
   "metadata": {},
   "outputs": [],
   "source": []
  }
 ],
 "metadata": {
  "kernelspec": {
   "display_name": "Python 3 (ipykernel)",
   "language": "python",
   "name": "python3"
  },
  "language_info": {
   "codemirror_mode": {
    "name": "ipython",
    "version": 3
   },
   "file_extension": ".py",
   "mimetype": "text/x-python",
   "name": "python",
   "nbconvert_exporter": "python",
   "pygments_lexer": "ipython3",
   "version": "3.12.4"
  }
 },
 "nbformat": 4,
 "nbformat_minor": 5
}
