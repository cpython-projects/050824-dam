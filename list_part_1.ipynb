{
 "cells": [
  {
   "cell_type": "code",
   "execution_count": 2,
   "id": "edf42d82-1cf1-4147-b285-88cf0b8e5be8",
   "metadata": {},
   "outputs": [
    {
     "name": "stdout",
     "output_type": "stream",
     "text": [
      "[2, 4, 6, -8, -10, -12, 14]\n",
      "[-12, -15, -18]\n"
     ]
    }
   ],
   "source": [
    "x = [1, 2, 3, -4, -5, -6, 7]\n",
    "\n",
    "y = [item * 2 for item in x]\n",
    "print(y)\n",
    "\n",
    "y = [item * 3 for item in x if item < 0]\n",
    "print(y)"
   ]
  },
  {
   "cell_type": "code",
   "execution_count": 4,
   "id": "c5c11769-b506-4bce-915a-9d0a86cca522",
   "metadata": {},
   "outputs": [
    {
     "name": "stdin",
     "output_type": "stream",
     "text": [
      "text>> Hello\n"
     ]
    },
    {
     "name": "stdout",
     "output_type": "stream",
     "text": [
      "['*H*', '*e*', '*l*', '*l*', '*o*']\n",
      "*H**e**l**l**o*\n"
     ]
    }
   ],
   "source": [
    "text = input('text>>')\n",
    "y = [f'*{item}*' for item in text]\n",
    "print(y)\n",
    "res = ''.join(y)\n",
    "print(res)"
   ]
  },
  {
   "cell_type": "code",
   "execution_count": 9,
   "id": "a78add1e-57fd-4ce9-a7b0-736ccedc62e8",
   "metadata": {},
   "outputs": [
    {
     "name": "stdout",
     "output_type": "stream",
     "text": [
      "[7, 1, 5, 1, 2]\n",
      "[8, 1, 8, 2, 1]\n",
      "[3, 4, 10, 6, 4]\n",
      "[7, 7, 2, 5, 4]\n",
      "[9, 5, 1, 9, 2]\n",
      "----------\n",
      "[7, 1, 5, 1, 2]\n",
      "[3, 4, 10, 6, 4]\n",
      "[9, 5, 1, 9, 2]\n"
     ]
    }
   ],
   "source": [
    "import random\n",
    "\n",
    "x = [[random.randint(1, 10) for _ in range(5)] for _ in range(5)] \n",
    "\n",
    "print(*x, sep='\\n')\n",
    "print('-' * 10)\n",
    "y = x[::2]\n",
    "\n",
    "print(*y, sep='\\n')"
   ]
  },
  {
   "cell_type": "code",
   "execution_count": 8,
   "id": "2a43f8e3-f110-4af8-ad69-3421c56a8b6b",
   "metadata": {},
   "outputs": [
    {
     "name": "stdout",
     "output_type": "stream",
     "text": [
      "[73, 32, 79, 85, 30]\n",
      "[34, 96, 25, 51, 92]\n",
      "[31, 67, 33, 47, 35]\n",
      "[31, 31, 1, 8, 33]\n",
      "[4, 43, 31, 18, 65]\n"
     ]
    }
   ],
   "source": [
    "x = []\n",
    "\n",
    "for i in range(5):\n",
    "    y = []\n",
    "    for j in range(5):\n",
    "        y.append(random.randint(1, 100))\n",
    "    x.append(y)\n",
    "\n",
    "print(*x, sep='\\n')\n",
    "        "
   ]
  },
  {
   "cell_type": "code",
   "execution_count": 10,
   "id": "dde4f402-4a33-4006-be9b-bef6d9b94cc9",
   "metadata": {},
   "outputs": [
    {
     "name": "stdout",
     "output_type": "stream",
     "text": [
      "[5, -5, 3, 3, -1, -1, 0, -2, -5, 0]\n"
     ]
    }
   ],
   "source": [
    "x = [random.randint(-5, 5) for i in range(10)]\n",
    "print(x)"
   ]
  },
  {
   "cell_type": "code",
   "execution_count": 12,
   "id": "4564925f-5480-4870-b9f6-26cf7f8c19d5",
   "metadata": {},
   "outputs": [
    {
     "name": "stdout",
     "output_type": "stream",
     "text": [
      "11\n"
     ]
    }
   ],
   "source": [
    "y = sum([item for item in x if item > 0])\n",
    "print(y)"
   ]
  },
  {
   "cell_type": "code",
   "execution_count": 14,
   "id": "23f055dd-8411-4d52-a287-df6d0b53ed4a",
   "metadata": {},
   "outputs": [
    {
     "name": "stdout",
     "output_type": "stream",
     "text": [
      "1\t2\t3\t\n",
      "4\t5\t6\t\n",
      "5\t6\t7\t\n"
     ]
    }
   ],
   "source": [
    "m, n = 3, 3\n",
    "x = [\n",
    "    [1, 2, 3],\n",
    "    [4, 5, 6],\n",
    "    [5, 6, 7]\n",
    "]\n",
    "\n",
    "\n",
    "for i in range(m):\n",
    "    for j in range(n):\n",
    "        print(x[i][j], end='\\t')\n",
    "    print()"
   ]
  },
  {
   "cell_type": "code",
   "execution_count": 15,
   "id": "4892a8bd-74f5-4823-bd48-f3bceefdf64a",
   "metadata": {},
   "outputs": [
    {
     "name": "stdout",
     "output_type": "stream",
     "text": [
      "1\t4\t5\t\n",
      "2\t5\t6\t\n",
      "3\t6\t7\t\n"
     ]
    }
   ],
   "source": [
    "for i in range(m):\n",
    "    for j in range(n):\n",
    "        print(x[j][i], end='\\t')\n",
    "    print()"
   ]
  },
  {
   "cell_type": "code",
   "execution_count": 17,
   "id": "f6444046-6770-4688-bfa2-6054ffd37f04",
   "metadata": {},
   "outputs": [
    {
     "name": "stdout",
     "output_type": "stream",
     "text": [
      "4 [1, 2, 3]\n",
      "[1, 2, 3, 5]\n"
     ]
    }
   ],
   "source": [
    "x = []\n",
    "\n",
    "x.append(1)\n",
    "x.append(2)\n",
    "x.append(3)\n",
    "x.append(4)\n",
    "\n",
    "a = x.pop()\n",
    "print(a, x)\n",
    "x.append(5)\n",
    "print(x)"
   ]
  },
  {
   "cell_type": "code",
   "execution_count": 19,
   "id": "7db04c17-1e81-4694-b00e-825874ccdea5",
   "metadata": {},
   "outputs": [
    {
     "name": "stdout",
     "output_type": "stream",
     "text": [
      "1 [2, 3, 4]\n",
      "2 [3, 4]\n",
      "3 [4]\n"
     ]
    }
   ],
   "source": [
    "# Queue\n",
    "x = []\n",
    "\n",
    "x.append(1)\n",
    "x.append(2)\n",
    "x.append(3)\n",
    "x.append(4)\n",
    "\n",
    "a = x.pop(0)\n",
    "print(a, x)\n",
    "a = x.pop(0)\n",
    "print(a, x)\n",
    "a = x.pop(0)\n",
    "print(a, x)\n",
    "\n"
   ]
  },
  {
   "cell_type": "code",
   "execution_count": 23,
   "id": "0264c2d9-3410-468b-8823-71dd4f0916d8",
   "metadata": {},
   "outputs": [
    {
     "name": "stdout",
     "output_type": "stream",
     "text": [
      "[1, 2, 3, 8, 9]\n",
      "[8, 9, 1, 2, 3]\n"
     ]
    }
   ],
   "source": [
    "x = [8, 9, 1, 2, 3]\n",
    "y = x.copy()\n",
    "x.sort(reverse=True)\n",
    "\n",
    "print(x)\n",
    "print(y)"
   ]
  },
  {
   "cell_type": "code",
   "execution_count": null,
   "id": "4bfb654d-eb4e-4298-b7bc-9aefa2e21f5d",
   "metadata": {},
   "outputs": [],
   "source": []
  }
 ],
 "metadata": {
  "kernelspec": {
   "display_name": "Python 3 (ipykernel)",
   "language": "python",
   "name": "python3"
  },
  "language_info": {
   "codemirror_mode": {
    "name": "ipython",
    "version": 3
   },
   "file_extension": ".py",
   "mimetype": "text/x-python",
   "name": "python",
   "nbconvert_exporter": "python",
   "pygments_lexer": "ipython3",
   "version": "3.12.5"
  }
 },
 "nbformat": 4,
 "nbformat_minor": 5
}
