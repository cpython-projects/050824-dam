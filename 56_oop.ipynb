{
 "cells": [
  {
   "cell_type": "code",
   "execution_count": 6,
   "id": "bd0ae36b-e730-498c-902b-9f0683db3004",
   "metadata": {},
   "outputs": [
    {
     "name": "stdout",
     "output_type": "stream",
     "text": [
      "2851962775184\n",
      "2851962781088\n"
     ]
    }
   ],
   "source": [
    "class Person:\n",
    "    \"\"\"\n",
    "    Describes Person\n",
    "    \"\"\"\n",
    "    ...\n",
    "\n",
    "\n",
    "tom = Person()\n",
    "jack = Person()\n",
    "\n",
    "\n",
    "print(id(tom))\n",
    "print(id(jack))\n"
   ]
  },
  {
   "cell_type": "code",
   "execution_count": 7,
   "id": "64de4c8c-a1f6-40df-a4d5-f196fd012534",
   "metadata": {},
   "outputs": [
    {
     "name": "stdout",
     "output_type": "stream",
     "text": [
      "\n",
      "    Describes Person\n",
      "    \n"
     ]
    }
   ],
   "source": [
    "print(dir(Person))\n",
    "print(Person.__doc__)"
   ]
  },
  {
   "cell_type": "code",
   "execution_count": 8,
   "id": "35f7ce48-eaf9-46fe-bbda-260ae82cca8d",
   "metadata": {},
   "outputs": [
    {
     "data": {
      "text/plain": [
       "['__add__',\n",
       " '__class__',\n",
       " '__contains__',\n",
       " '__delattr__',\n",
       " '__dir__',\n",
       " '__doc__',\n",
       " '__eq__',\n",
       " '__format__',\n",
       " '__ge__',\n",
       " '__getattribute__',\n",
       " '__getitem__',\n",
       " '__getnewargs__',\n",
       " '__getstate__',\n",
       " '__gt__',\n",
       " '__hash__',\n",
       " '__init__',\n",
       " '__init_subclass__',\n",
       " '__iter__',\n",
       " '__le__',\n",
       " '__len__',\n",
       " '__lt__',\n",
       " '__mod__',\n",
       " '__mul__',\n",
       " '__ne__',\n",
       " '__new__',\n",
       " '__reduce__',\n",
       " '__reduce_ex__',\n",
       " '__repr__',\n",
       " '__rmod__',\n",
       " '__rmul__',\n",
       " '__setattr__',\n",
       " '__sizeof__',\n",
       " '__str__',\n",
       " '__subclasshook__',\n",
       " 'capitalize',\n",
       " 'casefold',\n",
       " 'center',\n",
       " 'count',\n",
       " 'encode',\n",
       " 'endswith',\n",
       " 'expandtabs',\n",
       " 'find',\n",
       " 'format',\n",
       " 'format_map',\n",
       " 'index',\n",
       " 'isalnum',\n",
       " 'isalpha',\n",
       " 'isascii',\n",
       " 'isdecimal',\n",
       " 'isdigit',\n",
       " 'isidentifier',\n",
       " 'islower',\n",
       " 'isnumeric',\n",
       " 'isprintable',\n",
       " 'isspace',\n",
       " 'istitle',\n",
       " 'isupper',\n",
       " 'join',\n",
       " 'ljust',\n",
       " 'lower',\n",
       " 'lstrip',\n",
       " 'maketrans',\n",
       " 'partition',\n",
       " 'removeprefix',\n",
       " 'removesuffix',\n",
       " 'replace',\n",
       " 'rfind',\n",
       " 'rindex',\n",
       " 'rjust',\n",
       " 'rpartition',\n",
       " 'rsplit',\n",
       " 'rstrip',\n",
       " 'split',\n",
       " 'splitlines',\n",
       " 'startswith',\n",
       " 'strip',\n",
       " 'swapcase',\n",
       " 'title',\n",
       " 'translate',\n",
       " 'upper',\n",
       " 'zfill']"
      ]
     },
     "execution_count": 8,
     "metadata": {},
     "output_type": "execute_result"
    }
   ],
   "source": [
    "dir(str)"
   ]
  },
  {
   "cell_type": "code",
   "execution_count": 9,
   "id": "6ce2bd10-ac89-44e8-9a6f-305a50ec289b",
   "metadata": {},
   "outputs": [
    {
     "name": "stdout",
     "output_type": "stream",
     "text": [
      "Help on method_descriptor:\n",
      "\n",
      "rfind(...) unbound builtins.str method\n",
      "    S.rfind(sub[, start[, end]]) -> int\n",
      "\n",
      "    Return the highest index in S where substring sub is found,\n",
      "    such that sub is contained within S[start:end].  Optional\n",
      "    arguments start and end are interpreted as in slice notation.\n",
      "\n",
      "    Return -1 on failure.\n",
      "\n",
      "None\n"
     ]
    }
   ],
   "source": [
    "print(help(str.rfind))"
   ]
  },
  {
   "cell_type": "code",
   "execution_count": 12,
   "id": "d1c84c48-86a4-4003-a533-2f3e29bccf15",
   "metadata": {},
   "outputs": [
    {
     "name": "stdout",
     "output_type": "stream",
     "text": [
      "['__class__', '__delattr__', '__dict__', '__dir__', '__doc__', '__eq__', '__format__', '__ge__', '__getattribute__', '__getstate__', '__gt__', '__hash__', '__init__', '__init_subclass__', '__le__', '__lt__', '__module__', '__ne__', '__new__', '__reduce__', '__reduce_ex__', '__repr__', '__setattr__', '__sizeof__', '__str__', '__subclasshook__', '__weakref__', 'count', 'name']\n",
      "********************\n",
      "['__class__', '__delattr__', '__dict__', '__dir__', '__doc__', '__eq__', '__format__', '__ge__', '__getattribute__', '__getstate__', '__gt__', '__hash__', '__init__', '__init_subclass__', '__le__', '__lt__', '__module__', '__ne__', '__new__', '__reduce__', '__reduce_ex__', '__repr__', '__setattr__', '__sizeof__', '__str__', '__subclasshook__', '__weakref__', 'count', 'date_of_birth', 'name']\n",
      "********************\n",
      "['__class__', '__delattr__', '__dict__', '__dir__', '__doc__', '__eq__', '__format__', '__ge__', '__getattribute__', '__getstate__', '__gt__', '__hash__', '__init__', '__init_subclass__', '__le__', '__lt__', '__module__', '__ne__', '__new__', '__reduce__', '__reduce_ex__', '__repr__', '__setattr__', '__sizeof__', '__str__', '__subclasshook__', '__weakref__', 'count', 'date_of_birth', 'name']\n",
      "********************\n"
     ]
    }
   ],
   "source": [
    "class Person:\n",
    "    name = 'Person'\n",
    "    count = 0\n",
    "\n",
    "    def __init__(self, name, date_of_birth):\n",
    "        self.name = name\n",
    "        self.date_of_birth = date_of_birth\n",
    "        Person.count += 1\n",
    "\n",
    "\n",
    "tom = Person('Tom', '01.01.2000')\n",
    "bob = Person('Bob', '01.02.2000')\n",
    "\n",
    "\n",
    "print(dir(Person))\n",
    "print('*' * 20)\n",
    "print(dir(tom))\n",
    "print('*' * 20)\n",
    "print(dir(bob))\n",
    "print('*' * 20)"
   ]
  },
  {
   "cell_type": "code",
   "execution_count": 13,
   "id": "40ddd4a6-c2f0-4a1e-8269-90057b0d7a5c",
   "metadata": {},
   "outputs": [
    {
     "name": "stdout",
     "output_type": "stream",
     "text": [
      "{'__module__': '__main__', 'name': 'Person', 'count': 2, '__init__': <function Person.__init__ at 0x0000029806704EA0>, '__dict__': <attribute '__dict__' of 'Person' objects>, '__weakref__': <attribute '__weakref__' of 'Person' objects>, '__doc__': None}\n",
      "********************\n",
      "{'name': 'Tom', 'date_of_birth': '01.01.2000'}\n",
      "********************\n",
      "{'name': 'Bob', 'date_of_birth': '01.02.2000'}\n",
      "********************\n"
     ]
    }
   ],
   "source": [
    "class Person:\n",
    "    name = 'Person'\n",
    "    count = 0\n",
    "\n",
    "    def __init__(self, name, date_of_birth):\n",
    "        self.name = name\n",
    "        self.date_of_birth = date_of_birth\n",
    "        Person.count += 1\n",
    "\n",
    "\n",
    "tom = Person('Tom', '01.01.2000')\n",
    "bob = Person('Bob', '01.02.2000')\n",
    "\n",
    "\n",
    "print(Person.__dict__)\n",
    "print('*' * 20)\n",
    "print(tom.__dict__)\n",
    "print('*' * 20)\n",
    "print(bob.__dict__)\n",
    "print('*' * 20)"
   ]
  },
  {
   "cell_type": "code",
   "execution_count": 14,
   "id": "8d0c02ac-67d4-46e3-befb-2c001bbc8178",
   "metadata": {},
   "outputs": [
    {
     "name": "stdout",
     "output_type": "stream",
     "text": [
      "{'__module__': '__main__', 'name': 'Person', 'count': 2, '__init__': <function Person.__init__ at 0x0000029806704AE0>, '__str__': <function Person.__str__ at 0x0000029806705080>, '__dict__': <attribute '__dict__' of 'Person' objects>, '__weakref__': <attribute '__weakref__' of 'Person' objects>, '__doc__': None}\n",
      "********************\n",
      "{'name': 'Tom', 'date_of_birth': '01.01.2000'}\n",
      "********************\n",
      "{'name': 'Bob', 'date_of_birth': '01.02.2000'}\n",
      "********************\n",
      "Tom 01.01.2000\n",
      "Bob 01.02.2000\n"
     ]
    }
   ],
   "source": [
    "class Person:\n",
    "    name = 'Person'\n",
    "    count = 0\n",
    "\n",
    "    def __init__(self, name, date_of_birth):\n",
    "        self.name = name\n",
    "        self.date_of_birth = date_of_birth\n",
    "        Person.count += 1\n",
    "\n",
    "    def __str__(self):\n",
    "        return f'{self.name} {self.date_of_birth}'\n",
    "\n",
    "\n",
    "\n",
    "tom = Person('Tom', '01.01.2000')\n",
    "bob = Person('Bob', '01.02.2000')\n",
    "\n",
    "\n",
    "print(Person.__dict__)\n",
    "print('*' * 20)\n",
    "print(tom.__dict__)\n",
    "print('*' * 20)\n",
    "print(bob.__dict__)\n",
    "print('*' * 20)\n",
    "\n",
    "\n",
    "\n",
    "print(tom)\n",
    "print(bob)\n"
   ]
  },
  {
   "cell_type": "code",
   "execution_count": 15,
   "id": "1e0d31fe-4e4e-46b3-a697-e7ebe0e86b8b",
   "metadata": {},
   "outputs": [
    {
     "name": "stdout",
     "output_type": "stream",
     "text": [
      "5\n",
      "<class 'str'>\n"
     ]
    }
   ],
   "source": [
    "x = (5).__str__()\n",
    "print(x)\n",
    "print(type(x))"
   ]
  },
  {
   "cell_type": "code",
   "execution_count": null,
   "id": "40b98a1f-71cd-4869-b3bb-48a95dbfdf57",
   "metadata": {},
   "outputs": [],
   "source": []
  }
 ],
 "metadata": {
  "kernelspec": {
   "display_name": "Python 3 (ipykernel)",
   "language": "python",
   "name": "python3"
  },
  "language_info": {
   "codemirror_mode": {
    "name": "ipython",
    "version": 3
   },
   "file_extension": ".py",
   "mimetype": "text/x-python",
   "name": "python",
   "nbconvert_exporter": "python",
   "pygments_lexer": "ipython3",
   "version": "3.12.4"
  }
 },
 "nbformat": 4,
 "nbformat_minor": 5
}
