{
 "cells": [
  {
   "cell_type": "code",
   "execution_count": 4,
   "id": "3819221a-4806-4d7e-941d-7cac47a03d49",
   "metadata": {},
   "outputs": [
    {
     "name": "stdout",
     "output_type": "stream",
     "text": [
      "bltgtlbgndf\n"
     ]
    }
   ],
   "source": [
    "letters = 'AbltOJFHgtlbgndfWLFNT'\n",
    "res = ''\n",
    "for letter in letters:\n",
    "    if not letter.isupper():\n",
    "        res += letter\n",
    "print(res)"
   ]
  },
  {
   "cell_type": "code",
   "execution_count": 7,
   "id": "22a2cf7e-e314-4889-b2fc-88bea2538597",
   "metadata": {},
   "outputs": [
    {
     "name": "stdout",
     "output_type": "stream",
     "text": [
      "10 8 6 4\n"
     ]
    }
   ],
   "source": [
    "print(*range(10, 2, -2))"
   ]
  },
  {
   "cell_type": "code",
   "execution_count": 8,
   "id": "debadcab-762e-4fd4-89c9-dc4ebd949a5b",
   "metadata": {},
   "outputs": [
    {
     "name": "stdout",
     "output_type": "stream",
     "text": [
      "0\n",
      "1\n",
      "2\n",
      "3\n",
      "4\n"
     ]
    }
   ],
   "source": [
    "for i in range(5):\n",
    "    print(i)"
   ]
  },
  {
   "cell_type": "code",
   "execution_count": 10,
   "id": "cda236ad-5b20-402a-b6ba-0807f516e6a9",
   "metadata": {},
   "outputs": [
    {
     "name": "stdin",
     "output_type": "stream",
     "text": [
      "n= 23\n",
      "n= 34\n",
      "n= 34\n",
      "n= 23\n",
      "n= 12\n"
     ]
    },
    {
     "name": "stdout",
     "output_type": "stream",
     "text": [
      "[23, 34, 34, 23, 12]\n"
     ]
    }
   ],
   "source": [
    "x = []\n",
    "for _ in range(5):\n",
    "    ans = int(input('n='))\n",
    "    x.append(ans)\n",
    "print(x)"
   ]
  },
  {
   "cell_type": "code",
   "execution_count": 11,
   "id": "a0166c38-bcb9-472f-ac5e-7634fa89163f",
   "metadata": {},
   "outputs": [
    {
     "name": "stdout",
     "output_type": "stream",
     "text": [
      "[0, 1, 2, 3, 4, 5, 6, 7, 8, 9]\n"
     ]
    }
   ],
   "source": [
    "x = list(range(10))\n",
    "print(x)"
   ]
  },
  {
   "cell_type": "code",
   "execution_count": 12,
   "id": "8d816df4-0f9d-409e-9cee-7e70566bc02e",
   "metadata": {},
   "outputs": [
    {
     "name": "stdout",
     "output_type": "stream",
     "text": [
      "[5, 6, 7, 8, 9]\n"
     ]
    }
   ],
   "source": [
    "x = list(range(5, 10))\n",
    "print(x)"
   ]
  },
  {
   "cell_type": "code",
   "execution_count": 13,
   "id": "10b1f314-1a41-42ac-b4c2-32d8bf58cb2e",
   "metadata": {},
   "outputs": [
    {
     "name": "stdout",
     "output_type": "stream",
     "text": [
      "[10, 13, 16, 19]\n"
     ]
    }
   ],
   "source": [
    "x = list(range(10, 20, 3))\n",
    "print(x)"
   ]
  },
  {
   "cell_type": "code",
   "execution_count": 14,
   "id": "d58817ec-bf23-46a2-a50d-5a7335781eb6",
   "metadata": {},
   "outputs": [
    {
     "name": "stdout",
     "output_type": "stream",
     "text": [
      "H\n",
      "e\n",
      "l\n",
      "l\n",
      "o\n",
      ",\n",
      " \n",
      "w\n",
      "o\n",
      "r\n",
      "l\n",
      "d\n"
     ]
    }
   ],
   "source": [
    "x = 'Hello, world'\n",
    "\n",
    "i = 0\n",
    "while i < len(x):\n",
    "    print(x[i])\n",
    "    i += 1"
   ]
  },
  {
   "cell_type": "code",
   "execution_count": 17,
   "id": "21627e57-999f-4e5e-977a-eee53d51e0cb",
   "metadata": {},
   "outputs": [
    {
     "name": "stdout",
     "output_type": "stream",
     "text": [
      "0 H\n",
      "1 e\n",
      "2 l\n",
      "3 l\n",
      "4 o\n"
     ]
    }
   ],
   "source": [
    "x = 'Hello'\n",
    "\n",
    "for i in range(len(x)):\n",
    "    print(i, x[i])"
   ]
  },
  {
   "cell_type": "code",
   "execution_count": 18,
   "id": "792392b0-f7f0-4034-9371-d7de7039ffe2",
   "metadata": {},
   "outputs": [
    {
     "name": "stdout",
     "output_type": "stream",
     "text": [
      "0 H\n",
      "1 e\n",
      "2 l\n",
      "3 l\n",
      "4 o\n"
     ]
    }
   ],
   "source": [
    "for i, item in enumerate(x):\n",
    "    print(i, item)\n",
    "\n",
    "print(x[-1])"
   ]
  },
  {
   "cell_type": "code",
   "execution_count": 23,
   "id": "5b1ff6a8-725f-4ac5-b394-a4da8689f2e9",
   "metadata": {},
   "outputs": [
    {
     "name": "stdout",
     "output_type": "stream",
     "text": [
      "(0, 'P') (1, 'y') (2, 't') (3, 'h') (4, 'o') (5, 'n')\n"
     ]
    }
   ],
   "source": [
    "print(*enumerate(x))"
   ]
  },
  {
   "cell_type": "code",
   "execution_count": 21,
   "id": "384f6f2d-5778-4870-8878-4dc87d13264a",
   "metadata": {},
   "outputs": [
    {
     "name": "stdout",
     "output_type": "stream",
     "text": [
      "P*y*t*h*o*n\n"
     ]
    }
   ],
   "source": [
    "x = 'Python'\n",
    "print(*x, sep='*')"
   ]
  },
  {
   "cell_type": "code",
   "execution_count": 1,
   "id": "c1063c31-3de0-42e8-b904-c2c3eea14e9e",
   "metadata": {},
   "outputs": [
    {
     "name": "stdout",
     "output_type": "stream",
     "text": [
      "0 12\n",
      "1 23\n",
      "2 3\n",
      "3 56\n",
      "4 67\n",
      "5 78\n",
      "\n"
     ]
    }
   ],
   "source": [
    "x = [12, 23, 3, 56, 67, 78]\n",
    "res = ''\n",
    "for i, item in enumerate(x):\n",
    "    res += f'{i} {item}\\n'\n",
    "print(res)"
   ]
  },
  {
   "cell_type": "code",
   "execution_count": 31,
   "id": "16434092-b488-4c2d-bab0-e86b2ab24283",
   "metadata": {},
   "outputs": [
    {
     "name": "stdout",
     "output_type": "stream",
     "text": [
      "apple 1 x 10 = 10 DKK\n",
      "banana 2 x 20 = 40 DKK\n",
      "orange 1.5 x 30 = 45.0 DKK\n",
      "Total: 95.0 DKK\n"
     ]
    }
   ],
   "source": [
    "x = ['apple', 'banana', 'orange']\n",
    "prices = [10, 20, 30]\n",
    "cart = [1, 2, 1.5]\n",
    "total = 0\n",
    "for item, price, quantity in zip(x, prices, cart):\n",
    "    print(f'{item} {quantity} x {price} = {quantity * price} DKK')\n",
    "    total += quantity * price\n",
    "print(f'Total: {total} DKK')\n"
   ]
  },
  {
   "cell_type": "code",
   "execution_count": 1,
   "id": "a562ef84-bdd8-4d5d-9192-56779c9f4545",
   "metadata": {},
   "outputs": [
    {
     "name": "stdin",
     "output_type": "stream",
     "text": [
      "text>> Hello,world! Python        is amazing!!!!\n"
     ]
    }
   ],
   "source": [
    "text = input('text>>')"
   ]
  },
  {
   "cell_type": "code",
   "execution_count": 3,
   "id": "b0f2af18-fbd7-4849-b6f0-9f4f7b1d2659",
   "metadata": {},
   "outputs": [
    {
     "name": "stdout",
     "output_type": "stream",
     "text": [
      "!\"#$%&'()*+,-./:;<=>?@[\\]^_`{|}~\n"
     ]
    }
   ],
   "source": [
    "import string\n",
    "print(string.punctuation)"
   ]
  },
  {
   "cell_type": "code",
   "execution_count": 4,
   "id": "178b84a3-f29b-4b81-b4f6-84f6b745ac97",
   "metadata": {},
   "outputs": [
    {
     "name": "stdout",
     "output_type": "stream",
     "text": [
      "Hello world  Python        is amazing    \n"
     ]
    }
   ],
   "source": [
    "for char in string.punctuation:\n",
    "    text = text.replace(char, ' ')\n",
    "print(text)"
   ]
  },
  {
   "cell_type": "code",
   "execution_count": 5,
   "id": "971c7390-7a70-46b5-a958-fe9553b350b5",
   "metadata": {},
   "outputs": [
    {
     "name": "stdout",
     "output_type": "stream",
     "text": [
      "['Hello', 'world', 'Python', 'is', 'amazing']\n"
     ]
    }
   ],
   "source": [
    "text = text.split()\n",
    "print(text)"
   ]
  },
  {
   "cell_type": "code",
   "execution_count": 6,
   "id": "3ef66b76-191a-46b6-aedf-b49acf613008",
   "metadata": {},
   "outputs": [
    {
     "name": "stdout",
     "output_type": "stream",
     "text": [
      "['Hello', 'world', 'Python', 'is', 'amazing']\n",
      "['amazing', 'is', 'Python', 'world', 'Hello']\n"
     ]
    }
   ],
   "source": [
    "res = text[::-1]\n",
    "print(text)\n",
    "print(res)"
   ]
  },
  {
   "cell_type": "code",
   "execution_count": 7,
   "id": "0ff91eb1-d9ee-40f9-b081-8b72c1f33804",
   "metadata": {},
   "outputs": [
    {
     "name": "stdout",
     "output_type": "stream",
     "text": [
      "amazing\n",
      "is\n",
      "Python\n",
      "world\n",
      "Hello\n"
     ]
    }
   ],
   "source": [
    "for item in reversed(text):\n",
    "    print(item)"
   ]
  },
  {
   "cell_type": "code",
   "execution_count": 8,
   "id": "2a3ee069-0c59-4e95-b922-e55add96b0cd",
   "metadata": {},
   "outputs": [
    {
     "name": "stdout",
     "output_type": "stream",
     "text": [
      "amazing\n",
      "is\n",
      "Python\n",
      "world\n",
      "Hello\n"
     ]
    }
   ],
   "source": [
    "for i in range(-1, -len(text) - 1, -1):\n",
    "    print(text[i])\n",
    "    "
   ]
  },
  {
   "cell_type": "code",
   "execution_count": 9,
   "id": "60bf3344-689b-4631-8494-85fea5b67f9e",
   "metadata": {},
   "outputs": [],
   "source": [
    "with open('data.txt', 'w') as file:\n",
    "    for item in reversed(text):\n",
    "        file.write(f'{item}\\n')"
   ]
  },
  {
   "cell_type": "code",
   "execution_count": null,
   "id": "1499ab9b-aba8-46e1-b7d8-3528065d7ae7",
   "metadata": {},
   "outputs": [],
   "source": []
  }
 ],
 "metadata": {
  "kernelspec": {
   "display_name": "Python 3 (ipykernel)",
   "language": "python",
   "name": "python3"
  },
  "language_info": {
   "codemirror_mode": {
    "name": "ipython",
    "version": 3
   },
   "file_extension": ".py",
   "mimetype": "text/x-python",
   "name": "python",
   "nbconvert_exporter": "python",
   "pygments_lexer": "ipython3",
   "version": "3.12.5"
  }
 },
 "nbformat": 4,
 "nbformat_minor": 5
}
